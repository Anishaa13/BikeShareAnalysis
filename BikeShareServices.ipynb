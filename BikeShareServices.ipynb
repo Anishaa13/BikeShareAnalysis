{
  "cells": [
    {
      "cell_type": "markdown",
      "id": "6c5ba474",
      "metadata": {
        "papermill": {
          "duration": 0.01533,
          "end_time": "2023-03-30T19:58:44.274741",
          "exception": false,
          "start_time": "2023-03-30T19:58:44.259411",
          "status": "completed"
        },
        "tags": [],
        "id": "6c5ba474"
      },
      "source": [
        "# Cyclistic Case Study\n",
        "Author: Anisha Sharma"
      ]
    },
    {
      "cell_type": "markdown",
      "id": "5382c897",
      "metadata": {
        "papermill": {
          "duration": 0.015466,
          "end_time": "2023-03-30T19:58:44.304375",
          "exception": false,
          "start_time": "2023-03-30T19:58:44.288909",
          "status": "completed"
        },
        "tags": [],
        "id": "5382c897"
      },
      "source": [
        "## Summary\n",
        "Cyclistic is a fictional startup which launched a successful bike-sharing program in 2016 with a fleet of 5,824 bikes and 692 stations across Chicago. The bikes can be picked up and returned to any station anytime. Cyclistic's marketing strategy has focused on appealing to a broad audience with flexible pricing options for single-ride, full-day, and annual passes.\n",
        "The company's finance analysts have determined that annual members are more profitable than casual riders, and their goal is to convert casual riders into members. To do this, the marketing team wants to better understand the differences between the two groups and use data analysis to identify trends."
      ]
    },
    {
      "cell_type": "markdown",
      "id": "97ef2607",
      "metadata": {
        "papermill": {
          "duration": 0.014076,
          "end_time": "2023-03-30T19:58:44.333427",
          "exception": false,
          "start_time": "2023-03-30T19:58:44.319351",
          "status": "completed"
        },
        "tags": [],
        "id": "97ef2607"
      },
      "source": [
        "# 1.- Ask\n",
        "\n",
        "### Key Stakeholders.\n",
        "* Lily Moreno: Director of marketing and manager.\n",
        "* Cyclistic marketing analytics team.\n",
        "* Cyclistic executive team.\n",
        "\n",
        "### Business task.\n",
        "\n",
        "Identify the differences between “casual” and “member” users, in order to build marketing strategies to convince casual users to turn into members."
      ]
    },
    {
      "cell_type": "markdown",
      "id": "83336e39",
      "metadata": {
        "papermill": {
          "duration": 0.014258,
          "end_time": "2023-03-30T19:58:44.362114",
          "exception": false,
          "start_time": "2023-03-30T19:58:44.347856",
          "status": "completed"
        },
        "tags": [],
        "id": "83336e39"
      },
      "source": [
        "# 2.-Prepare\n",
        "\n",
        "### Dataset used.\n",
        "The data is public data provided by Motivate International Inc. Under a license agreement made between Lyft Bikes and Scooters, LLC. and the city of Chicago. The license can be read [here](https://ride.divvybikes.com/data-license-agreement).\n",
        "\n",
        "### Information about our dataset.\n",
        "Data is available from april 2021 to march 2022. Every dataset files are in CSV format, and divided between the months.\n",
        "\n",
        "### Data organization.\n",
        "For our purpose, we will use all the data available."
      ]
    },
    {
      "cell_type": "markdown",
      "id": "46fadcd3",
      "metadata": {
        "papermill": {
          "duration": 0.013998,
          "end_time": "2023-03-30T19:58:44.390304",
          "exception": false,
          "start_time": "2023-03-30T19:58:44.376306",
          "status": "completed"
        },
        "tags": [],
        "id": "46fadcd3"
      },
      "source": [
        "# 3. Process\n",
        "### Loading the datasets"
      ]
    },
    {
      "cell_type": "code",
      "execution_count": 1,
      "id": "82633659",
      "metadata": {
        "execution": {
          "iopub.execute_input": "2023-03-30T19:58:44.420572Z",
          "iopub.status.busy": "2023-03-30T19:58:44.420199Z",
          "iopub.status.idle": "2023-03-30T19:58:45.471841Z",
          "shell.execute_reply": "2023-03-30T19:58:45.470668Z"
        },
        "papermill": {
          "duration": 1.069863,
          "end_time": "2023-03-30T19:58:45.474462",
          "exception": false,
          "start_time": "2023-03-30T19:58:44.404599",
          "status": "completed"
        },
        "tags": [],
        "id": "82633659"
      },
      "outputs": [],
      "source": [
        "import pandas as pd\n",
        "import numpy as np\n",
        "import datetime as dt\n",
        "import matplotlib.pyplot as plt\n",
        "import seaborn as sns"
      ]
    },
    {
      "cell_type": "code",
      "execution_count": 2,
      "id": "86d00080",
      "metadata": {
        "_cell_guid": "b1076dfc-b9ad-4769-8c92-a6c4dae69d19",
        "_uuid": "8f2839f25d086af736a60e9eeb907d3b93b6e0e5",
        "execution": {
          "iopub.execute_input": "2023-03-30T19:58:45.507955Z",
          "iopub.status.busy": "2023-03-30T19:58:45.506777Z",
          "iopub.status.idle": "2023-03-30T19:58:45.523162Z",
          "shell.execute_reply": "2023-03-30T19:58:45.521344Z"
        },
        "papermill": {
          "duration": 0.035647,
          "end_time": "2023-03-30T19:58:45.525615",
          "exception": false,
          "start_time": "2023-03-30T19:58:45.489968",
          "status": "completed"
        },
        "tags": [],
        "colab": {
          "base_uri": "https://localhost:8080/"
        },
        "id": "86d00080",
        "outputId": "7ff31675-8628-46f2-8f88-7123026cfe31"
      },
      "outputs": [
        {
          "output_type": "stream",
          "name": "stdout",
          "text": [
            "/content/202201-divvy-tripdata.csv\n",
            "/content/202111-divvy-tripdata.csv\n",
            "/content/202202-divvy-tripdata.csv\n",
            "/content/202109-divvy-tripdata.csv\n",
            "/content/202105-divvy-tripdata.csv\n",
            "/content/202108-divvy-tripdata.csv\n",
            "/content/202203-divvy-tripdata.csv\n",
            "/content/202107-divvy-tripdata.csv\n",
            "/content/202104-divvy-tripdata.csv\n",
            "/content/202110-divvy-tripdata.csv\n",
            "/content/202106-divvy-tripdata.csv\n",
            "/content/202112-divvy-tripdata.csv\n",
            "/content/cleaned_data.csv\n",
            "/content/.config/.last_survey_prompt.yaml\n",
            "/content/.config/.last_opt_in_prompt.yaml\n",
            "/content/.config/config_sentinel\n",
            "/content/.config/.last_update_check.json\n",
            "/content/.config/default_configs.db\n",
            "/content/.config/gce\n",
            "/content/.config/active_config\n",
            "/content/.config/logs/2024.07.09/13.20.17.791346.log\n",
            "/content/.config/logs/2024.07.09/13.21.00.378803.log\n",
            "/content/.config/logs/2024.07.09/13.20.49.880826.log\n",
            "/content/.config/logs/2024.07.09/13.20.38.868154.log\n",
            "/content/.config/logs/2024.07.09/13.20.59.763396.log\n",
            "/content/.config/logs/2024.07.09/13.20.48.791870.log\n",
            "/content/.config/configurations/config_default\n",
            "/content/sample_data/anscombe.json\n",
            "/content/sample_data/README.md\n",
            "/content/sample_data/mnist_test.csv\n",
            "/content/sample_data/california_housing_test.csv\n",
            "/content/sample_data/mnist_train_small.csv\n",
            "/content/sample_data/california_housing_train.csv\n"
          ]
        }
      ],
      "source": [
        "import os\n",
        "for dirname, _, filenames in os.walk('/content'):\n",
        "    for filename in filenames:\n",
        "        print(os.path.join(dirname, filename))"
      ]
    },
    {
      "cell_type": "code",
      "execution_count": 3,
      "id": "bd794e4b",
      "metadata": {
        "execution": {
          "iopub.execute_input": "2023-03-30T19:58:45.556133Z",
          "iopub.status.busy": "2023-03-30T19:58:45.555780Z",
          "iopub.status.idle": "2023-03-30T19:59:13.534865Z",
          "shell.execute_reply": "2023-03-30T19:59:13.533921Z"
        },
        "papermill": {
          "duration": 27.997277,
          "end_time": "2023-03-30T19:59:13.537442",
          "exception": false,
          "start_time": "2023-03-30T19:58:45.540165",
          "status": "completed"
        },
        "tags": [],
        "id": "bd794e4b"
      },
      "outputs": [],
      "source": [
        "april_21 = pd.read_csv('/content/202104-divvy-tripdata.csv')\n",
        "may_21 = pd.read_csv('/content/202105-divvy-tripdata.csv')\n",
        "june_21 = pd.read_csv('/content/202106-divvy-tripdata.csv')\n",
        "july_21 = pd.read_csv('/content/202107-divvy-tripdata.csv')\n",
        "august_21 = pd.read_csv('/content/202108-divvy-tripdata.csv')\n",
        "september_21 = pd.read_csv('/content/202109-divvy-tripdata.csv')\n",
        "october_21 = pd.read_csv('/content/202110-divvy-tripdata.csv')\n",
        "november_21 = pd.read_csv('/content/202111-divvy-tripdata.csv')\n",
        "december_21 = pd.read_csv('/content/202112-divvy-tripdata.csv')\n",
        "january_22 = pd.read_csv('/content/202201-divvy-tripdata.csv')\n",
        "february_22 = pd.read_csv('/content/202202-divvy-tripdata.csv')\n",
        "march_22 = pd.read_csv('/content/202203-divvy-tripdata.csv')"
      ]
    },
    {
      "cell_type": "markdown",
      "id": "4737e77b",
      "metadata": {
        "papermill": {
          "duration": 0.014058,
          "end_time": "2023-03-30T19:59:13.566187",
          "exception": false,
          "start_time": "2023-03-30T19:59:13.552129",
          "status": "completed"
        },
        "tags": [],
        "id": "4737e77b"
      },
      "source": [
        "### Combining the datasets"
      ]
    },
    {
      "cell_type": "code",
      "execution_count": 4,
      "id": "6635070a",
      "metadata": {
        "execution": {
          "iopub.execute_input": "2023-03-30T19:59:13.597239Z",
          "iopub.status.busy": "2023-03-30T19:59:13.596793Z",
          "iopub.status.idle": "2023-03-30T19:59:14.759021Z",
          "shell.execute_reply": "2023-03-30T19:59:14.758199Z"
        },
        "papermill": {
          "duration": 1.180414,
          "end_time": "2023-03-30T19:59:14.760970",
          "exception": false,
          "start_time": "2023-03-30T19:59:13.580556",
          "status": "completed"
        },
        "tags": [],
        "colab": {
          "base_uri": "https://localhost:8080/",
          "height": 791
        },
        "id": "6635070a",
        "outputId": "72e4d6dc-4627-4ca3-8732-0e5c2195b672"
      },
      "outputs": [
        {
          "output_type": "execute_result",
          "data": {
            "text/plain": [
              "                 ride_id  rideable_type           started_at  \\\n",
              "0       6C992BD37A98A63F   classic_bike  2021-04-12 18:25:36   \n",
              "1       1E0145613A209000    docked_bike  2021-04-27 17:27:11   \n",
              "2       E498E15508A80BAD    docked_bike  2021-04-03 12:42:45   \n",
              "3       1887262AD101C604   classic_bike  2021-04-17 09:17:42   \n",
              "4       C123548CAB2A32A5    docked_bike  2021-04-03 12:42:25   \n",
              "...                  ...            ...                  ...   \n",
              "284037  E23BE3DB740BE3B4    docked_bike  2022-03-13 16:31:03   \n",
              "284038  15AF71F3220F2A75    docked_bike  2022-03-09 06:56:02   \n",
              "284039  9C4CE6CC19F8225B  electric_bike  2022-03-09 15:55:26   \n",
              "284040  F4E136DEF696F3AE  electric_bike  2022-03-21 16:12:44   \n",
              "284041  5AEC5F39AF711895   classic_bike  2022-03-03 18:13:40   \n",
              "\n",
              "                   ended_at        start_station_name start_station_id  \\\n",
              "0       2021-04-12 18:56:55     State St & Pearson St     TA1307000061   \n",
              "1       2021-04-27 18:31:29  Dorchester Ave & 49th St     KA1503000069   \n",
              "2       2021-04-07 11:40:24     Loomis Blvd & 84th St            20121   \n",
              "3       2021-04-17 09:42:48   Honore St & Division St     TA1305000034   \n",
              "4       2021-04-03 14:13:42     Loomis Blvd & 84th St            20121   \n",
              "...                     ...                       ...              ...   \n",
              "284037  2022-03-13 16:39:32     Michigan Ave & Oak St            13042   \n",
              "284038  2022-03-09 07:42:14      Broadway & Barry Ave            13137   \n",
              "284039  2022-03-09 16:08:54                       NaN              NaN   \n",
              "284040  2022-03-21 16:18:24                       NaN              NaN   \n",
              "284041  2022-03-03 18:23:39    Clark St & Randolph St     TA1305000030   \n",
              "\n",
              "                    end_station_name end_station_id  start_lat  start_lng  \\\n",
              "0       Southport Ave & Waveland Ave          13235  41.897448 -87.628722   \n",
              "1           Dorchester Ave & 49th St   KA1503000069  41.805772 -87.592464   \n",
              "2              Loomis Blvd & 84th St          20121  41.741487 -87.658410   \n",
              "3       Southport Ave & Waveland Ave          13235  41.903119 -87.673935   \n",
              "4              Loomis Blvd & 84th St          20121  41.741487 -87.658410   \n",
              "...                              ...            ...        ...        ...   \n",
              "284037       Streeter Dr & Grand Ave          13022  41.900960 -87.623777   \n",
              "284038  Ravenswood Ave & Berteau Ave   TA1309000018  41.937582 -87.644098   \n",
              "284039     Albany Ave & Montrose Ave          15621  41.940000 -87.710000   \n",
              "284040     Larrabee St & Division St   KA1504000079  41.910000 -87.650000   \n",
              "284041       Streeter Dr & Grand Ave          13022  41.884576 -87.631890   \n",
              "\n",
              "          end_lat    end_lng member_casual  \n",
              "0       41.948150 -87.663940        member  \n",
              "1       41.805772 -87.592464        casual  \n",
              "2       41.741487 -87.658410        casual  \n",
              "3       41.948150 -87.663940        member  \n",
              "4       41.741487 -87.658410        casual  \n",
              "...           ...        ...           ...  \n",
              "284037  41.892278 -87.612043        casual  \n",
              "284038  41.957921 -87.673567        casual  \n",
              "284039  41.961041 -87.705866        member  \n",
              "284040  41.903486 -87.643353        member  \n",
              "284041  41.892278 -87.612043        member  \n",
              "\n",
              "[5723532 rows x 13 columns]"
            ],
            "text/html": [
              "\n",
              "  <div id=\"df-70576ad9-b0f1-4871-9a61-1ef11de1a8d7\" class=\"colab-df-container\">\n",
              "    <div>\n",
              "<style scoped>\n",
              "    .dataframe tbody tr th:only-of-type {\n",
              "        vertical-align: middle;\n",
              "    }\n",
              "\n",
              "    .dataframe tbody tr th {\n",
              "        vertical-align: top;\n",
              "    }\n",
              "\n",
              "    .dataframe thead th {\n",
              "        text-align: right;\n",
              "    }\n",
              "</style>\n",
              "<table border=\"1\" class=\"dataframe\">\n",
              "  <thead>\n",
              "    <tr style=\"text-align: right;\">\n",
              "      <th></th>\n",
              "      <th>ride_id</th>\n",
              "      <th>rideable_type</th>\n",
              "      <th>started_at</th>\n",
              "      <th>ended_at</th>\n",
              "      <th>start_station_name</th>\n",
              "      <th>start_station_id</th>\n",
              "      <th>end_station_name</th>\n",
              "      <th>end_station_id</th>\n",
              "      <th>start_lat</th>\n",
              "      <th>start_lng</th>\n",
              "      <th>end_lat</th>\n",
              "      <th>end_lng</th>\n",
              "      <th>member_casual</th>\n",
              "    </tr>\n",
              "  </thead>\n",
              "  <tbody>\n",
              "    <tr>\n",
              "      <th>0</th>\n",
              "      <td>6C992BD37A98A63F</td>\n",
              "      <td>classic_bike</td>\n",
              "      <td>2021-04-12 18:25:36</td>\n",
              "      <td>2021-04-12 18:56:55</td>\n",
              "      <td>State St &amp; Pearson St</td>\n",
              "      <td>TA1307000061</td>\n",
              "      <td>Southport Ave &amp; Waveland Ave</td>\n",
              "      <td>13235</td>\n",
              "      <td>41.897448</td>\n",
              "      <td>-87.628722</td>\n",
              "      <td>41.948150</td>\n",
              "      <td>-87.663940</td>\n",
              "      <td>member</td>\n",
              "    </tr>\n",
              "    <tr>\n",
              "      <th>1</th>\n",
              "      <td>1E0145613A209000</td>\n",
              "      <td>docked_bike</td>\n",
              "      <td>2021-04-27 17:27:11</td>\n",
              "      <td>2021-04-27 18:31:29</td>\n",
              "      <td>Dorchester Ave &amp; 49th St</td>\n",
              "      <td>KA1503000069</td>\n",
              "      <td>Dorchester Ave &amp; 49th St</td>\n",
              "      <td>KA1503000069</td>\n",
              "      <td>41.805772</td>\n",
              "      <td>-87.592464</td>\n",
              "      <td>41.805772</td>\n",
              "      <td>-87.592464</td>\n",
              "      <td>casual</td>\n",
              "    </tr>\n",
              "    <tr>\n",
              "      <th>2</th>\n",
              "      <td>E498E15508A80BAD</td>\n",
              "      <td>docked_bike</td>\n",
              "      <td>2021-04-03 12:42:45</td>\n",
              "      <td>2021-04-07 11:40:24</td>\n",
              "      <td>Loomis Blvd &amp; 84th St</td>\n",
              "      <td>20121</td>\n",
              "      <td>Loomis Blvd &amp; 84th St</td>\n",
              "      <td>20121</td>\n",
              "      <td>41.741487</td>\n",
              "      <td>-87.658410</td>\n",
              "      <td>41.741487</td>\n",
              "      <td>-87.658410</td>\n",
              "      <td>casual</td>\n",
              "    </tr>\n",
              "    <tr>\n",
              "      <th>3</th>\n",
              "      <td>1887262AD101C604</td>\n",
              "      <td>classic_bike</td>\n",
              "      <td>2021-04-17 09:17:42</td>\n",
              "      <td>2021-04-17 09:42:48</td>\n",
              "      <td>Honore St &amp; Division St</td>\n",
              "      <td>TA1305000034</td>\n",
              "      <td>Southport Ave &amp; Waveland Ave</td>\n",
              "      <td>13235</td>\n",
              "      <td>41.903119</td>\n",
              "      <td>-87.673935</td>\n",
              "      <td>41.948150</td>\n",
              "      <td>-87.663940</td>\n",
              "      <td>member</td>\n",
              "    </tr>\n",
              "    <tr>\n",
              "      <th>4</th>\n",
              "      <td>C123548CAB2A32A5</td>\n",
              "      <td>docked_bike</td>\n",
              "      <td>2021-04-03 12:42:25</td>\n",
              "      <td>2021-04-03 14:13:42</td>\n",
              "      <td>Loomis Blvd &amp; 84th St</td>\n",
              "      <td>20121</td>\n",
              "      <td>Loomis Blvd &amp; 84th St</td>\n",
              "      <td>20121</td>\n",
              "      <td>41.741487</td>\n",
              "      <td>-87.658410</td>\n",
              "      <td>41.741487</td>\n",
              "      <td>-87.658410</td>\n",
              "      <td>casual</td>\n",
              "    </tr>\n",
              "    <tr>\n",
              "      <th>...</th>\n",
              "      <td>...</td>\n",
              "      <td>...</td>\n",
              "      <td>...</td>\n",
              "      <td>...</td>\n",
              "      <td>...</td>\n",
              "      <td>...</td>\n",
              "      <td>...</td>\n",
              "      <td>...</td>\n",
              "      <td>...</td>\n",
              "      <td>...</td>\n",
              "      <td>...</td>\n",
              "      <td>...</td>\n",
              "      <td>...</td>\n",
              "    </tr>\n",
              "    <tr>\n",
              "      <th>284037</th>\n",
              "      <td>E23BE3DB740BE3B4</td>\n",
              "      <td>docked_bike</td>\n",
              "      <td>2022-03-13 16:31:03</td>\n",
              "      <td>2022-03-13 16:39:32</td>\n",
              "      <td>Michigan Ave &amp; Oak St</td>\n",
              "      <td>13042</td>\n",
              "      <td>Streeter Dr &amp; Grand Ave</td>\n",
              "      <td>13022</td>\n",
              "      <td>41.900960</td>\n",
              "      <td>-87.623777</td>\n",
              "      <td>41.892278</td>\n",
              "      <td>-87.612043</td>\n",
              "      <td>casual</td>\n",
              "    </tr>\n",
              "    <tr>\n",
              "      <th>284038</th>\n",
              "      <td>15AF71F3220F2A75</td>\n",
              "      <td>docked_bike</td>\n",
              "      <td>2022-03-09 06:56:02</td>\n",
              "      <td>2022-03-09 07:42:14</td>\n",
              "      <td>Broadway &amp; Barry Ave</td>\n",
              "      <td>13137</td>\n",
              "      <td>Ravenswood Ave &amp; Berteau Ave</td>\n",
              "      <td>TA1309000018</td>\n",
              "      <td>41.937582</td>\n",
              "      <td>-87.644098</td>\n",
              "      <td>41.957921</td>\n",
              "      <td>-87.673567</td>\n",
              "      <td>casual</td>\n",
              "    </tr>\n",
              "    <tr>\n",
              "      <th>284039</th>\n",
              "      <td>9C4CE6CC19F8225B</td>\n",
              "      <td>electric_bike</td>\n",
              "      <td>2022-03-09 15:55:26</td>\n",
              "      <td>2022-03-09 16:08:54</td>\n",
              "      <td>NaN</td>\n",
              "      <td>NaN</td>\n",
              "      <td>Albany Ave &amp; Montrose Ave</td>\n",
              "      <td>15621</td>\n",
              "      <td>41.940000</td>\n",
              "      <td>-87.710000</td>\n",
              "      <td>41.961041</td>\n",
              "      <td>-87.705866</td>\n",
              "      <td>member</td>\n",
              "    </tr>\n",
              "    <tr>\n",
              "      <th>284040</th>\n",
              "      <td>F4E136DEF696F3AE</td>\n",
              "      <td>electric_bike</td>\n",
              "      <td>2022-03-21 16:12:44</td>\n",
              "      <td>2022-03-21 16:18:24</td>\n",
              "      <td>NaN</td>\n",
              "      <td>NaN</td>\n",
              "      <td>Larrabee St &amp; Division St</td>\n",
              "      <td>KA1504000079</td>\n",
              "      <td>41.910000</td>\n",
              "      <td>-87.650000</td>\n",
              "      <td>41.903486</td>\n",
              "      <td>-87.643353</td>\n",
              "      <td>member</td>\n",
              "    </tr>\n",
              "    <tr>\n",
              "      <th>284041</th>\n",
              "      <td>5AEC5F39AF711895</td>\n",
              "      <td>classic_bike</td>\n",
              "      <td>2022-03-03 18:13:40</td>\n",
              "      <td>2022-03-03 18:23:39</td>\n",
              "      <td>Clark St &amp; Randolph St</td>\n",
              "      <td>TA1305000030</td>\n",
              "      <td>Streeter Dr &amp; Grand Ave</td>\n",
              "      <td>13022</td>\n",
              "      <td>41.884576</td>\n",
              "      <td>-87.631890</td>\n",
              "      <td>41.892278</td>\n",
              "      <td>-87.612043</td>\n",
              "      <td>member</td>\n",
              "    </tr>\n",
              "  </tbody>\n",
              "</table>\n",
              "<p>5723532 rows × 13 columns</p>\n",
              "</div>\n",
              "    <div class=\"colab-df-buttons\">\n",
              "\n",
              "  <div class=\"colab-df-container\">\n",
              "    <button class=\"colab-df-convert\" onclick=\"convertToInteractive('df-70576ad9-b0f1-4871-9a61-1ef11de1a8d7')\"\n",
              "            title=\"Convert this dataframe to an interactive table.\"\n",
              "            style=\"display:none;\">\n",
              "\n",
              "  <svg xmlns=\"http://www.w3.org/2000/svg\" height=\"24px\" viewBox=\"0 -960 960 960\">\n",
              "    <path d=\"M120-120v-720h720v720H120Zm60-500h600v-160H180v160Zm220 220h160v-160H400v160Zm0 220h160v-160H400v160ZM180-400h160v-160H180v160Zm440 0h160v-160H620v160ZM180-180h160v-160H180v160Zm440 0h160v-160H620v160Z\"/>\n",
              "  </svg>\n",
              "    </button>\n",
              "\n",
              "  <style>\n",
              "    .colab-df-container {\n",
              "      display:flex;\n",
              "      gap: 12px;\n",
              "    }\n",
              "\n",
              "    .colab-df-convert {\n",
              "      background-color: #E8F0FE;\n",
              "      border: none;\n",
              "      border-radius: 50%;\n",
              "      cursor: pointer;\n",
              "      display: none;\n",
              "      fill: #1967D2;\n",
              "      height: 32px;\n",
              "      padding: 0 0 0 0;\n",
              "      width: 32px;\n",
              "    }\n",
              "\n",
              "    .colab-df-convert:hover {\n",
              "      background-color: #E2EBFA;\n",
              "      box-shadow: 0px 1px 2px rgba(60, 64, 67, 0.3), 0px 1px 3px 1px rgba(60, 64, 67, 0.15);\n",
              "      fill: #174EA6;\n",
              "    }\n",
              "\n",
              "    .colab-df-buttons div {\n",
              "      margin-bottom: 4px;\n",
              "    }\n",
              "\n",
              "    [theme=dark] .colab-df-convert {\n",
              "      background-color: #3B4455;\n",
              "      fill: #D2E3FC;\n",
              "    }\n",
              "\n",
              "    [theme=dark] .colab-df-convert:hover {\n",
              "      background-color: #434B5C;\n",
              "      box-shadow: 0px 1px 3px 1px rgba(0, 0, 0, 0.15);\n",
              "      filter: drop-shadow(0px 1px 2px rgba(0, 0, 0, 0.3));\n",
              "      fill: #FFFFFF;\n",
              "    }\n",
              "  </style>\n",
              "\n",
              "    <script>\n",
              "      const buttonEl =\n",
              "        document.querySelector('#df-70576ad9-b0f1-4871-9a61-1ef11de1a8d7 button.colab-df-convert');\n",
              "      buttonEl.style.display =\n",
              "        google.colab.kernel.accessAllowed ? 'block' : 'none';\n",
              "\n",
              "      async function convertToInteractive(key) {\n",
              "        const element = document.querySelector('#df-70576ad9-b0f1-4871-9a61-1ef11de1a8d7');\n",
              "        const dataTable =\n",
              "          await google.colab.kernel.invokeFunction('convertToInteractive',\n",
              "                                                    [key], {});\n",
              "        if (!dataTable) return;\n",
              "\n",
              "        const docLinkHtml = 'Like what you see? Visit the ' +\n",
              "          '<a target=\"_blank\" href=https://colab.research.google.com/notebooks/data_table.ipynb>data table notebook</a>'\n",
              "          + ' to learn more about interactive tables.';\n",
              "        element.innerHTML = '';\n",
              "        dataTable['output_type'] = 'display_data';\n",
              "        await google.colab.output.renderOutput(dataTable, element);\n",
              "        const docLink = document.createElement('div');\n",
              "        docLink.innerHTML = docLinkHtml;\n",
              "        element.appendChild(docLink);\n",
              "      }\n",
              "    </script>\n",
              "  </div>\n",
              "\n",
              "\n",
              "<div id=\"df-6417b7e9-085b-4919-aa88-055b26d5629b\">\n",
              "  <button class=\"colab-df-quickchart\" onclick=\"quickchart('df-6417b7e9-085b-4919-aa88-055b26d5629b')\"\n",
              "            title=\"Suggest charts\"\n",
              "            style=\"display:none;\">\n",
              "\n",
              "<svg xmlns=\"http://www.w3.org/2000/svg\" height=\"24px\"viewBox=\"0 0 24 24\"\n",
              "     width=\"24px\">\n",
              "    <g>\n",
              "        <path d=\"M19 3H5c-1.1 0-2 .9-2 2v14c0 1.1.9 2 2 2h14c1.1 0 2-.9 2-2V5c0-1.1-.9-2-2-2zM9 17H7v-7h2v7zm4 0h-2V7h2v10zm4 0h-2v-4h2v4z\"/>\n",
              "    </g>\n",
              "</svg>\n",
              "  </button>\n",
              "\n",
              "<style>\n",
              "  .colab-df-quickchart {\n",
              "      --bg-color: #E8F0FE;\n",
              "      --fill-color: #1967D2;\n",
              "      --hover-bg-color: #E2EBFA;\n",
              "      --hover-fill-color: #174EA6;\n",
              "      --disabled-fill-color: #AAA;\n",
              "      --disabled-bg-color: #DDD;\n",
              "  }\n",
              "\n",
              "  [theme=dark] .colab-df-quickchart {\n",
              "      --bg-color: #3B4455;\n",
              "      --fill-color: #D2E3FC;\n",
              "      --hover-bg-color: #434B5C;\n",
              "      --hover-fill-color: #FFFFFF;\n",
              "      --disabled-bg-color: #3B4455;\n",
              "      --disabled-fill-color: #666;\n",
              "  }\n",
              "\n",
              "  .colab-df-quickchart {\n",
              "    background-color: var(--bg-color);\n",
              "    border: none;\n",
              "    border-radius: 50%;\n",
              "    cursor: pointer;\n",
              "    display: none;\n",
              "    fill: var(--fill-color);\n",
              "    height: 32px;\n",
              "    padding: 0;\n",
              "    width: 32px;\n",
              "  }\n",
              "\n",
              "  .colab-df-quickchart:hover {\n",
              "    background-color: var(--hover-bg-color);\n",
              "    box-shadow: 0 1px 2px rgba(60, 64, 67, 0.3), 0 1px 3px 1px rgba(60, 64, 67, 0.15);\n",
              "    fill: var(--button-hover-fill-color);\n",
              "  }\n",
              "\n",
              "  .colab-df-quickchart-complete:disabled,\n",
              "  .colab-df-quickchart-complete:disabled:hover {\n",
              "    background-color: var(--disabled-bg-color);\n",
              "    fill: var(--disabled-fill-color);\n",
              "    box-shadow: none;\n",
              "  }\n",
              "\n",
              "  .colab-df-spinner {\n",
              "    border: 2px solid var(--fill-color);\n",
              "    border-color: transparent;\n",
              "    border-bottom-color: var(--fill-color);\n",
              "    animation:\n",
              "      spin 1s steps(1) infinite;\n",
              "  }\n",
              "\n",
              "  @keyframes spin {\n",
              "    0% {\n",
              "      border-color: transparent;\n",
              "      border-bottom-color: var(--fill-color);\n",
              "      border-left-color: var(--fill-color);\n",
              "    }\n",
              "    20% {\n",
              "      border-color: transparent;\n",
              "      border-left-color: var(--fill-color);\n",
              "      border-top-color: var(--fill-color);\n",
              "    }\n",
              "    30% {\n",
              "      border-color: transparent;\n",
              "      border-left-color: var(--fill-color);\n",
              "      border-top-color: var(--fill-color);\n",
              "      border-right-color: var(--fill-color);\n",
              "    }\n",
              "    40% {\n",
              "      border-color: transparent;\n",
              "      border-right-color: var(--fill-color);\n",
              "      border-top-color: var(--fill-color);\n",
              "    }\n",
              "    60% {\n",
              "      border-color: transparent;\n",
              "      border-right-color: var(--fill-color);\n",
              "    }\n",
              "    80% {\n",
              "      border-color: transparent;\n",
              "      border-right-color: var(--fill-color);\n",
              "      border-bottom-color: var(--fill-color);\n",
              "    }\n",
              "    90% {\n",
              "      border-color: transparent;\n",
              "      border-bottom-color: var(--fill-color);\n",
              "    }\n",
              "  }\n",
              "</style>\n",
              "\n",
              "  <script>\n",
              "    async function quickchart(key) {\n",
              "      const quickchartButtonEl =\n",
              "        document.querySelector('#' + key + ' button');\n",
              "      quickchartButtonEl.disabled = true;  // To prevent multiple clicks.\n",
              "      quickchartButtonEl.classList.add('colab-df-spinner');\n",
              "      try {\n",
              "        const charts = await google.colab.kernel.invokeFunction(\n",
              "            'suggestCharts', [key], {});\n",
              "      } catch (error) {\n",
              "        console.error('Error during call to suggestCharts:', error);\n",
              "      }\n",
              "      quickchartButtonEl.classList.remove('colab-df-spinner');\n",
              "      quickchartButtonEl.classList.add('colab-df-quickchart-complete');\n",
              "    }\n",
              "    (() => {\n",
              "      let quickchartButtonEl =\n",
              "        document.querySelector('#df-6417b7e9-085b-4919-aa88-055b26d5629b button');\n",
              "      quickchartButtonEl.style.display =\n",
              "        google.colab.kernel.accessAllowed ? 'block' : 'none';\n",
              "    })();\n",
              "  </script>\n",
              "</div>\n",
              "\n",
              "  <div id=\"id_89267bb9-e89c-4760-95a5-261667ccdc9e\">\n",
              "    <style>\n",
              "      .colab-df-generate {\n",
              "        background-color: #E8F0FE;\n",
              "        border: none;\n",
              "        border-radius: 50%;\n",
              "        cursor: pointer;\n",
              "        display: none;\n",
              "        fill: #1967D2;\n",
              "        height: 32px;\n",
              "        padding: 0 0 0 0;\n",
              "        width: 32px;\n",
              "      }\n",
              "\n",
              "      .colab-df-generate:hover {\n",
              "        background-color: #E2EBFA;\n",
              "        box-shadow: 0px 1px 2px rgba(60, 64, 67, 0.3), 0px 1px 3px 1px rgba(60, 64, 67, 0.15);\n",
              "        fill: #174EA6;\n",
              "      }\n",
              "\n",
              "      [theme=dark] .colab-df-generate {\n",
              "        background-color: #3B4455;\n",
              "        fill: #D2E3FC;\n",
              "      }\n",
              "\n",
              "      [theme=dark] .colab-df-generate:hover {\n",
              "        background-color: #434B5C;\n",
              "        box-shadow: 0px 1px 3px 1px rgba(0, 0, 0, 0.15);\n",
              "        filter: drop-shadow(0px 1px 2px rgba(0, 0, 0, 0.3));\n",
              "        fill: #FFFFFF;\n",
              "      }\n",
              "    </style>\n",
              "    <button class=\"colab-df-generate\" onclick=\"generateWithVariable('df')\"\n",
              "            title=\"Generate code using this dataframe.\"\n",
              "            style=\"display:none;\">\n",
              "\n",
              "  <svg xmlns=\"http://www.w3.org/2000/svg\" height=\"24px\"viewBox=\"0 0 24 24\"\n",
              "       width=\"24px\">\n",
              "    <path d=\"M7,19H8.4L18.45,9,17,7.55,7,17.6ZM5,21V16.75L18.45,3.32a2,2,0,0,1,2.83,0l1.4,1.43a1.91,1.91,0,0,1,.58,1.4,1.91,1.91,0,0,1-.58,1.4L9.25,21ZM18.45,9,17,7.55Zm-12,3A5.31,5.31,0,0,0,4.9,8.1,5.31,5.31,0,0,0,1,6.5,5.31,5.31,0,0,0,4.9,4.9,5.31,5.31,0,0,0,6.5,1,5.31,5.31,0,0,0,8.1,4.9,5.31,5.31,0,0,0,12,6.5,5.46,5.46,0,0,0,6.5,12Z\"/>\n",
              "  </svg>\n",
              "    </button>\n",
              "    <script>\n",
              "      (() => {\n",
              "      const buttonEl =\n",
              "        document.querySelector('#id_89267bb9-e89c-4760-95a5-261667ccdc9e button.colab-df-generate');\n",
              "      buttonEl.style.display =\n",
              "        google.colab.kernel.accessAllowed ? 'block' : 'none';\n",
              "\n",
              "      buttonEl.onclick = () => {\n",
              "        google.colab.notebook.generateWithVariable('df');\n",
              "      }\n",
              "      })();\n",
              "    </script>\n",
              "  </div>\n",
              "\n",
              "    </div>\n",
              "  </div>\n"
            ],
            "application/vnd.google.colaboratory.intrinsic+json": {
              "type": "dataframe",
              "variable_name": "df"
            }
          },
          "metadata": {},
          "execution_count": 4
        }
      ],
      "source": [
        "df = pd.concat([april_21,may_21,june_21,july_21,august_21,september_21,october_21,november_21,december_21,january_22,february_22,march_22])\n",
        "df"
      ]
    },
    {
      "cell_type": "markdown",
      "id": "cb85b675",
      "metadata": {
        "papermill": {
          "duration": 0.015891,
          "end_time": "2023-03-30T19:59:14.792093",
          "exception": false,
          "start_time": "2023-03-30T19:59:14.776202",
          "status": "completed"
        },
        "tags": [],
        "id": "cb85b675"
      },
      "source": [
        "### Overall information about the dataset\n",
        "Let's check some information about our dataset"
      ]
    },
    {
      "cell_type": "code",
      "execution_count": 5,
      "id": "2b2bfce0",
      "metadata": {
        "execution": {
          "iopub.execute_input": "2023-03-30T19:59:14.826058Z",
          "iopub.status.busy": "2023-03-30T19:59:14.824385Z",
          "iopub.status.idle": "2023-03-30T19:59:14.832816Z",
          "shell.execute_reply": "2023-03-30T19:59:14.831307Z"
        },
        "papermill": {
          "duration": 0.027119,
          "end_time": "2023-03-30T19:59:14.834768",
          "exception": false,
          "start_time": "2023-03-30T19:59:14.807649",
          "status": "completed"
        },
        "tags": [],
        "colab": {
          "base_uri": "https://localhost:8080/"
        },
        "id": "2b2bfce0",
        "outputId": "e1aaf223-5289-4e52-a98c-7515c9e6bd2e"
      },
      "outputs": [
        {
          "output_type": "execute_result",
          "data": {
            "text/plain": [
              "(5723532, 13)"
            ]
          },
          "metadata": {},
          "execution_count": 5
        }
      ],
      "source": [
        "df.shape"
      ]
    },
    {
      "cell_type": "code",
      "execution_count": 6,
      "id": "0e3ef76b",
      "metadata": {
        "execution": {
          "iopub.execute_input": "2023-03-30T19:59:14.867035Z",
          "iopub.status.busy": "2023-03-30T19:59:14.866649Z",
          "iopub.status.idle": "2023-03-30T19:59:14.887901Z",
          "shell.execute_reply": "2023-03-30T19:59:14.886249Z"
        },
        "papermill": {
          "duration": 0.040299,
          "end_time": "2023-03-30T19:59:14.890403",
          "exception": false,
          "start_time": "2023-03-30T19:59:14.850104",
          "status": "completed"
        },
        "tags": [],
        "colab": {
          "base_uri": "https://localhost:8080/"
        },
        "id": "0e3ef76b",
        "outputId": "1588e152-52ac-42ea-ab5d-19fc366834ca"
      },
      "outputs": [
        {
          "output_type": "stream",
          "name": "stdout",
          "text": [
            "<class 'pandas.core.frame.DataFrame'>\n",
            "Index: 5723532 entries, 0 to 284041\n",
            "Data columns (total 13 columns):\n",
            " #   Column              Dtype  \n",
            "---  ------              -----  \n",
            " 0   ride_id             object \n",
            " 1   rideable_type       object \n",
            " 2   started_at          object \n",
            " 3   ended_at            object \n",
            " 4   start_station_name  object \n",
            " 5   start_station_id    object \n",
            " 6   end_station_name    object \n",
            " 7   end_station_id      object \n",
            " 8   start_lat           float64\n",
            " 9   start_lng           float64\n",
            " 10  end_lat             float64\n",
            " 11  end_lng             float64\n",
            " 12  member_casual       object \n",
            "dtypes: float64(4), object(9)\n",
            "memory usage: 611.3+ MB\n"
          ]
        }
      ],
      "source": [
        "df.info()"
      ]
    },
    {
      "cell_type": "markdown",
      "id": "a64fd9cf",
      "metadata": {
        "papermill": {
          "duration": 0.01473,
          "end_time": "2023-03-30T19:59:14.921281",
          "exception": false,
          "start_time": "2023-03-30T19:59:14.906551",
          "status": "completed"
        },
        "tags": [],
        "id": "a64fd9cf"
      },
      "source": [
        "### Cleaning\n",
        "\n",
        "Checking null values and duplicates"
      ]
    },
    {
      "cell_type": "code",
      "execution_count": 7,
      "id": "15d4dca5",
      "metadata": {
        "execution": {
          "iopub.execute_input": "2023-03-30T19:59:14.953353Z",
          "iopub.status.busy": "2023-03-30T19:59:14.952951Z",
          "iopub.status.idle": "2023-03-30T19:59:17.727265Z",
          "shell.execute_reply": "2023-03-30T19:59:17.726220Z"
        },
        "papermill": {
          "duration": 2.792823,
          "end_time": "2023-03-30T19:59:17.729166",
          "exception": false,
          "start_time": "2023-03-30T19:59:14.936343",
          "status": "completed"
        },
        "tags": [],
        "colab": {
          "base_uri": "https://localhost:8080/"
        },
        "id": "15d4dca5",
        "outputId": "c883b860-a32d-409d-ae4a-469dec08403c"
      },
      "outputs": [
        {
          "output_type": "execute_result",
          "data": {
            "text/plain": [
              "0"
            ]
          },
          "metadata": {},
          "execution_count": 7
        }
      ],
      "source": [
        "# Cheking for duplicate values\n",
        "df['ride_id'].duplicated().sum()"
      ]
    },
    {
      "cell_type": "code",
      "execution_count": 8,
      "id": "41079610",
      "metadata": {
        "execution": {
          "iopub.execute_input": "2023-03-30T19:59:17.762299Z",
          "iopub.status.busy": "2023-03-30T19:59:17.761896Z",
          "iopub.status.idle": "2023-03-30T19:59:19.601134Z",
          "shell.execute_reply": "2023-03-30T19:59:19.600196Z"
        },
        "papermill": {
          "duration": 1.860211,
          "end_time": "2023-03-30T19:59:19.604693",
          "exception": false,
          "start_time": "2023-03-30T19:59:17.744482",
          "status": "completed"
        },
        "tags": [],
        "colab": {
          "base_uri": "https://localhost:8080/"
        },
        "id": "41079610",
        "outputId": "7c898083-6264-4e55-ccc7-b842fb20bc29"
      },
      "outputs": [
        {
          "output_type": "execute_result",
          "data": {
            "text/plain": [
              "ride_id                    0\n",
              "rideable_type              0\n",
              "started_at                 0\n",
              "ended_at                   0\n",
              "start_station_name    745376\n",
              "start_station_id      745373\n",
              "end_station_name      796247\n",
              "end_station_id        796247\n",
              "start_lat                  0\n",
              "start_lng                  0\n",
              "end_lat                 4716\n",
              "end_lng                 4716\n",
              "member_casual              0\n",
              "dtype: int64"
            ]
          },
          "metadata": {},
          "execution_count": 8
        }
      ],
      "source": [
        "# Checking for null values\n",
        "df.isnull().sum()"
      ]
    },
    {
      "cell_type": "code",
      "execution_count": 9,
      "id": "53143738",
      "metadata": {
        "execution": {
          "iopub.execute_input": "2023-03-30T19:59:19.641534Z",
          "iopub.status.busy": "2023-03-30T19:59:19.640215Z",
          "iopub.status.idle": "2023-03-30T19:59:21.473895Z",
          "shell.execute_reply": "2023-03-30T19:59:21.472650Z"
        },
        "papermill": {
          "duration": 1.854233,
          "end_time": "2023-03-30T19:59:21.475996",
          "exception": false,
          "start_time": "2023-03-30T19:59:19.621763",
          "status": "completed"
        },
        "tags": [],
        "colab": {
          "base_uri": "https://localhost:8080/"
        },
        "id": "53143738",
        "outputId": "9c779a2c-63f5-4741-d6bc-b8a6c39a37c3"
      },
      "outputs": [
        {
          "output_type": "execute_result",
          "data": {
            "text/plain": [
              "ride_id                    0\n",
              "rideable_type              0\n",
              "started_at                 0\n",
              "ended_at                   0\n",
              "start_station_name    745376\n",
              "start_station_id      745373\n",
              "end_station_name      796247\n",
              "end_station_id        796247\n",
              "start_lat                  0\n",
              "start_lng                  0\n",
              "end_lat                 4716\n",
              "end_lng                 4716\n",
              "member_casual              0\n",
              "dtype: int64"
            ]
          },
          "metadata": {},
          "execution_count": 9
        }
      ],
      "source": [
        "df.isna().sum()"
      ]
    },
    {
      "cell_type": "markdown",
      "id": "b4335f47",
      "metadata": {
        "papermill": {
          "duration": 0.01518,
          "end_time": "2023-03-30T19:59:21.506751",
          "exception": false,
          "start_time": "2023-03-30T19:59:21.491571",
          "status": "completed"
        },
        "tags": [],
        "id": "b4335f47"
      },
      "source": [
        "High number of null values in some columns, but what percentage of the data is missing?"
      ]
    },
    {
      "cell_type": "code",
      "execution_count": 10,
      "id": "a960c009",
      "metadata": {
        "execution": {
          "iopub.execute_input": "2023-03-30T19:59:21.539965Z",
          "iopub.status.busy": "2023-03-30T19:59:21.539585Z",
          "iopub.status.idle": "2023-03-30T19:59:23.366682Z",
          "shell.execute_reply": "2023-03-30T19:59:23.364907Z"
        },
        "papermill": {
          "duration": 1.847051,
          "end_time": "2023-03-30T19:59:23.369448",
          "exception": false,
          "start_time": "2023-03-30T19:59:21.522397",
          "status": "completed"
        },
        "tags": [],
        "colab": {
          "base_uri": "https://localhost:8080/"
        },
        "id": "a960c009",
        "outputId": "563ab782-800e-4f64-cd0f-3e0aa803b453"
      },
      "outputs": [
        {
          "output_type": "stream",
          "name": "stdout",
          "text": [
            "The percentage of missing values is: 13.91 %\n"
          ]
        }
      ],
      "source": [
        "# Calculating the percentage of null values\n",
        "print('The percentage of missing values is:',round((df.isna().sum().max() * 100)/df.shape[0],2),'%')"
      ]
    },
    {
      "cell_type": "markdown",
      "id": "c14b2eeb",
      "metadata": {
        "papermill": {
          "duration": 0.015103,
          "end_time": "2023-03-30T19:59:23.400162",
          "exception": false,
          "start_time": "2023-03-30T19:59:23.385059",
          "status": "completed"
        },
        "tags": [],
        "id": "c14b2eeb"
      },
      "source": [
        "\"13% of the data has missing values, specifically in columns with the highest number of null entries. While this seems significant and could potentially introduce bias into our analysis, these columns contain information about the names and IDs of the stations where the rides began and ended. Although this information has some value, it is not critical to our analysis. Therefore, instead of deleting the rows with these missing values, which could compromise our analysis, we decided to retain these incomplete entries since we will not be using these particular variables.\""
      ]
    },
    {
      "cell_type": "markdown",
      "id": "7a747803",
      "metadata": {
        "papermill": {
          "duration": 0.014996,
          "end_time": "2023-03-30T19:59:23.430306",
          "exception": false,
          "start_time": "2023-03-30T19:59:23.415310",
          "status": "completed"
        },
        "tags": [],
        "id": "7a747803"
      },
      "source": [
        "### Formatting columns"
      ]
    },
    {
      "cell_type": "markdown",
      "id": "8cebd85a",
      "metadata": {
        "papermill": {
          "duration": 0.015025,
          "end_time": "2023-03-30T19:59:23.460795",
          "exception": false,
          "start_time": "2023-03-30T19:59:23.445770",
          "status": "completed"
        },
        "tags": [],
        "id": "8cebd85a"
      },
      "source": [
        "Check if the data types align with the desired formats for each column"
      ]
    },
    {
      "cell_type": "code",
      "execution_count": 11,
      "id": "64cc1679",
      "metadata": {
        "execution": {
          "iopub.execute_input": "2023-03-30T19:59:23.493397Z",
          "iopub.status.busy": "2023-03-30T19:59:23.493048Z",
          "iopub.status.idle": "2023-03-30T19:59:23.502618Z",
          "shell.execute_reply": "2023-03-30T19:59:23.501460Z"
        },
        "papermill": {
          "duration": 0.028865,
          "end_time": "2023-03-30T19:59:23.505030",
          "exception": false,
          "start_time": "2023-03-30T19:59:23.476165",
          "status": "completed"
        },
        "tags": [],
        "colab": {
          "base_uri": "https://localhost:8080/"
        },
        "id": "64cc1679",
        "outputId": "ac2ba139-33ed-491f-e3c1-4909f969cd0f"
      },
      "outputs": [
        {
          "output_type": "stream",
          "name": "stdout",
          "text": [
            "<class 'pandas.core.frame.DataFrame'>\n",
            "Index: 5723532 entries, 0 to 284041\n",
            "Data columns (total 13 columns):\n",
            " #   Column              Dtype  \n",
            "---  ------              -----  \n",
            " 0   ride_id             object \n",
            " 1   rideable_type       object \n",
            " 2   started_at          object \n",
            " 3   ended_at            object \n",
            " 4   start_station_name  object \n",
            " 5   start_station_id    object \n",
            " 6   end_station_name    object \n",
            " 7   end_station_id      object \n",
            " 8   start_lat           float64\n",
            " 9   start_lng           float64\n",
            " 10  end_lat             float64\n",
            " 11  end_lng             float64\n",
            " 12  member_casual       object \n",
            "dtypes: float64(4), object(9)\n",
            "memory usage: 611.3+ MB\n"
          ]
        }
      ],
      "source": [
        "df.info()"
      ]
    },
    {
      "cell_type": "markdown",
      "id": "a6fcd457",
      "metadata": {
        "papermill": {
          "duration": 0.015384,
          "end_time": "2023-03-30T19:59:23.537325",
          "exception": false,
          "start_time": "2023-03-30T19:59:23.521941",
          "status": "completed"
        },
        "tags": [],
        "id": "a6fcd457"
      },
      "source": [
        "Observe that the 'started_at' and 'ended_at' columns are Dtype objects, but should be dates. Let's change that"
      ]
    },
    {
      "cell_type": "code",
      "execution_count": 12,
      "id": "8b4c88c7",
      "metadata": {
        "execution": {
          "iopub.execute_input": "2023-03-30T19:59:23.570505Z",
          "iopub.status.busy": "2023-03-30T19:59:23.570089Z",
          "iopub.status.idle": "2023-03-30T19:59:26.021445Z",
          "shell.execute_reply": "2023-03-30T19:59:26.019866Z"
        },
        "papermill": {
          "duration": 2.471322,
          "end_time": "2023-03-30T19:59:26.024161",
          "exception": false,
          "start_time": "2023-03-30T19:59:23.552839",
          "status": "completed"
        },
        "tags": [],
        "id": "8b4c88c7"
      },
      "outputs": [],
      "source": [
        "df['started_at'] = pd.to_datetime(df['started_at'])\n",
        "df['ended_at'] = pd.to_datetime(df['ended_at'])"
      ]
    },
    {
      "cell_type": "markdown",
      "id": "22105404",
      "metadata": {
        "papermill": {
          "duration": 0.015312,
          "end_time": "2023-03-30T19:59:26.055461",
          "exception": false,
          "start_time": "2023-03-30T19:59:26.040149",
          "status": "completed"
        },
        "tags": [],
        "id": "22105404"
      },
      "source": [
        "### Deleting invalid entries\n",
        "Ensure there are no incorrect or erroneously recorded dates."
      ]
    },
    {
      "cell_type": "code",
      "execution_count": 13,
      "id": "6393ce06",
      "metadata": {
        "execution": {
          "iopub.execute_input": "2023-03-30T19:59:26.089117Z",
          "iopub.status.busy": "2023-03-30T19:59:26.088763Z",
          "iopub.status.idle": "2023-03-30T19:59:26.953445Z",
          "shell.execute_reply": "2023-03-30T19:59:26.952216Z"
        },
        "papermill": {
          "duration": 0.884733,
          "end_time": "2023-03-30T19:59:26.955998",
          "exception": false,
          "start_time": "2023-03-30T19:59:26.071265",
          "status": "completed"
        },
        "tags": [],
        "colab": {
          "base_uri": "https://localhost:8080/"
        },
        "id": "6393ce06",
        "outputId": "92f07463-6fa6-4a78-eacf-7a4f5fa2992e"
      },
      "outputs": [
        {
          "output_type": "execute_result",
          "data": {
            "text/plain": [
              "(145, 13)"
            ]
          },
          "metadata": {},
          "execution_count": 13
        }
      ],
      "source": [
        "false_dates = df.loc[(df['started_at'] > df['ended_at'])]\n",
        "false_dates.shape"
      ]
    },
    {
      "cell_type": "markdown",
      "id": "ae8a2060",
      "metadata": {
        "papermill": {
          "duration": 0.015434,
          "end_time": "2023-03-30T19:59:26.987545",
          "exception": false,
          "start_time": "2023-03-30T19:59:26.972111",
          "status": "completed"
        },
        "tags": [],
        "id": "ae8a2060"
      },
      "source": [
        "\"There are 145 incorrect entries where the 'started_at' column has a datetime value later than the corresponding 'ended_at' value. This is not possible, as the start of the trip must precede the end of the trip.\""
      ]
    },
    {
      "cell_type": "code",
      "execution_count": 14,
      "id": "4f555c26",
      "metadata": {
        "execution": {
          "iopub.execute_input": "2023-03-30T19:59:27.020930Z",
          "iopub.status.busy": "2023-03-30T19:59:27.020512Z",
          "iopub.status.idle": "2023-03-30T19:59:28.715400Z",
          "shell.execute_reply": "2023-03-30T19:59:28.714278Z"
        },
        "papermill": {
          "duration": 1.714521,
          "end_time": "2023-03-30T19:59:28.717931",
          "exception": false,
          "start_time": "2023-03-30T19:59:27.003410",
          "status": "completed"
        },
        "tags": [],
        "id": "4f555c26"
      },
      "outputs": [],
      "source": [
        "#deleting the wrong entries\n",
        "df = df.drop(false_dates.index.to_list()).copy()"
      ]
    },
    {
      "cell_type": "markdown",
      "id": "bc8bf37e",
      "metadata": {
        "papermill": {
          "duration": 0.015405,
          "end_time": "2023-03-30T19:59:28.749379",
          "exception": false,
          "start_time": "2023-03-30T19:59:28.733974",
          "status": "completed"
        },
        "tags": [],
        "id": "bc8bf37e"
      },
      "source": [
        "### Adding columns.\n",
        "Add some columns, for example length of the ride, day of the week, hour of the day, and name of the month to use them later during analysis phase"
      ]
    },
    {
      "cell_type": "code",
      "execution_count": 15,
      "id": "04fa9f22",
      "metadata": {
        "execution": {
          "iopub.execute_input": "2023-03-30T19:59:28.782651Z",
          "iopub.status.busy": "2023-03-30T19:59:28.782287Z",
          "iopub.status.idle": "2023-03-30T19:59:28.855894Z",
          "shell.execute_reply": "2023-03-30T19:59:28.854198Z"
        },
        "papermill": {
          "duration": 0.093415,
          "end_time": "2023-03-30T19:59:28.858810",
          "exception": false,
          "start_time": "2023-03-30T19:59:28.765395",
          "status": "completed"
        },
        "tags": [],
        "id": "04fa9f22"
      },
      "outputs": [],
      "source": [
        "df['ride_length_min'] = ((df['ended_at'] - df['started_at'])/pd.Timedelta(minutes=1)).astype('int32')"
      ]
    },
    {
      "cell_type": "code",
      "execution_count": 16,
      "id": "02e5b320",
      "metadata": {
        "execution": {
          "iopub.execute_input": "2023-03-30T19:59:28.893300Z",
          "iopub.status.busy": "2023-03-30T19:59:28.892935Z",
          "iopub.status.idle": "2023-03-30T19:59:30.469749Z",
          "shell.execute_reply": "2023-03-30T19:59:30.468281Z"
        },
        "papermill": {
          "duration": 1.597254,
          "end_time": "2023-03-30T19:59:30.472432",
          "exception": false,
          "start_time": "2023-03-30T19:59:28.875178",
          "status": "completed"
        },
        "tags": [],
        "id": "02e5b320"
      },
      "outputs": [],
      "source": [
        "# Creating the name of the day of the week\n",
        "df['day'] = df['started_at'].dt.day_name()\n",
        "\n",
        "# creating the hour of the day\n",
        "df['hour'] = df['started_at'].dt.hour\n",
        "\n",
        "# Creating the month column\n",
        "df['month'] = df['started_at'].dt.month\n",
        "\n",
        "df['day_of_week'] = df['started_at'].dt.dayofweek"
      ]
    },
    {
      "cell_type": "markdown",
      "id": "76f155e3",
      "metadata": {
        "papermill": {
          "duration": 0.016314,
          "end_time": "2023-03-30T19:59:30.505382",
          "exception": false,
          "start_time": "2023-03-30T19:59:30.489068",
          "status": "completed"
        },
        "tags": [],
        "id": "76f155e3"
      },
      "source": [
        "With recently created columns, sort the values in ascending order"
      ]
    },
    {
      "cell_type": "code",
      "execution_count": 17,
      "id": "fbcbe2d3",
      "metadata": {
        "execution": {
          "iopub.execute_input": "2023-03-30T19:59:30.541614Z",
          "iopub.status.busy": "2023-03-30T19:59:30.541225Z",
          "iopub.status.idle": "2023-03-30T19:59:36.671211Z",
          "shell.execute_reply": "2023-03-30T19:59:36.669284Z"
        },
        "papermill": {
          "duration": 6.152017,
          "end_time": "2023-03-30T19:59:36.674342",
          "exception": false,
          "start_time": "2023-03-30T19:59:30.522325",
          "status": "completed"
        },
        "tags": [],
        "colab": {
          "base_uri": "https://localhost:8080/",
          "height": 791
        },
        "id": "fbcbe2d3",
        "outputId": "e6f8560c-cb97-4f09-c509-98a49eb5abd1"
      },
      "outputs": [
        {
          "output_type": "execute_result",
          "data": {
            "text/plain": [
              "                 ride_id  rideable_type          started_at  \\\n",
              "298935  109E1D34D9F9E595  electric_bike 2021-11-10 18:34:28   \n",
              "547654  44133F3A381849A9  electric_bike 2021-10-27 08:02:58   \n",
              "296317  80198B33C8BE45AB  electric_bike 2021-10-22 17:58:48   \n",
              "547651  BB6EDF79EE465D8F  electric_bike 2021-10-30 18:43:21   \n",
              "547650  4D2296EA5BF64C5C  electric_bike 2021-10-24 13:12:04   \n",
              "...                  ...            ...                 ...   \n",
              "640346  99415B003B7E7EEE    docked_bike 2021-07-08 19:29:49   \n",
              "81713   E6E1E5BFFD72ECEC    docked_bike 2021-06-05 23:33:51   \n",
              "46321   BDA1217EC8532C7B    docked_bike 2021-05-02 02:56:07   \n",
              "545476  7F0578ABF030FC83    docked_bike 2021-06-04 22:03:33   \n",
              "595683  F043F0F6A1AA4F85    docked_bike 2021-06-05 02:27:26   \n",
              "\n",
              "                  ended_at                       start_station_name  \\\n",
              "298935 2021-11-10 18:34:40                       Rush St & Cedar St   \n",
              "547654 2021-10-27 08:03:00                   St. Clair St & Erie St   \n",
              "296317 2021-10-22 17:59:12               Racine Ave & Fullerton Ave   \n",
              "547651 2021-10-30 18:43:25                   St. Clair St & Erie St   \n",
              "547650 2021-10-24 13:12:20  Wolcott (Ravenswood) Ave & Montrose Ave   \n",
              "...                    ...                                      ...   \n",
              "640346 2021-08-11 21:56:58               Kedzie Ave & Milwaukee Ave   \n",
              "81713  2021-07-12 13:55:14                       Clark St & Lake St   \n",
              "46321  2021-06-08 13:37:43                  State St & Van Buren St   \n",
              "545476 2021-07-13 14:15:14                  Streeter Dr & Grand Ave   \n",
              "595683 2021-07-13 22:51:35                   Michigan Ave & Lake St   \n",
              "\n",
              "       start_station_id                         end_station_name  \\\n",
              "298935     KA1504000133                                      NaN   \n",
              "547654            13016                   St. Clair St & Erie St   \n",
              "296317     TA1306000026               Racine Ave & Fullerton Ave   \n",
              "547651            13016                   St. Clair St & Erie St   \n",
              "547650     TA1307000144  Wolcott (Ravenswood) Ave & Montrose Ave   \n",
              "...                 ...                                      ...   \n",
              "640346            13085          Base - 2132 W Hubbard Warehouse   \n",
              "81713      KA1503000012          Base - 2132 W Hubbard Warehouse   \n",
              "46321      TA1305000035                       Wells St & Polk St   \n",
              "545476            13022          Base - 2132 W Hubbard Warehouse   \n",
              "595683     TA1305000011       Malcolm X College Vaccination Site   \n",
              "\n",
              "                             end_station_id  start_lat  start_lng    end_lat  \\\n",
              "298935                                  NaN  41.902464 -87.627802  41.900000   \n",
              "547654                                13016  41.894194 -87.622822  41.894208   \n",
              "296317                         TA1306000026  41.925635 -87.658281  41.925636   \n",
              "547651                                13016  41.894314 -87.622590  41.894326   \n",
              "547650                         TA1307000144  41.961347 -87.676225  41.961346   \n",
              "...                                     ...        ...        ...        ...   \n",
              "640346  Hubbard Bike-checking (LBS-WH-TEST)  41.929567 -87.707857  41.889955   \n",
              "81713   Hubbard Bike-checking (LBS-WH-TEST)  41.886021 -87.630876  41.889955   \n",
              "46321                                SL-011  41.877181 -87.627844  41.872596   \n",
              "545476  Hubbard Bike-checking (LBS-WH-TEST)  41.892278 -87.612043  41.889955   \n",
              "595683                                  631  41.886024 -87.624117  41.877618   \n",
              "\n",
              "          end_lng member_casual  ride_length_min        day  hour  month  \\\n",
              "298935 -87.630000        member                0  Wednesday    18     11   \n",
              "547654 -87.622864        casual                0  Wednesday     8     10   \n",
              "296317 -87.658291        member                0     Friday    17     10   \n",
              "547651 -87.622597        member                0   Saturday    18     10   \n",
              "547650 -87.676240        member                0     Sunday    13     10   \n",
              "...           ...           ...              ...        ...   ...    ...   \n",
              "640346 -87.680651        casual            49107   Thursday    19      7   \n",
              "81713  -87.680651        casual            52701   Saturday    23      6   \n",
              "46321  -87.633502        casual            53921     Sunday     2      5   \n",
              "545476 -87.680651        casual            55691     Friday    22      6   \n",
              "595683 -87.673895        casual            55944   Saturday     2      6   \n",
              "\n",
              "        day_of_week  \n",
              "298935            2  \n",
              "547654            2  \n",
              "296317            4  \n",
              "547651            5  \n",
              "547650            6  \n",
              "...             ...  \n",
              "640346            3  \n",
              "81713             5  \n",
              "46321             6  \n",
              "545476            4  \n",
              "595683            5  \n",
              "\n",
              "[5722281 rows x 18 columns]"
            ],
            "text/html": [
              "\n",
              "  <div id=\"df-b8a2b4fe-8b11-4adb-9703-90161347819f\" class=\"colab-df-container\">\n",
              "    <div>\n",
              "<style scoped>\n",
              "    .dataframe tbody tr th:only-of-type {\n",
              "        vertical-align: middle;\n",
              "    }\n",
              "\n",
              "    .dataframe tbody tr th {\n",
              "        vertical-align: top;\n",
              "    }\n",
              "\n",
              "    .dataframe thead th {\n",
              "        text-align: right;\n",
              "    }\n",
              "</style>\n",
              "<table border=\"1\" class=\"dataframe\">\n",
              "  <thead>\n",
              "    <tr style=\"text-align: right;\">\n",
              "      <th></th>\n",
              "      <th>ride_id</th>\n",
              "      <th>rideable_type</th>\n",
              "      <th>started_at</th>\n",
              "      <th>ended_at</th>\n",
              "      <th>start_station_name</th>\n",
              "      <th>start_station_id</th>\n",
              "      <th>end_station_name</th>\n",
              "      <th>end_station_id</th>\n",
              "      <th>start_lat</th>\n",
              "      <th>start_lng</th>\n",
              "      <th>end_lat</th>\n",
              "      <th>end_lng</th>\n",
              "      <th>member_casual</th>\n",
              "      <th>ride_length_min</th>\n",
              "      <th>day</th>\n",
              "      <th>hour</th>\n",
              "      <th>month</th>\n",
              "      <th>day_of_week</th>\n",
              "    </tr>\n",
              "  </thead>\n",
              "  <tbody>\n",
              "    <tr>\n",
              "      <th>298935</th>\n",
              "      <td>109E1D34D9F9E595</td>\n",
              "      <td>electric_bike</td>\n",
              "      <td>2021-11-10 18:34:28</td>\n",
              "      <td>2021-11-10 18:34:40</td>\n",
              "      <td>Rush St &amp; Cedar St</td>\n",
              "      <td>KA1504000133</td>\n",
              "      <td>NaN</td>\n",
              "      <td>NaN</td>\n",
              "      <td>41.902464</td>\n",
              "      <td>-87.627802</td>\n",
              "      <td>41.900000</td>\n",
              "      <td>-87.630000</td>\n",
              "      <td>member</td>\n",
              "      <td>0</td>\n",
              "      <td>Wednesday</td>\n",
              "      <td>18</td>\n",
              "      <td>11</td>\n",
              "      <td>2</td>\n",
              "    </tr>\n",
              "    <tr>\n",
              "      <th>547654</th>\n",
              "      <td>44133F3A381849A9</td>\n",
              "      <td>electric_bike</td>\n",
              "      <td>2021-10-27 08:02:58</td>\n",
              "      <td>2021-10-27 08:03:00</td>\n",
              "      <td>St. Clair St &amp; Erie St</td>\n",
              "      <td>13016</td>\n",
              "      <td>St. Clair St &amp; Erie St</td>\n",
              "      <td>13016</td>\n",
              "      <td>41.894194</td>\n",
              "      <td>-87.622822</td>\n",
              "      <td>41.894208</td>\n",
              "      <td>-87.622864</td>\n",
              "      <td>casual</td>\n",
              "      <td>0</td>\n",
              "      <td>Wednesday</td>\n",
              "      <td>8</td>\n",
              "      <td>10</td>\n",
              "      <td>2</td>\n",
              "    </tr>\n",
              "    <tr>\n",
              "      <th>296317</th>\n",
              "      <td>80198B33C8BE45AB</td>\n",
              "      <td>electric_bike</td>\n",
              "      <td>2021-10-22 17:58:48</td>\n",
              "      <td>2021-10-22 17:59:12</td>\n",
              "      <td>Racine Ave &amp; Fullerton Ave</td>\n",
              "      <td>TA1306000026</td>\n",
              "      <td>Racine Ave &amp; Fullerton Ave</td>\n",
              "      <td>TA1306000026</td>\n",
              "      <td>41.925635</td>\n",
              "      <td>-87.658281</td>\n",
              "      <td>41.925636</td>\n",
              "      <td>-87.658291</td>\n",
              "      <td>member</td>\n",
              "      <td>0</td>\n",
              "      <td>Friday</td>\n",
              "      <td>17</td>\n",
              "      <td>10</td>\n",
              "      <td>4</td>\n",
              "    </tr>\n",
              "    <tr>\n",
              "      <th>547651</th>\n",
              "      <td>BB6EDF79EE465D8F</td>\n",
              "      <td>electric_bike</td>\n",
              "      <td>2021-10-30 18:43:21</td>\n",
              "      <td>2021-10-30 18:43:25</td>\n",
              "      <td>St. Clair St &amp; Erie St</td>\n",
              "      <td>13016</td>\n",
              "      <td>St. Clair St &amp; Erie St</td>\n",
              "      <td>13016</td>\n",
              "      <td>41.894314</td>\n",
              "      <td>-87.622590</td>\n",
              "      <td>41.894326</td>\n",
              "      <td>-87.622597</td>\n",
              "      <td>member</td>\n",
              "      <td>0</td>\n",
              "      <td>Saturday</td>\n",
              "      <td>18</td>\n",
              "      <td>10</td>\n",
              "      <td>5</td>\n",
              "    </tr>\n",
              "    <tr>\n",
              "      <th>547650</th>\n",
              "      <td>4D2296EA5BF64C5C</td>\n",
              "      <td>electric_bike</td>\n",
              "      <td>2021-10-24 13:12:04</td>\n",
              "      <td>2021-10-24 13:12:20</td>\n",
              "      <td>Wolcott (Ravenswood) Ave &amp; Montrose Ave</td>\n",
              "      <td>TA1307000144</td>\n",
              "      <td>Wolcott (Ravenswood) Ave &amp; Montrose Ave</td>\n",
              "      <td>TA1307000144</td>\n",
              "      <td>41.961347</td>\n",
              "      <td>-87.676225</td>\n",
              "      <td>41.961346</td>\n",
              "      <td>-87.676240</td>\n",
              "      <td>member</td>\n",
              "      <td>0</td>\n",
              "      <td>Sunday</td>\n",
              "      <td>13</td>\n",
              "      <td>10</td>\n",
              "      <td>6</td>\n",
              "    </tr>\n",
              "    <tr>\n",
              "      <th>...</th>\n",
              "      <td>...</td>\n",
              "      <td>...</td>\n",
              "      <td>...</td>\n",
              "      <td>...</td>\n",
              "      <td>...</td>\n",
              "      <td>...</td>\n",
              "      <td>...</td>\n",
              "      <td>...</td>\n",
              "      <td>...</td>\n",
              "      <td>...</td>\n",
              "      <td>...</td>\n",
              "      <td>...</td>\n",
              "      <td>...</td>\n",
              "      <td>...</td>\n",
              "      <td>...</td>\n",
              "      <td>...</td>\n",
              "      <td>...</td>\n",
              "      <td>...</td>\n",
              "    </tr>\n",
              "    <tr>\n",
              "      <th>640346</th>\n",
              "      <td>99415B003B7E7EEE</td>\n",
              "      <td>docked_bike</td>\n",
              "      <td>2021-07-08 19:29:49</td>\n",
              "      <td>2021-08-11 21:56:58</td>\n",
              "      <td>Kedzie Ave &amp; Milwaukee Ave</td>\n",
              "      <td>13085</td>\n",
              "      <td>Base - 2132 W Hubbard Warehouse</td>\n",
              "      <td>Hubbard Bike-checking (LBS-WH-TEST)</td>\n",
              "      <td>41.929567</td>\n",
              "      <td>-87.707857</td>\n",
              "      <td>41.889955</td>\n",
              "      <td>-87.680651</td>\n",
              "      <td>casual</td>\n",
              "      <td>49107</td>\n",
              "      <td>Thursday</td>\n",
              "      <td>19</td>\n",
              "      <td>7</td>\n",
              "      <td>3</td>\n",
              "    </tr>\n",
              "    <tr>\n",
              "      <th>81713</th>\n",
              "      <td>E6E1E5BFFD72ECEC</td>\n",
              "      <td>docked_bike</td>\n",
              "      <td>2021-06-05 23:33:51</td>\n",
              "      <td>2021-07-12 13:55:14</td>\n",
              "      <td>Clark St &amp; Lake St</td>\n",
              "      <td>KA1503000012</td>\n",
              "      <td>Base - 2132 W Hubbard Warehouse</td>\n",
              "      <td>Hubbard Bike-checking (LBS-WH-TEST)</td>\n",
              "      <td>41.886021</td>\n",
              "      <td>-87.630876</td>\n",
              "      <td>41.889955</td>\n",
              "      <td>-87.680651</td>\n",
              "      <td>casual</td>\n",
              "      <td>52701</td>\n",
              "      <td>Saturday</td>\n",
              "      <td>23</td>\n",
              "      <td>6</td>\n",
              "      <td>5</td>\n",
              "    </tr>\n",
              "    <tr>\n",
              "      <th>46321</th>\n",
              "      <td>BDA1217EC8532C7B</td>\n",
              "      <td>docked_bike</td>\n",
              "      <td>2021-05-02 02:56:07</td>\n",
              "      <td>2021-06-08 13:37:43</td>\n",
              "      <td>State St &amp; Van Buren St</td>\n",
              "      <td>TA1305000035</td>\n",
              "      <td>Wells St &amp; Polk St</td>\n",
              "      <td>SL-011</td>\n",
              "      <td>41.877181</td>\n",
              "      <td>-87.627844</td>\n",
              "      <td>41.872596</td>\n",
              "      <td>-87.633502</td>\n",
              "      <td>casual</td>\n",
              "      <td>53921</td>\n",
              "      <td>Sunday</td>\n",
              "      <td>2</td>\n",
              "      <td>5</td>\n",
              "      <td>6</td>\n",
              "    </tr>\n",
              "    <tr>\n",
              "      <th>545476</th>\n",
              "      <td>7F0578ABF030FC83</td>\n",
              "      <td>docked_bike</td>\n",
              "      <td>2021-06-04 22:03:33</td>\n",
              "      <td>2021-07-13 14:15:14</td>\n",
              "      <td>Streeter Dr &amp; Grand Ave</td>\n",
              "      <td>13022</td>\n",
              "      <td>Base - 2132 W Hubbard Warehouse</td>\n",
              "      <td>Hubbard Bike-checking (LBS-WH-TEST)</td>\n",
              "      <td>41.892278</td>\n",
              "      <td>-87.612043</td>\n",
              "      <td>41.889955</td>\n",
              "      <td>-87.680651</td>\n",
              "      <td>casual</td>\n",
              "      <td>55691</td>\n",
              "      <td>Friday</td>\n",
              "      <td>22</td>\n",
              "      <td>6</td>\n",
              "      <td>4</td>\n",
              "    </tr>\n",
              "    <tr>\n",
              "      <th>595683</th>\n",
              "      <td>F043F0F6A1AA4F85</td>\n",
              "      <td>docked_bike</td>\n",
              "      <td>2021-06-05 02:27:26</td>\n",
              "      <td>2021-07-13 22:51:35</td>\n",
              "      <td>Michigan Ave &amp; Lake St</td>\n",
              "      <td>TA1305000011</td>\n",
              "      <td>Malcolm X College Vaccination Site</td>\n",
              "      <td>631</td>\n",
              "      <td>41.886024</td>\n",
              "      <td>-87.624117</td>\n",
              "      <td>41.877618</td>\n",
              "      <td>-87.673895</td>\n",
              "      <td>casual</td>\n",
              "      <td>55944</td>\n",
              "      <td>Saturday</td>\n",
              "      <td>2</td>\n",
              "      <td>6</td>\n",
              "      <td>5</td>\n",
              "    </tr>\n",
              "  </tbody>\n",
              "</table>\n",
              "<p>5722281 rows × 18 columns</p>\n",
              "</div>\n",
              "    <div class=\"colab-df-buttons\">\n",
              "\n",
              "  <div class=\"colab-df-container\">\n",
              "    <button class=\"colab-df-convert\" onclick=\"convertToInteractive('df-b8a2b4fe-8b11-4adb-9703-90161347819f')\"\n",
              "            title=\"Convert this dataframe to an interactive table.\"\n",
              "            style=\"display:none;\">\n",
              "\n",
              "  <svg xmlns=\"http://www.w3.org/2000/svg\" height=\"24px\" viewBox=\"0 -960 960 960\">\n",
              "    <path d=\"M120-120v-720h720v720H120Zm60-500h600v-160H180v160Zm220 220h160v-160H400v160Zm0 220h160v-160H400v160ZM180-400h160v-160H180v160Zm440 0h160v-160H620v160ZM180-180h160v-160H180v160Zm440 0h160v-160H620v160Z\"/>\n",
              "  </svg>\n",
              "    </button>\n",
              "\n",
              "  <style>\n",
              "    .colab-df-container {\n",
              "      display:flex;\n",
              "      gap: 12px;\n",
              "    }\n",
              "\n",
              "    .colab-df-convert {\n",
              "      background-color: #E8F0FE;\n",
              "      border: none;\n",
              "      border-radius: 50%;\n",
              "      cursor: pointer;\n",
              "      display: none;\n",
              "      fill: #1967D2;\n",
              "      height: 32px;\n",
              "      padding: 0 0 0 0;\n",
              "      width: 32px;\n",
              "    }\n",
              "\n",
              "    .colab-df-convert:hover {\n",
              "      background-color: #E2EBFA;\n",
              "      box-shadow: 0px 1px 2px rgba(60, 64, 67, 0.3), 0px 1px 3px 1px rgba(60, 64, 67, 0.15);\n",
              "      fill: #174EA6;\n",
              "    }\n",
              "\n",
              "    .colab-df-buttons div {\n",
              "      margin-bottom: 4px;\n",
              "    }\n",
              "\n",
              "    [theme=dark] .colab-df-convert {\n",
              "      background-color: #3B4455;\n",
              "      fill: #D2E3FC;\n",
              "    }\n",
              "\n",
              "    [theme=dark] .colab-df-convert:hover {\n",
              "      background-color: #434B5C;\n",
              "      box-shadow: 0px 1px 3px 1px rgba(0, 0, 0, 0.15);\n",
              "      filter: drop-shadow(0px 1px 2px rgba(0, 0, 0, 0.3));\n",
              "      fill: #FFFFFF;\n",
              "    }\n",
              "  </style>\n",
              "\n",
              "    <script>\n",
              "      const buttonEl =\n",
              "        document.querySelector('#df-b8a2b4fe-8b11-4adb-9703-90161347819f button.colab-df-convert');\n",
              "      buttonEl.style.display =\n",
              "        google.colab.kernel.accessAllowed ? 'block' : 'none';\n",
              "\n",
              "      async function convertToInteractive(key) {\n",
              "        const element = document.querySelector('#df-b8a2b4fe-8b11-4adb-9703-90161347819f');\n",
              "        const dataTable =\n",
              "          await google.colab.kernel.invokeFunction('convertToInteractive',\n",
              "                                                    [key], {});\n",
              "        if (!dataTable) return;\n",
              "\n",
              "        const docLinkHtml = 'Like what you see? Visit the ' +\n",
              "          '<a target=\"_blank\" href=https://colab.research.google.com/notebooks/data_table.ipynb>data table notebook</a>'\n",
              "          + ' to learn more about interactive tables.';\n",
              "        element.innerHTML = '';\n",
              "        dataTable['output_type'] = 'display_data';\n",
              "        await google.colab.output.renderOutput(dataTable, element);\n",
              "        const docLink = document.createElement('div');\n",
              "        docLink.innerHTML = docLinkHtml;\n",
              "        element.appendChild(docLink);\n",
              "      }\n",
              "    </script>\n",
              "  </div>\n",
              "\n",
              "\n",
              "<div id=\"df-9a1088fe-0807-45c9-b793-05a7969202d5\">\n",
              "  <button class=\"colab-df-quickchart\" onclick=\"quickchart('df-9a1088fe-0807-45c9-b793-05a7969202d5')\"\n",
              "            title=\"Suggest charts\"\n",
              "            style=\"display:none;\">\n",
              "\n",
              "<svg xmlns=\"http://www.w3.org/2000/svg\" height=\"24px\"viewBox=\"0 0 24 24\"\n",
              "     width=\"24px\">\n",
              "    <g>\n",
              "        <path d=\"M19 3H5c-1.1 0-2 .9-2 2v14c0 1.1.9 2 2 2h14c1.1 0 2-.9 2-2V5c0-1.1-.9-2-2-2zM9 17H7v-7h2v7zm4 0h-2V7h2v10zm4 0h-2v-4h2v4z\"/>\n",
              "    </g>\n",
              "</svg>\n",
              "  </button>\n",
              "\n",
              "<style>\n",
              "  .colab-df-quickchart {\n",
              "      --bg-color: #E8F0FE;\n",
              "      --fill-color: #1967D2;\n",
              "      --hover-bg-color: #E2EBFA;\n",
              "      --hover-fill-color: #174EA6;\n",
              "      --disabled-fill-color: #AAA;\n",
              "      --disabled-bg-color: #DDD;\n",
              "  }\n",
              "\n",
              "  [theme=dark] .colab-df-quickchart {\n",
              "      --bg-color: #3B4455;\n",
              "      --fill-color: #D2E3FC;\n",
              "      --hover-bg-color: #434B5C;\n",
              "      --hover-fill-color: #FFFFFF;\n",
              "      --disabled-bg-color: #3B4455;\n",
              "      --disabled-fill-color: #666;\n",
              "  }\n",
              "\n",
              "  .colab-df-quickchart {\n",
              "    background-color: var(--bg-color);\n",
              "    border: none;\n",
              "    border-radius: 50%;\n",
              "    cursor: pointer;\n",
              "    display: none;\n",
              "    fill: var(--fill-color);\n",
              "    height: 32px;\n",
              "    padding: 0;\n",
              "    width: 32px;\n",
              "  }\n",
              "\n",
              "  .colab-df-quickchart:hover {\n",
              "    background-color: var(--hover-bg-color);\n",
              "    box-shadow: 0 1px 2px rgba(60, 64, 67, 0.3), 0 1px 3px 1px rgba(60, 64, 67, 0.15);\n",
              "    fill: var(--button-hover-fill-color);\n",
              "  }\n",
              "\n",
              "  .colab-df-quickchart-complete:disabled,\n",
              "  .colab-df-quickchart-complete:disabled:hover {\n",
              "    background-color: var(--disabled-bg-color);\n",
              "    fill: var(--disabled-fill-color);\n",
              "    box-shadow: none;\n",
              "  }\n",
              "\n",
              "  .colab-df-spinner {\n",
              "    border: 2px solid var(--fill-color);\n",
              "    border-color: transparent;\n",
              "    border-bottom-color: var(--fill-color);\n",
              "    animation:\n",
              "      spin 1s steps(1) infinite;\n",
              "  }\n",
              "\n",
              "  @keyframes spin {\n",
              "    0% {\n",
              "      border-color: transparent;\n",
              "      border-bottom-color: var(--fill-color);\n",
              "      border-left-color: var(--fill-color);\n",
              "    }\n",
              "    20% {\n",
              "      border-color: transparent;\n",
              "      border-left-color: var(--fill-color);\n",
              "      border-top-color: var(--fill-color);\n",
              "    }\n",
              "    30% {\n",
              "      border-color: transparent;\n",
              "      border-left-color: var(--fill-color);\n",
              "      border-top-color: var(--fill-color);\n",
              "      border-right-color: var(--fill-color);\n",
              "    }\n",
              "    40% {\n",
              "      border-color: transparent;\n",
              "      border-right-color: var(--fill-color);\n",
              "      border-top-color: var(--fill-color);\n",
              "    }\n",
              "    60% {\n",
              "      border-color: transparent;\n",
              "      border-right-color: var(--fill-color);\n",
              "    }\n",
              "    80% {\n",
              "      border-color: transparent;\n",
              "      border-right-color: var(--fill-color);\n",
              "      border-bottom-color: var(--fill-color);\n",
              "    }\n",
              "    90% {\n",
              "      border-color: transparent;\n",
              "      border-bottom-color: var(--fill-color);\n",
              "    }\n",
              "  }\n",
              "</style>\n",
              "\n",
              "  <script>\n",
              "    async function quickchart(key) {\n",
              "      const quickchartButtonEl =\n",
              "        document.querySelector('#' + key + ' button');\n",
              "      quickchartButtonEl.disabled = true;  // To prevent multiple clicks.\n",
              "      quickchartButtonEl.classList.add('colab-df-spinner');\n",
              "      try {\n",
              "        const charts = await google.colab.kernel.invokeFunction(\n",
              "            'suggestCharts', [key], {});\n",
              "      } catch (error) {\n",
              "        console.error('Error during call to suggestCharts:', error);\n",
              "      }\n",
              "      quickchartButtonEl.classList.remove('colab-df-spinner');\n",
              "      quickchartButtonEl.classList.add('colab-df-quickchart-complete');\n",
              "    }\n",
              "    (() => {\n",
              "      let quickchartButtonEl =\n",
              "        document.querySelector('#df-9a1088fe-0807-45c9-b793-05a7969202d5 button');\n",
              "      quickchartButtonEl.style.display =\n",
              "        google.colab.kernel.accessAllowed ? 'block' : 'none';\n",
              "    })();\n",
              "  </script>\n",
              "</div>\n",
              "\n",
              "    </div>\n",
              "  </div>\n"
            ],
            "application/vnd.google.colaboratory.intrinsic+json": {
              "type": "dataframe"
            }
          },
          "metadata": {},
          "execution_count": 17
        }
      ],
      "source": [
        "df.sort_values(by='ride_length_min',ascending=True)"
      ]
    },
    {
      "cell_type": "markdown",
      "id": "a5ca1052",
      "metadata": {
        "papermill": {
          "duration": 0.016059,
          "end_time": "2023-03-30T19:59:36.707434",
          "exception": false,
          "start_time": "2023-03-30T19:59:36.691375",
          "status": "completed"
        },
        "tags": [],
        "id": "a5ca1052"
      },
      "source": [
        "There are entries in which the rides lasted less than 1 minute. Check what percentage of the data represents this instance."
      ]
    },
    {
      "cell_type": "code",
      "execution_count": 18,
      "id": "6facd18b",
      "metadata": {
        "execution": {
          "iopub.execute_input": "2023-03-30T19:59:36.744720Z",
          "iopub.status.busy": "2023-03-30T19:59:36.744340Z",
          "iopub.status.idle": "2023-03-30T19:59:37.798858Z",
          "shell.execute_reply": "2023-03-30T19:59:37.797362Z"
        },
        "papermill": {
          "duration": 1.075296,
          "end_time": "2023-03-30T19:59:37.801019",
          "exception": false,
          "start_time": "2023-03-30T19:59:36.725723",
          "status": "completed"
        },
        "tags": [],
        "colab": {
          "base_uri": "https://localhost:8080/"
        },
        "id": "6facd18b",
        "outputId": "a6508aac-8d14-4d40-fe50-48d70d34b864"
      },
      "outputs": [
        {
          "output_type": "stream",
          "name": "stdout",
          "text": [
            "The percentage is: 1.5590461216427505\n"
          ]
        }
      ],
      "source": [
        "print('The percentage is:',df.query('ride_length_min == 0').shape[0] / df.shape[0] * 100)"
      ]
    },
    {
      "cell_type": "markdown",
      "id": "5b833be9",
      "metadata": {
        "papermill": {
          "duration": 0.015469,
          "end_time": "2023-03-30T19:59:37.832662",
          "exception": false,
          "start_time": "2023-03-30T19:59:37.817193",
          "status": "completed"
        },
        "tags": [],
        "id": "5b833be9"
      },
      "source": [
        "\"Since these entries constitute only 1%, we can delete the rows with ride lengths of less than 1 minute.\""
      ]
    },
    {
      "cell_type": "code",
      "execution_count": 19,
      "id": "9f1a24f6",
      "metadata": {
        "execution": {
          "iopub.execute_input": "2023-03-30T19:59:37.866411Z",
          "iopub.status.busy": "2023-03-30T19:59:37.866048Z",
          "iopub.status.idle": "2023-03-30T19:59:40.049650Z",
          "shell.execute_reply": "2023-03-30T19:59:40.048546Z"
        },
        "papermill": {
          "duration": 2.203736,
          "end_time": "2023-03-30T19:59:40.052260",
          "exception": false,
          "start_time": "2023-03-30T19:59:37.848524",
          "status": "completed"
        },
        "tags": [],
        "id": "9f1a24f6"
      },
      "outputs": [],
      "source": [
        "zero_length = (df['ride_length_min'] < 1)\n",
        "zero_length_index = df.loc[zero_length].index.to_list()\n",
        "df = df.drop(axis=0,index=zero_length_index, inplace=False)"
      ]
    },
    {
      "cell_type": "code",
      "execution_count": 20,
      "id": "80d25fc0",
      "metadata": {
        "execution": {
          "iopub.execute_input": "2023-03-30T19:59:40.086786Z",
          "iopub.status.busy": "2023-03-30T19:59:40.086379Z",
          "iopub.status.idle": "2023-03-30T19:59:40.115417Z",
          "shell.execute_reply": "2023-03-30T19:59:40.114101Z"
        },
        "papermill": {
          "duration": 0.049558,
          "end_time": "2023-03-30T19:59:40.118436",
          "exception": false,
          "start_time": "2023-03-30T19:59:40.068878",
          "status": "completed"
        },
        "tags": [],
        "colab": {
          "base_uri": "https://localhost:8080/",
          "height": 73
        },
        "id": "80d25fc0",
        "outputId": "45c7de92-61c4-40fa-b52c-2745f31f442d"
      },
      "outputs": [
        {
          "output_type": "execute_result",
          "data": {
            "text/plain": [
              "Empty DataFrame\n",
              "Columns: [ride_id, rideable_type, started_at, ended_at, start_station_name, start_station_id, end_station_name, end_station_id, start_lat, start_lng, end_lat, end_lng, member_casual, ride_length_min, day, hour, month, day_of_week]\n",
              "Index: []"
            ],
            "text/html": [
              "\n",
              "  <div id=\"df-1b0c35e3-7df1-4be4-875b-2c9face8aff2\" class=\"colab-df-container\">\n",
              "    <div>\n",
              "<style scoped>\n",
              "    .dataframe tbody tr th:only-of-type {\n",
              "        vertical-align: middle;\n",
              "    }\n",
              "\n",
              "    .dataframe tbody tr th {\n",
              "        vertical-align: top;\n",
              "    }\n",
              "\n",
              "    .dataframe thead th {\n",
              "        text-align: right;\n",
              "    }\n",
              "</style>\n",
              "<table border=\"1\" class=\"dataframe\">\n",
              "  <thead>\n",
              "    <tr style=\"text-align: right;\">\n",
              "      <th></th>\n",
              "      <th>ride_id</th>\n",
              "      <th>rideable_type</th>\n",
              "      <th>started_at</th>\n",
              "      <th>ended_at</th>\n",
              "      <th>start_station_name</th>\n",
              "      <th>start_station_id</th>\n",
              "      <th>end_station_name</th>\n",
              "      <th>end_station_id</th>\n",
              "      <th>start_lat</th>\n",
              "      <th>start_lng</th>\n",
              "      <th>end_lat</th>\n",
              "      <th>end_lng</th>\n",
              "      <th>member_casual</th>\n",
              "      <th>ride_length_min</th>\n",
              "      <th>day</th>\n",
              "      <th>hour</th>\n",
              "      <th>month</th>\n",
              "      <th>day_of_week</th>\n",
              "    </tr>\n",
              "  </thead>\n",
              "  <tbody>\n",
              "  </tbody>\n",
              "</table>\n",
              "</div>\n",
              "    <div class=\"colab-df-buttons\">\n",
              "\n",
              "  <div class=\"colab-df-container\">\n",
              "    <button class=\"colab-df-convert\" onclick=\"convertToInteractive('df-1b0c35e3-7df1-4be4-875b-2c9face8aff2')\"\n",
              "            title=\"Convert this dataframe to an interactive table.\"\n",
              "            style=\"display:none;\">\n",
              "\n",
              "  <svg xmlns=\"http://www.w3.org/2000/svg\" height=\"24px\" viewBox=\"0 -960 960 960\">\n",
              "    <path d=\"M120-120v-720h720v720H120Zm60-500h600v-160H180v160Zm220 220h160v-160H400v160Zm0 220h160v-160H400v160ZM180-400h160v-160H180v160Zm440 0h160v-160H620v160ZM180-180h160v-160H180v160Zm440 0h160v-160H620v160Z\"/>\n",
              "  </svg>\n",
              "    </button>\n",
              "\n",
              "  <style>\n",
              "    .colab-df-container {\n",
              "      display:flex;\n",
              "      gap: 12px;\n",
              "    }\n",
              "\n",
              "    .colab-df-convert {\n",
              "      background-color: #E8F0FE;\n",
              "      border: none;\n",
              "      border-radius: 50%;\n",
              "      cursor: pointer;\n",
              "      display: none;\n",
              "      fill: #1967D2;\n",
              "      height: 32px;\n",
              "      padding: 0 0 0 0;\n",
              "      width: 32px;\n",
              "    }\n",
              "\n",
              "    .colab-df-convert:hover {\n",
              "      background-color: #E2EBFA;\n",
              "      box-shadow: 0px 1px 2px rgba(60, 64, 67, 0.3), 0px 1px 3px 1px rgba(60, 64, 67, 0.15);\n",
              "      fill: #174EA6;\n",
              "    }\n",
              "\n",
              "    .colab-df-buttons div {\n",
              "      margin-bottom: 4px;\n",
              "    }\n",
              "\n",
              "    [theme=dark] .colab-df-convert {\n",
              "      background-color: #3B4455;\n",
              "      fill: #D2E3FC;\n",
              "    }\n",
              "\n",
              "    [theme=dark] .colab-df-convert:hover {\n",
              "      background-color: #434B5C;\n",
              "      box-shadow: 0px 1px 3px 1px rgba(0, 0, 0, 0.15);\n",
              "      filter: drop-shadow(0px 1px 2px rgba(0, 0, 0, 0.3));\n",
              "      fill: #FFFFFF;\n",
              "    }\n",
              "  </style>\n",
              "\n",
              "    <script>\n",
              "      const buttonEl =\n",
              "        document.querySelector('#df-1b0c35e3-7df1-4be4-875b-2c9face8aff2 button.colab-df-convert');\n",
              "      buttonEl.style.display =\n",
              "        google.colab.kernel.accessAllowed ? 'block' : 'none';\n",
              "\n",
              "      async function convertToInteractive(key) {\n",
              "        const element = document.querySelector('#df-1b0c35e3-7df1-4be4-875b-2c9face8aff2');\n",
              "        const dataTable =\n",
              "          await google.colab.kernel.invokeFunction('convertToInteractive',\n",
              "                                                    [key], {});\n",
              "        if (!dataTable) return;\n",
              "\n",
              "        const docLinkHtml = 'Like what you see? Visit the ' +\n",
              "          '<a target=\"_blank\" href=https://colab.research.google.com/notebooks/data_table.ipynb>data table notebook</a>'\n",
              "          + ' to learn more about interactive tables.';\n",
              "        element.innerHTML = '';\n",
              "        dataTable['output_type'] = 'display_data';\n",
              "        await google.colab.output.renderOutput(dataTable, element);\n",
              "        const docLink = document.createElement('div');\n",
              "        docLink.innerHTML = docLinkHtml;\n",
              "        element.appendChild(docLink);\n",
              "      }\n",
              "    </script>\n",
              "  </div>\n",
              "\n",
              "\n",
              "    </div>\n",
              "  </div>\n"
            ],
            "application/vnd.google.colaboratory.intrinsic+json": {
              "type": "dataframe",
              "repr_error": "Out of range float values are not JSON compliant: nan"
            }
          },
          "metadata": {},
          "execution_count": 20
        }
      ],
      "source": [
        "df.query('ride_length_min < 0')"
      ]
    },
    {
      "cell_type": "markdown",
      "id": "7a8c57da",
      "metadata": {
        "papermill": {
          "duration": 0.016657,
          "end_time": "2023-03-30T19:59:40.152711",
          "exception": false,
          "start_time": "2023-03-30T19:59:40.136054",
          "status": "completed"
        },
        "tags": [],
        "id": "7a8c57da"
      },
      "source": [
        "### 4. Analysis\n",
        "\n",
        "Let's conduct some exploratory and statistical analysis on our dataset, with a focus on understanding the business question. Specifically, will examine the differences between members and casual users."
      ]
    },
    {
      "cell_type": "markdown",
      "id": "53ebead1",
      "metadata": {
        "papermill": {
          "duration": 0.016345,
          "end_time": "2023-03-30T19:59:40.186700",
          "exception": false,
          "start_time": "2023-03-30T19:59:40.170355",
          "status": "completed"
        },
        "tags": [],
        "id": "53ebead1"
      },
      "source": [
        "### Describing the data\n",
        "A quick look at the numerical data with the describe function"
      ]
    },
    {
      "cell_type": "code",
      "execution_count": 21,
      "id": "1a4187c4",
      "metadata": {
        "execution": {
          "iopub.execute_input": "2023-03-30T19:59:40.222952Z",
          "iopub.status.busy": "2023-03-30T19:59:40.222607Z",
          "iopub.status.idle": "2023-03-30T19:59:41.351272Z",
          "shell.execute_reply": "2023-03-30T19:59:41.350257Z"
        },
        "papermill": {
          "duration": 1.149351,
          "end_time": "2023-03-30T19:59:41.353307",
          "exception": false,
          "start_time": "2023-03-30T19:59:40.203956",
          "status": "completed"
        },
        "tags": [],
        "colab": {
          "base_uri": "https://localhost:8080/",
          "height": 424
        },
        "id": "1a4187c4",
        "outputId": "5f29b3bb-0fee-40ea-812d-d3ba8e3a6313"
      },
      "outputs": [
        {
          "output_type": "execute_result",
          "data": {
            "text/plain": [
              "                          started_at                       ended_at  \\\n",
              "count                        5033885                        5033885   \n",
              "mean   2021-08-25 21:03:38.844663040  2021-08-25 21:25:35.227382272   \n",
              "min              2021-04-01 00:03:18            2021-04-01 00:14:29   \n",
              "25%              2021-06-22 17:17:10            2021-06-22 17:37:44   \n",
              "50%              2021-08-16 18:52:18            2021-08-16 19:10:57   \n",
              "75%              2021-10-12 19:17:00            2021-10-12 19:32:30   \n",
              "max              2022-03-31 23:59:47            2022-04-01 22:10:12   \n",
              "std                              NaN                            NaN   \n",
              "\n",
              "        start_lat   start_lng     end_lat     end_lng  ride_length_min  \\\n",
              "count  5033885.00  5033885.00  5029606.00  5029606.00       5033885.00   \n",
              "mean        41.90      -87.65       41.90      -87.65            21.45   \n",
              "min         41.64      -87.84       41.39      -88.97             1.00   \n",
              "25%         41.88      -87.66       41.88      -87.66             6.00   \n",
              "50%         41.90      -87.64       41.90      -87.64            11.00   \n",
              "75%         41.93      -87.63       41.93      -87.63            21.00   \n",
              "max         42.07      -87.52       42.15      -87.49         55944.00   \n",
              "std          0.05        0.03        0.05        0.03           179.18   \n",
              "\n",
              "             hour       month  day_of_week  \n",
              "count  5033885.00  5033885.00   5033885.00  \n",
              "mean        14.23        7.33         3.16  \n",
              "min          0.00        1.00         0.00  \n",
              "25%         11.00        6.00         1.00  \n",
              "50%         15.00        7.00         3.00  \n",
              "75%         18.00        9.00         5.00  \n",
              "max         23.00       12.00         6.00  \n",
              "std          5.06        2.54         2.00  "
            ],
            "text/html": [
              "\n",
              "  <div id=\"df-63ac0ba0-689b-4e23-bb07-cc0454583584\" class=\"colab-df-container\">\n",
              "    <div>\n",
              "<style scoped>\n",
              "    .dataframe tbody tr th:only-of-type {\n",
              "        vertical-align: middle;\n",
              "    }\n",
              "\n",
              "    .dataframe tbody tr th {\n",
              "        vertical-align: top;\n",
              "    }\n",
              "\n",
              "    .dataframe thead th {\n",
              "        text-align: right;\n",
              "    }\n",
              "</style>\n",
              "<table border=\"1\" class=\"dataframe\">\n",
              "  <thead>\n",
              "    <tr style=\"text-align: right;\">\n",
              "      <th></th>\n",
              "      <th>started_at</th>\n",
              "      <th>ended_at</th>\n",
              "      <th>start_lat</th>\n",
              "      <th>start_lng</th>\n",
              "      <th>end_lat</th>\n",
              "      <th>end_lng</th>\n",
              "      <th>ride_length_min</th>\n",
              "      <th>hour</th>\n",
              "      <th>month</th>\n",
              "      <th>day_of_week</th>\n",
              "    </tr>\n",
              "  </thead>\n",
              "  <tbody>\n",
              "    <tr>\n",
              "      <th>count</th>\n",
              "      <td>5033885</td>\n",
              "      <td>5033885</td>\n",
              "      <td>5033885.00</td>\n",
              "      <td>5033885.00</td>\n",
              "      <td>5029606.00</td>\n",
              "      <td>5029606.00</td>\n",
              "      <td>5033885.00</td>\n",
              "      <td>5033885.00</td>\n",
              "      <td>5033885.00</td>\n",
              "      <td>5033885.00</td>\n",
              "    </tr>\n",
              "    <tr>\n",
              "      <th>mean</th>\n",
              "      <td>2021-08-25 21:03:38.844663040</td>\n",
              "      <td>2021-08-25 21:25:35.227382272</td>\n",
              "      <td>41.90</td>\n",
              "      <td>-87.65</td>\n",
              "      <td>41.90</td>\n",
              "      <td>-87.65</td>\n",
              "      <td>21.45</td>\n",
              "      <td>14.23</td>\n",
              "      <td>7.33</td>\n",
              "      <td>3.16</td>\n",
              "    </tr>\n",
              "    <tr>\n",
              "      <th>min</th>\n",
              "      <td>2021-04-01 00:03:18</td>\n",
              "      <td>2021-04-01 00:14:29</td>\n",
              "      <td>41.64</td>\n",
              "      <td>-87.84</td>\n",
              "      <td>41.39</td>\n",
              "      <td>-88.97</td>\n",
              "      <td>1.00</td>\n",
              "      <td>0.00</td>\n",
              "      <td>1.00</td>\n",
              "      <td>0.00</td>\n",
              "    </tr>\n",
              "    <tr>\n",
              "      <th>25%</th>\n",
              "      <td>2021-06-22 17:17:10</td>\n",
              "      <td>2021-06-22 17:37:44</td>\n",
              "      <td>41.88</td>\n",
              "      <td>-87.66</td>\n",
              "      <td>41.88</td>\n",
              "      <td>-87.66</td>\n",
              "      <td>6.00</td>\n",
              "      <td>11.00</td>\n",
              "      <td>6.00</td>\n",
              "      <td>1.00</td>\n",
              "    </tr>\n",
              "    <tr>\n",
              "      <th>50%</th>\n",
              "      <td>2021-08-16 18:52:18</td>\n",
              "      <td>2021-08-16 19:10:57</td>\n",
              "      <td>41.90</td>\n",
              "      <td>-87.64</td>\n",
              "      <td>41.90</td>\n",
              "      <td>-87.64</td>\n",
              "      <td>11.00</td>\n",
              "      <td>15.00</td>\n",
              "      <td>7.00</td>\n",
              "      <td>3.00</td>\n",
              "    </tr>\n",
              "    <tr>\n",
              "      <th>75%</th>\n",
              "      <td>2021-10-12 19:17:00</td>\n",
              "      <td>2021-10-12 19:32:30</td>\n",
              "      <td>41.93</td>\n",
              "      <td>-87.63</td>\n",
              "      <td>41.93</td>\n",
              "      <td>-87.63</td>\n",
              "      <td>21.00</td>\n",
              "      <td>18.00</td>\n",
              "      <td>9.00</td>\n",
              "      <td>5.00</td>\n",
              "    </tr>\n",
              "    <tr>\n",
              "      <th>max</th>\n",
              "      <td>2022-03-31 23:59:47</td>\n",
              "      <td>2022-04-01 22:10:12</td>\n",
              "      <td>42.07</td>\n",
              "      <td>-87.52</td>\n",
              "      <td>42.15</td>\n",
              "      <td>-87.49</td>\n",
              "      <td>55944.00</td>\n",
              "      <td>23.00</td>\n",
              "      <td>12.00</td>\n",
              "      <td>6.00</td>\n",
              "    </tr>\n",
              "    <tr>\n",
              "      <th>std</th>\n",
              "      <td>NaN</td>\n",
              "      <td>NaN</td>\n",
              "      <td>0.05</td>\n",
              "      <td>0.03</td>\n",
              "      <td>0.05</td>\n",
              "      <td>0.03</td>\n",
              "      <td>179.18</td>\n",
              "      <td>5.06</td>\n",
              "      <td>2.54</td>\n",
              "      <td>2.00</td>\n",
              "    </tr>\n",
              "  </tbody>\n",
              "</table>\n",
              "</div>\n",
              "    <div class=\"colab-df-buttons\">\n",
              "\n",
              "  <div class=\"colab-df-container\">\n",
              "    <button class=\"colab-df-convert\" onclick=\"convertToInteractive('df-63ac0ba0-689b-4e23-bb07-cc0454583584')\"\n",
              "            title=\"Convert this dataframe to an interactive table.\"\n",
              "            style=\"display:none;\">\n",
              "\n",
              "  <svg xmlns=\"http://www.w3.org/2000/svg\" height=\"24px\" viewBox=\"0 -960 960 960\">\n",
              "    <path d=\"M120-120v-720h720v720H120Zm60-500h600v-160H180v160Zm220 220h160v-160H400v160Zm0 220h160v-160H400v160ZM180-400h160v-160H180v160Zm440 0h160v-160H620v160ZM180-180h160v-160H180v160Zm440 0h160v-160H620v160Z\"/>\n",
              "  </svg>\n",
              "    </button>\n",
              "\n",
              "  <style>\n",
              "    .colab-df-container {\n",
              "      display:flex;\n",
              "      gap: 12px;\n",
              "    }\n",
              "\n",
              "    .colab-df-convert {\n",
              "      background-color: #E8F0FE;\n",
              "      border: none;\n",
              "      border-radius: 50%;\n",
              "      cursor: pointer;\n",
              "      display: none;\n",
              "      fill: #1967D2;\n",
              "      height: 32px;\n",
              "      padding: 0 0 0 0;\n",
              "      width: 32px;\n",
              "    }\n",
              "\n",
              "    .colab-df-convert:hover {\n",
              "      background-color: #E2EBFA;\n",
              "      box-shadow: 0px 1px 2px rgba(60, 64, 67, 0.3), 0px 1px 3px 1px rgba(60, 64, 67, 0.15);\n",
              "      fill: #174EA6;\n",
              "    }\n",
              "\n",
              "    .colab-df-buttons div {\n",
              "      margin-bottom: 4px;\n",
              "    }\n",
              "\n",
              "    [theme=dark] .colab-df-convert {\n",
              "      background-color: #3B4455;\n",
              "      fill: #D2E3FC;\n",
              "    }\n",
              "\n",
              "    [theme=dark] .colab-df-convert:hover {\n",
              "      background-color: #434B5C;\n",
              "      box-shadow: 0px 1px 3px 1px rgba(0, 0, 0, 0.15);\n",
              "      filter: drop-shadow(0px 1px 2px rgba(0, 0, 0, 0.3));\n",
              "      fill: #FFFFFF;\n",
              "    }\n",
              "  </style>\n",
              "\n",
              "    <script>\n",
              "      const buttonEl =\n",
              "        document.querySelector('#df-63ac0ba0-689b-4e23-bb07-cc0454583584 button.colab-df-convert');\n",
              "      buttonEl.style.display =\n",
              "        google.colab.kernel.accessAllowed ? 'block' : 'none';\n",
              "\n",
              "      async function convertToInteractive(key) {\n",
              "        const element = document.querySelector('#df-63ac0ba0-689b-4e23-bb07-cc0454583584');\n",
              "        const dataTable =\n",
              "          await google.colab.kernel.invokeFunction('convertToInteractive',\n",
              "                                                    [key], {});\n",
              "        if (!dataTable) return;\n",
              "\n",
              "        const docLinkHtml = 'Like what you see? Visit the ' +\n",
              "          '<a target=\"_blank\" href=https://colab.research.google.com/notebooks/data_table.ipynb>data table notebook</a>'\n",
              "          + ' to learn more about interactive tables.';\n",
              "        element.innerHTML = '';\n",
              "        dataTable['output_type'] = 'display_data';\n",
              "        await google.colab.output.renderOutput(dataTable, element);\n",
              "        const docLink = document.createElement('div');\n",
              "        docLink.innerHTML = docLinkHtml;\n",
              "        element.appendChild(docLink);\n",
              "      }\n",
              "    </script>\n",
              "  </div>\n",
              "\n",
              "\n",
              "<div id=\"df-6fa7cbcb-ddbd-40b6-b58f-3bf725ecd6aa\">\n",
              "  <button class=\"colab-df-quickchart\" onclick=\"quickchart('df-6fa7cbcb-ddbd-40b6-b58f-3bf725ecd6aa')\"\n",
              "            title=\"Suggest charts\"\n",
              "            style=\"display:none;\">\n",
              "\n",
              "<svg xmlns=\"http://www.w3.org/2000/svg\" height=\"24px\"viewBox=\"0 0 24 24\"\n",
              "     width=\"24px\">\n",
              "    <g>\n",
              "        <path d=\"M19 3H5c-1.1 0-2 .9-2 2v14c0 1.1.9 2 2 2h14c1.1 0 2-.9 2-2V5c0-1.1-.9-2-2-2zM9 17H7v-7h2v7zm4 0h-2V7h2v10zm4 0h-2v-4h2v4z\"/>\n",
              "    </g>\n",
              "</svg>\n",
              "  </button>\n",
              "\n",
              "<style>\n",
              "  .colab-df-quickchart {\n",
              "      --bg-color: #E8F0FE;\n",
              "      --fill-color: #1967D2;\n",
              "      --hover-bg-color: #E2EBFA;\n",
              "      --hover-fill-color: #174EA6;\n",
              "      --disabled-fill-color: #AAA;\n",
              "      --disabled-bg-color: #DDD;\n",
              "  }\n",
              "\n",
              "  [theme=dark] .colab-df-quickchart {\n",
              "      --bg-color: #3B4455;\n",
              "      --fill-color: #D2E3FC;\n",
              "      --hover-bg-color: #434B5C;\n",
              "      --hover-fill-color: #FFFFFF;\n",
              "      --disabled-bg-color: #3B4455;\n",
              "      --disabled-fill-color: #666;\n",
              "  }\n",
              "\n",
              "  .colab-df-quickchart {\n",
              "    background-color: var(--bg-color);\n",
              "    border: none;\n",
              "    border-radius: 50%;\n",
              "    cursor: pointer;\n",
              "    display: none;\n",
              "    fill: var(--fill-color);\n",
              "    height: 32px;\n",
              "    padding: 0;\n",
              "    width: 32px;\n",
              "  }\n",
              "\n",
              "  .colab-df-quickchart:hover {\n",
              "    background-color: var(--hover-bg-color);\n",
              "    box-shadow: 0 1px 2px rgba(60, 64, 67, 0.3), 0 1px 3px 1px rgba(60, 64, 67, 0.15);\n",
              "    fill: var(--button-hover-fill-color);\n",
              "  }\n",
              "\n",
              "  .colab-df-quickchart-complete:disabled,\n",
              "  .colab-df-quickchart-complete:disabled:hover {\n",
              "    background-color: var(--disabled-bg-color);\n",
              "    fill: var(--disabled-fill-color);\n",
              "    box-shadow: none;\n",
              "  }\n",
              "\n",
              "  .colab-df-spinner {\n",
              "    border: 2px solid var(--fill-color);\n",
              "    border-color: transparent;\n",
              "    border-bottom-color: var(--fill-color);\n",
              "    animation:\n",
              "      spin 1s steps(1) infinite;\n",
              "  }\n",
              "\n",
              "  @keyframes spin {\n",
              "    0% {\n",
              "      border-color: transparent;\n",
              "      border-bottom-color: var(--fill-color);\n",
              "      border-left-color: var(--fill-color);\n",
              "    }\n",
              "    20% {\n",
              "      border-color: transparent;\n",
              "      border-left-color: var(--fill-color);\n",
              "      border-top-color: var(--fill-color);\n",
              "    }\n",
              "    30% {\n",
              "      border-color: transparent;\n",
              "      border-left-color: var(--fill-color);\n",
              "      border-top-color: var(--fill-color);\n",
              "      border-right-color: var(--fill-color);\n",
              "    }\n",
              "    40% {\n",
              "      border-color: transparent;\n",
              "      border-right-color: var(--fill-color);\n",
              "      border-top-color: var(--fill-color);\n",
              "    }\n",
              "    60% {\n",
              "      border-color: transparent;\n",
              "      border-right-color: var(--fill-color);\n",
              "    }\n",
              "    80% {\n",
              "      border-color: transparent;\n",
              "      border-right-color: var(--fill-color);\n",
              "      border-bottom-color: var(--fill-color);\n",
              "    }\n",
              "    90% {\n",
              "      border-color: transparent;\n",
              "      border-bottom-color: var(--fill-color);\n",
              "    }\n",
              "  }\n",
              "</style>\n",
              "\n",
              "  <script>\n",
              "    async function quickchart(key) {\n",
              "      const quickchartButtonEl =\n",
              "        document.querySelector('#' + key + ' button');\n",
              "      quickchartButtonEl.disabled = true;  // To prevent multiple clicks.\n",
              "      quickchartButtonEl.classList.add('colab-df-spinner');\n",
              "      try {\n",
              "        const charts = await google.colab.kernel.invokeFunction(\n",
              "            'suggestCharts', [key], {});\n",
              "      } catch (error) {\n",
              "        console.error('Error during call to suggestCharts:', error);\n",
              "      }\n",
              "      quickchartButtonEl.classList.remove('colab-df-spinner');\n",
              "      quickchartButtonEl.classList.add('colab-df-quickchart-complete');\n",
              "    }\n",
              "    (() => {\n",
              "      let quickchartButtonEl =\n",
              "        document.querySelector('#df-6fa7cbcb-ddbd-40b6-b58f-3bf725ecd6aa button');\n",
              "      quickchartButtonEl.style.display =\n",
              "        google.colab.kernel.accessAllowed ? 'block' : 'none';\n",
              "    })();\n",
              "  </script>\n",
              "</div>\n",
              "\n",
              "    </div>\n",
              "  </div>\n"
            ],
            "application/vnd.google.colaboratory.intrinsic+json": {
              "type": "dataframe",
              "summary": "{\n  \"name\": \"round(df\",\n  \"rows\": 8,\n  \"fields\": [\n    {\n      \"column\": \"started_at\",\n      \"properties\": {\n        \"dtype\": \"date\",\n        \"min\": \"1970-01-01 00:00:00.005033885\",\n        \"max\": \"2022-03-31 23:59:47\",\n        \"num_unique_values\": 7,\n        \"samples\": [\n          \"5033885\",\n          \"2021-08-25 21:03:38.844663040\",\n          \"2021-10-12 19:17:00\"\n        ],\n        \"semantic_type\": \"\",\n        \"description\": \"\"\n      }\n    },\n    {\n      \"column\": \"ended_at\",\n      \"properties\": {\n        \"dtype\": \"date\",\n        \"min\": \"1970-01-01 00:00:00.005033885\",\n        \"max\": \"2022-04-01 22:10:12\",\n        \"num_unique_values\": 7,\n        \"samples\": [\n          \"5033885\",\n          \"2021-08-25 21:25:35.227382272\",\n          \"2021-10-12 19:32:30\"\n        ],\n        \"semantic_type\": \"\",\n        \"description\": \"\"\n      }\n    },\n    {\n      \"column\": \"start_lat\",\n      \"properties\": {\n        \"dtype\": \"number\",\n        \"std\": 1779734.413564582,\n        \"min\": 0.05,\n        \"max\": 5033885.0,\n        \"num_unique_values\": 7,\n        \"samples\": [\n          5033885.0,\n          41.9,\n          42.07\n        ],\n        \"semantic_type\": \"\",\n        \"description\": \"\"\n      }\n    },\n    {\n      \"column\": \"start_lng\",\n      \"properties\": {\n        \"dtype\": \"number\",\n        \"std\": 1779773.6723373604,\n        \"min\": -87.84,\n        \"max\": 5033885.0,\n        \"num_unique_values\": 8,\n        \"samples\": [\n          -87.65,\n          -87.63,\n          5033885.0\n        ],\n        \"semantic_type\": \"\",\n        \"description\": \"\"\n      }\n    },\n    {\n      \"column\": \"end_lat\",\n      \"properties\": {\n        \"dtype\": \"number\",\n        \"std\": 1778221.567192508,\n        \"min\": 0.05,\n        \"max\": 5029606.0,\n        \"num_unique_values\": 7,\n        \"samples\": [\n          5029606.0,\n          41.9,\n          42.15\n        ],\n        \"semantic_type\": \"\",\n        \"description\": \"\"\n      }\n    },\n    {\n      \"column\": \"end_lng\",\n      \"properties\": {\n        \"dtype\": \"number\",\n        \"std\": 1778260.872938795,\n        \"min\": -88.97,\n        \"max\": 5029606.0,\n        \"num_unique_values\": 8,\n        \"samples\": [\n          -87.65,\n          -87.63,\n          5029606.0\n        ],\n        \"semantic_type\": \"\",\n        \"description\": \"\"\n      }\n    },\n    {\n      \"column\": \"ride_length_min\",\n      \"properties\": {\n        \"dtype\": \"number\",\n        \"std\": 1777017.0883197095,\n        \"min\": 1.0,\n        \"max\": 5033885.0,\n        \"num_unique_values\": 8,\n        \"samples\": [\n          21.45,\n          21.0,\n          5033885.0\n        ],\n        \"semantic_type\": \"\",\n        \"description\": \"\"\n      }\n    },\n    {\n      \"column\": \"hour\",\n      \"properties\": {\n        \"dtype\": \"number\",\n        \"std\": 1779742.7513180529,\n        \"min\": 0.0,\n        \"max\": 5033885.0,\n        \"num_unique_values\": 8,\n        \"samples\": [\n          14.23,\n          18.0,\n          5033885.0\n        ],\n        \"semantic_type\": \"\",\n        \"description\": \"\"\n      }\n    },\n    {\n      \"column\": \"month\",\n      \"properties\": {\n        \"dtype\": \"number\",\n        \"std\": 1779744.843332742,\n        \"min\": 1.0,\n        \"max\": 5033885.0,\n        \"num_unique_values\": 8,\n        \"samples\": [\n          7.33,\n          9.0,\n          5033885.0\n        ],\n        \"semantic_type\": \"\",\n        \"description\": \"\"\n      }\n    },\n    {\n      \"column\": \"day_of_week\",\n      \"properties\": {\n        \"dtype\": \"number\",\n        \"std\": 1779746.0913739377,\n        \"min\": 0.0,\n        \"max\": 5033885.0,\n        \"num_unique_values\": 8,\n        \"samples\": [\n          3.16,\n          5.0,\n          5033885.0\n        ],\n        \"semantic_type\": \"\",\n        \"description\": \"\"\n      }\n    }\n  ]\n}"
            }
          },
          "metadata": {},
          "execution_count": 21
        }
      ],
      "source": [
        "round(df.describe(),2)"
      ]
    },
    {
      "cell_type": "markdown",
      "id": "08475634",
      "metadata": {
        "papermill": {
          "duration": 0.016422,
          "end_time": "2023-03-30T19:59:41.386571",
          "exception": false,
          "start_time": "2023-03-30T19:59:41.370149",
          "status": "completed"
        },
        "tags": [],
        "id": "08475634"
      },
      "source": [
        "The intriguing aspect is the variable ride_length_min. I've observed that the maximum value significantly exceeds the 75 percentile, suggesting potential outliers. It's crucial to consider this in our analysis."
      ]
    },
    {
      "cell_type": "markdown",
      "id": "c0c03e85",
      "metadata": {
        "papermill": {
          "duration": 0.016374,
          "end_time": "2023-03-30T19:59:41.419445",
          "exception": false,
          "start_time": "2023-03-30T19:59:41.403071",
          "status": "completed"
        },
        "tags": [],
        "id": "c0c03e85"
      },
      "source": [
        "### Number of values\n",
        "Count the number of values for type of users and rideable type"
      ]
    },
    {
      "cell_type": "code",
      "execution_count": 22,
      "id": "e2039fd2",
      "metadata": {
        "execution": {
          "iopub.execute_input": "2023-03-30T19:59:41.455455Z",
          "iopub.status.busy": "2023-03-30T19:59:41.454794Z",
          "iopub.status.idle": "2023-03-30T19:59:41.706158Z",
          "shell.execute_reply": "2023-03-30T19:59:41.705201Z"
        },
        "papermill": {
          "duration": 0.27191,
          "end_time": "2023-03-30T19:59:41.708215",
          "exception": false,
          "start_time": "2023-03-30T19:59:41.436305",
          "status": "completed"
        },
        "tags": [],
        "colab": {
          "base_uri": "https://localhost:8080/"
        },
        "id": "e2039fd2",
        "outputId": "9160e8cd-1bd4-4030-9d89-afffab1d9e32"
      },
      "outputs": [
        {
          "output_type": "execute_result",
          "data": {
            "text/plain": [
              "member_casual\n",
              "member    2779130\n",
              "casual    2254755\n",
              "Name: count, dtype: int64"
            ]
          },
          "metadata": {},
          "execution_count": 22
        }
      ],
      "source": [
        "# Count of member users and casual users\n",
        "df['member_casual'].value_counts()"
      ]
    },
    {
      "cell_type": "code",
      "execution_count": 23,
      "id": "7e846878",
      "metadata": {
        "execution": {
          "iopub.execute_input": "2023-03-30T19:59:41.746122Z",
          "iopub.status.busy": "2023-03-30T19:59:41.745696Z",
          "iopub.status.idle": "2023-03-30T19:59:41.991229Z",
          "shell.execute_reply": "2023-03-30T19:59:41.989571Z"
        },
        "papermill": {
          "duration": 0.268107,
          "end_time": "2023-03-30T19:59:41.993851",
          "exception": false,
          "start_time": "2023-03-30T19:59:41.725744",
          "status": "completed"
        },
        "tags": [],
        "colab": {
          "base_uri": "https://localhost:8080/"
        },
        "id": "7e846878",
        "outputId": "946f79dc-36aa-4eef-88c0-3279e4ff9cd4"
      },
      "outputs": [
        {
          "output_type": "execute_result",
          "data": {
            "text/plain": [
              "rideable_type\n",
              "classic_bike     2861129\n",
              "electric_bike    1902466\n",
              "docked_bike       270290\n",
              "Name: count, dtype: int64"
            ]
          },
          "metadata": {},
          "execution_count": 23
        }
      ],
      "source": [
        "# Count of rideable types\n",
        "df['rideable_type'].value_counts()"
      ]
    },
    {
      "cell_type": "markdown",
      "id": "59fa8f70",
      "metadata": {
        "papermill": {
          "duration": 0.017098,
          "end_time": "2023-03-30T19:59:42.028693",
          "exception": false,
          "start_time": "2023-03-30T19:59:42.011595",
          "status": "completed"
        },
        "tags": [],
        "id": "59fa8f70"
      },
      "source": [
        "### Grouping the data\n",
        "Group the data by type of users and rideable type. This will be useful for further analysis"
      ]
    },
    {
      "cell_type": "code",
      "execution_count": 24,
      "id": "6cd1b449",
      "metadata": {
        "execution": {
          "iopub.execute_input": "2023-03-30T19:59:42.065025Z",
          "iopub.status.busy": "2023-03-30T19:59:42.064600Z",
          "iopub.status.idle": "2023-03-30T19:59:42.069656Z",
          "shell.execute_reply": "2023-03-30T19:59:42.068724Z"
        },
        "papermill": {
          "duration": 0.025634,
          "end_time": "2023-03-30T19:59:42.071612",
          "exception": false,
          "start_time": "2023-03-30T19:59:42.045978",
          "status": "completed"
        },
        "tags": [],
        "id": "6cd1b449"
      },
      "outputs": [],
      "source": [
        "# Grouping by type of user\n",
        "user_grp = df.groupby('member_casual')\n",
        "# Grouping by type of rideable\n",
        "rideable_grp = df.groupby('rideable_type')"
      ]
    },
    {
      "cell_type": "markdown",
      "id": "d6104d87",
      "metadata": {
        "papermill": {
          "duration": 0.016233,
          "end_time": "2023-03-30T19:59:42.104598",
          "exception": false,
          "start_time": "2023-03-30T19:59:42.088365",
          "status": "completed"
        },
        "tags": [],
        "id": "d6104d87"
      },
      "source": [
        "### Max values"
      ]
    },
    {
      "cell_type": "code",
      "execution_count": 25,
      "id": "7d0e8c08",
      "metadata": {
        "execution": {
          "iopub.execute_input": "2023-03-30T19:59:42.141285Z",
          "iopub.status.busy": "2023-03-30T19:59:42.140321Z",
          "iopub.status.idle": "2023-03-30T19:59:42.971728Z",
          "shell.execute_reply": "2023-03-30T19:59:42.970354Z"
        },
        "papermill": {
          "duration": 0.853326,
          "end_time": "2023-03-30T19:59:42.974247",
          "exception": false,
          "start_time": "2023-03-30T19:59:42.120921",
          "status": "completed"
        },
        "tags": [],
        "colab": {
          "base_uri": "https://localhost:8080/"
        },
        "id": "7d0e8c08",
        "outputId": "d4807f8e-e740-4fe1-d1ce-dcb8b646d69e"
      },
      "outputs": [
        {
          "output_type": "stream",
          "name": "stdout",
          "text": [
            "max ride length by user group:\n",
            "\n",
            "member_casual\n",
            "casual    55944\n",
            "member     1559\n",
            "Name: ride_length_min, dtype: int32\n",
            "\n",
            "max ride length by rideable type:\n",
            "rideable_type\n",
            "classic_bike      1559\n",
            "docked_bike      55944\n",
            "electric_bike      487\n",
            "Name: ride_length_min, dtype: int32\n"
          ]
        }
      ],
      "source": [
        "# Max ride length by user grp\n",
        "print('max ride length by user group:')\n",
        "print()\n",
        "print(user_grp['ride_length_min'].max())\n",
        "\n",
        "print()\n",
        "print('max ride length by rideable type:')\n",
        "print(rideable_grp['ride_length_min'].max())"
      ]
    },
    {
      "cell_type": "markdown",
      "id": "a65d9eda",
      "metadata": {
        "papermill": {
          "duration": 0.017028,
          "end_time": "2023-03-30T19:59:43.008750",
          "exception": false,
          "start_time": "2023-03-30T19:59:42.991722",
          "status": "completed"
        },
        "tags": [],
        "id": "a65d9eda"
      },
      "source": [
        "\"When looking at casual users, particularly those using docked bikes, we notice an exceptionally large maximum value. Doing the math, 55,944 minutes equates to approximately 932 hours. It's hard to imagine anyone riding a bike for that duration.\n",
        "\n",
        "This clearly stands out as an outlier. Are there similar outliers among other bike types and user categories?\""
      ]
    },
    {
      "cell_type": "code",
      "execution_count": 26,
      "id": "45a4218f",
      "metadata": {
        "execution": {
          "iopub.execute_input": "2023-03-30T19:59:43.045131Z",
          "iopub.status.busy": "2023-03-30T19:59:43.044742Z",
          "iopub.status.idle": "2023-03-30T19:59:43.883888Z",
          "shell.execute_reply": "2023-03-30T19:59:43.882671Z"
        },
        "papermill": {
          "duration": 0.860227,
          "end_time": "2023-03-30T19:59:43.886309",
          "exception": false,
          "start_time": "2023-03-30T19:59:43.026082",
          "status": "completed"
        },
        "tags": [],
        "colab": {
          "base_uri": "https://localhost:8080/"
        },
        "id": "45a4218f",
        "outputId": "5798922d-a217-4503-f2ac-82e4a6d7428f"
      },
      "outputs": [
        {
          "output_type": "execute_result",
          "data": {
            "text/plain": [
              "member_casual  rideable_type\n",
              "casual         classic_bike      1559\n",
              "               docked_bike      55944\n",
              "               electric_bike      487\n",
              "member         classic_bike      1559\n",
              "               electric_bike      480\n",
              "Name: ride_length_min, dtype: int32"
            ]
          },
          "metadata": {},
          "execution_count": 26
        }
      ],
      "source": [
        "df.groupby(['member_casual','rideable_type'])['ride_length_min'].max()"
      ]
    },
    {
      "cell_type": "markdown",
      "id": "5b0f1bfb",
      "metadata": {
        "papermill": {
          "duration": 0.017509,
          "end_time": "2023-03-30T19:59:43.921311",
          "exception": false,
          "start_time": "2023-03-30T19:59:43.903802",
          "status": "completed"
        },
        "tags": [],
        "id": "5b0f1bfb"
      },
      "source": [
        "The maximum time for classic bike in both kind of users is 1599 which is about 26 hours, more than a day!. clearly an outlier if it's not someone doing a marathon.\n",
        "\n",
        "And the maximum time for electric bike is 480, which translates to 8 hours.\n"
      ]
    },
    {
      "cell_type": "markdown",
      "id": "4f068bd4",
      "metadata": {
        "papermill": {
          "duration": 0.017222,
          "end_time": "2023-03-30T19:59:43.956868",
          "exception": false,
          "start_time": "2023-03-30T19:59:43.939646",
          "status": "completed"
        },
        "tags": [],
        "id": "4f068bd4"
      },
      "source": [
        "### Average and median values"
      ]
    },
    {
      "cell_type": "code",
      "execution_count": 27,
      "id": "e6aa6488",
      "metadata": {
        "execution": {
          "iopub.execute_input": "2023-03-30T19:59:43.993749Z",
          "iopub.status.busy": "2023-03-30T19:59:43.993344Z",
          "iopub.status.idle": "2023-03-30T19:59:44.052603Z",
          "shell.execute_reply": "2023-03-30T19:59:44.051832Z"
        },
        "papermill": {
          "duration": 0.080028,
          "end_time": "2023-03-30T19:59:44.054471",
          "exception": false,
          "start_time": "2023-03-30T19:59:43.974443",
          "status": "completed"
        },
        "tags": [],
        "colab": {
          "base_uri": "https://localhost:8080/"
        },
        "id": "e6aa6488",
        "outputId": "7b532392-1a96-405a-bcdc-b49153610e32"
      },
      "outputs": [
        {
          "output_type": "execute_result",
          "data": {
            "text/plain": [
              "member_casual\n",
              "casual    31.701661\n",
              "member    13.130528\n",
              "Name: ride_length_min, dtype: float64"
            ]
          },
          "metadata": {},
          "execution_count": 27
        }
      ],
      "source": [
        "# Average ride length by user group\n",
        "user_grp['ride_length_min'].mean()"
      ]
    },
    {
      "cell_type": "code",
      "execution_count": 28,
      "id": "1caa034b",
      "metadata": {
        "execution": {
          "iopub.execute_input": "2023-03-30T19:59:44.090506Z",
          "iopub.status.busy": "2023-03-30T19:59:44.089867Z",
          "iopub.status.idle": "2023-03-30T19:59:44.265945Z",
          "shell.execute_reply": "2023-03-30T19:59:44.264572Z"
        },
        "papermill": {
          "duration": 0.19643,
          "end_time": "2023-03-30T19:59:44.268124",
          "exception": false,
          "start_time": "2023-03-30T19:59:44.071694",
          "status": "completed"
        },
        "tags": [],
        "colab": {
          "base_uri": "https://localhost:8080/"
        },
        "id": "1caa034b",
        "outputId": "2ec392f5-7396-44a8-9618-a1e172e24da5"
      },
      "outputs": [
        {
          "output_type": "execute_result",
          "data": {
            "text/plain": [
              "member_casual\n",
              "casual    16.0\n",
              "member     9.0\n",
              "Name: ride_length_min, dtype: float64"
            ]
          },
          "metadata": {},
          "execution_count": 28
        }
      ],
      "source": [
        "# Median ride length by user group\n",
        "user_grp['ride_length_min'].median()"
      ]
    },
    {
      "cell_type": "code",
      "execution_count": 29,
      "id": "bdd8ef8f",
      "metadata": {
        "execution": {
          "iopub.execute_input": "2023-03-30T19:59:44.304201Z",
          "iopub.status.busy": "2023-03-30T19:59:44.303895Z",
          "iopub.status.idle": "2023-03-30T19:59:44.366198Z",
          "shell.execute_reply": "2023-03-30T19:59:44.364957Z"
        },
        "papermill": {
          "duration": 0.083819,
          "end_time": "2023-03-30T19:59:44.369167",
          "exception": false,
          "start_time": "2023-03-30T19:59:44.285348",
          "status": "completed"
        },
        "tags": [],
        "colab": {
          "base_uri": "https://localhost:8080/"
        },
        "id": "bdd8ef8f",
        "outputId": "61e0c0d4-e2f1-45fd-e869-1271d42b4152"
      },
      "outputs": [
        {
          "output_type": "execute_result",
          "data": {
            "text/plain": [
              "rideable_type\n",
              "classic_bike     19.576177\n",
              "docked_bike      82.961090\n",
              "electric_bike    15.525850\n",
              "Name: ride_length_min, dtype: float64"
            ]
          },
          "metadata": {},
          "execution_count": 29
        }
      ],
      "source": [
        "# Average ride length by rideable type\n",
        "rideable_grp['ride_length_min'].mean()"
      ]
    },
    {
      "cell_type": "code",
      "execution_count": 30,
      "id": "da3affbd",
      "metadata": {
        "execution": {
          "iopub.execute_input": "2023-03-30T19:59:44.405582Z",
          "iopub.status.busy": "2023-03-30T19:59:44.405199Z",
          "iopub.status.idle": "2023-03-30T19:59:44.559698Z",
          "shell.execute_reply": "2023-03-30T19:59:44.558546Z"
        },
        "papermill": {
          "duration": 0.175522,
          "end_time": "2023-03-30T19:59:44.562343",
          "exception": false,
          "start_time": "2023-03-30T19:59:44.386821",
          "status": "completed"
        },
        "tags": [],
        "colab": {
          "base_uri": "https://localhost:8080/"
        },
        "id": "da3affbd",
        "outputId": "c3cdc328-5f7a-42d1-b70e-dcf3c28fa77a"
      },
      "outputs": [
        {
          "output_type": "execute_result",
          "data": {
            "text/plain": [
              "rideable_type\n",
              "classic_bike     12.0\n",
              "docked_bike      28.0\n",
              "electric_bike    10.0\n",
              "Name: ride_length_min, dtype: float64"
            ]
          },
          "metadata": {},
          "execution_count": 30
        }
      ],
      "source": [
        "# Median ride length by rideable type\n",
        "rideable_grp['ride_length_min'].median()"
      ]
    },
    {
      "cell_type": "code",
      "execution_count": 31,
      "id": "db73b26d",
      "metadata": {
        "execution": {
          "iopub.execute_input": "2023-03-30T19:59:44.600758Z",
          "iopub.status.busy": "2023-03-30T19:59:44.600373Z",
          "iopub.status.idle": "2023-03-30T19:59:45.201181Z",
          "shell.execute_reply": "2023-03-30T19:59:45.200058Z"
        },
        "papermill": {
          "duration": 0.622555,
          "end_time": "2023-03-30T19:59:45.203113",
          "exception": false,
          "start_time": "2023-03-30T19:59:44.580558",
          "status": "completed"
        },
        "tags": [],
        "colab": {
          "base_uri": "https://localhost:8080/"
        },
        "id": "db73b26d",
        "outputId": "73177bad-0dda-4a67-e9e5-9ac150aedb5c"
      },
      "outputs": [
        {
          "output_type": "execute_result",
          "data": {
            "text/plain": [
              "0    4\n",
              "Name: ride_length_min, dtype: int32"
            ]
          },
          "metadata": {},
          "execution_count": 31
        }
      ],
      "source": [
        "df.query('member_casual == \"member\"')['ride_length_min'].mode()"
      ]
    },
    {
      "cell_type": "markdown",
      "id": "b3764e59",
      "metadata": {
        "papermill": {
          "duration": 0.017334,
          "end_time": "2023-03-30T19:59:45.238274",
          "exception": false,
          "start_time": "2023-03-30T19:59:45.220940",
          "status": "completed"
        },
        "tags": [],
        "id": "b3764e59"
      },
      "source": [
        "### Frequency of values\n",
        "\n",
        "Conduct an analysis of the frequency of repeated values within the ride length column to pinpoint where the majority of values lie and determine the percentage of outliers in the dataset."
      ]
    },
    {
      "cell_type": "code",
      "execution_count": 32,
      "id": "165bd564",
      "metadata": {
        "execution": {
          "iopub.execute_input": "2023-03-30T19:59:45.274253Z",
          "iopub.status.busy": "2023-03-30T19:59:45.273872Z",
          "iopub.status.idle": "2023-03-30T19:59:45.732314Z",
          "shell.execute_reply": "2023-03-30T19:59:45.730799Z"
        },
        "papermill": {
          "duration": 0.479151,
          "end_time": "2023-03-30T19:59:45.734946",
          "exception": false,
          "start_time": "2023-03-30T19:59:45.255795",
          "status": "completed"
        },
        "tags": [],
        "id": "165bd564",
        "colab": {
          "base_uri": "https://localhost:8080/",
          "height": 204
        },
        "outputId": "c6fb8778-c55e-4f11-fb24-18b50f2a717c"
      },
      "outputs": [
        {
          "output_type": "execute_result",
          "data": {
            "text/plain": [
              "<bound method Series.reset_index of freq\n",
              "(-54.943, 1399.575]      5030055\n",
              "(1399.575, 2798.15]         3094\n",
              "(2798.15, 4196.725]          164\n",
              "(4196.725, 5595.3]            96\n",
              "(5595.3, 6993.875]            76\n",
              "(6993.875, 8392.45]           57\n",
              "(8392.45, 9791.025]           43\n",
              "(9791.025, 11189.6]           40\n",
              "(11189.6, 12588.175]          52\n",
              "(12588.175, 13986.75]         28\n",
              "(13986.75, 15385.325]         25\n",
              "(15385.325, 16783.9]          20\n",
              "(16783.9, 18182.475]          15\n",
              "(18182.475, 19581.05]         15\n",
              "(19581.05, 20979.625]          9\n",
              "(20979.625, 22378.2]          12\n",
              "(22378.2, 23776.775]          10\n",
              "(23776.775, 25175.35]         12\n",
              "(25175.35, 26573.925]         11\n",
              "(26573.925, 27972.5]           6\n",
              "(27972.5, 29371.075]           5\n",
              "(29371.075, 30769.65]          6\n",
              "(30769.65, 32168.225]          4\n",
              "(32168.225, 33566.8]           5\n",
              "(33566.8, 34965.375]           5\n",
              "(34965.375, 36363.95]          3\n",
              "(36363.95, 37762.525]          0\n",
              "(37762.525, 39161.1]           2\n",
              "(39161.1, 40559.675]           4\n",
              "(40559.675, 41958.25]          4\n",
              "(41958.25, 43356.825]          0\n",
              "(43356.825, 44755.4]           0\n",
              "(44755.4, 46153.975]           0\n",
              "(46153.975, 47552.55]          1\n",
              "(47552.55, 48951.125]          1\n",
              "(48951.125, 50349.7]           1\n",
              "(50349.7, 51748.275]           0\n",
              "(51748.275, 53146.85]          1\n",
              "(53146.85, 54545.425]          1\n",
              "(54545.425, 55944.0]           2\n",
              "Name: day_of_week, dtype: int64>"
            ],
            "text/html": [
              "<div style=\"max-width:800px; border: 1px solid var(--colab-border-color);\"><style>\n",
              "      pre.function-repr-contents {\n",
              "        overflow-x: auto;\n",
              "        padding: 8px 12px;\n",
              "        max-height: 500px;\n",
              "      }\n",
              "\n",
              "      pre.function-repr-contents.function-repr-contents-collapsed {\n",
              "        cursor: pointer;\n",
              "        max-height: 100px;\n",
              "      }\n",
              "    </style>\n",
              "    <pre style=\"white-space: initial; background:\n",
              "         var(--colab-secondary-surface-color); padding: 8px 12px;\n",
              "         border-bottom: 1px solid var(--colab-border-color);\"><b>pandas.core.series.Series.reset_index</b><br/>def reset_index(level: IndexLabel=None, *, drop: bool=False, name: Level=lib.no_default, inplace: bool=False, allow_duplicates: bool=False) -&gt; DataFrame | Series | None</pre><pre class=\"function-repr-contents function-repr-contents-collapsed\" style=\"\"><a class=\"filepath\" style=\"display:none\" href=\"#\">/usr/local/lib/python3.10/dist-packages/pandas/core/series.py</a>Generate a new DataFrame or Series with the index reset.\n",
              "\n",
              "This is useful when the index needs to be treated as a column, or\n",
              "when the index is meaningless and needs to be reset to the default\n",
              "before another operation.\n",
              "\n",
              "Parameters\n",
              "----------\n",
              "level : int, str, tuple, or list, default optional\n",
              "    For a Series with a MultiIndex, only remove the specified levels\n",
              "    from the index. Removes all levels by default.\n",
              "drop : bool, default False\n",
              "    Just reset the index, without inserting it as a column in\n",
              "    the new DataFrame.\n",
              "name : object, optional\n",
              "    The name to use for the column containing the original Series\n",
              "    values. Uses ``self.name`` by default. This argument is ignored\n",
              "    when `drop` is True.\n",
              "inplace : bool, default False\n",
              "    Modify the Series in place (do not create a new object).\n",
              "allow_duplicates : bool, default False\n",
              "    Allow duplicate column labels to be created.\n",
              "\n",
              "    .. versionadded:: 1.5.0\n",
              "\n",
              "Returns\n",
              "-------\n",
              "Series or DataFrame or None\n",
              "    When `drop` is False (the default), a DataFrame is returned.\n",
              "    The newly created columns will come first in the DataFrame,\n",
              "    followed by the original Series values.\n",
              "    When `drop` is True, a `Series` is returned.\n",
              "    In either case, if ``inplace=True``, no value is returned.\n",
              "\n",
              "See Also\n",
              "--------\n",
              "DataFrame.reset_index: Analogous function for DataFrame.\n",
              "\n",
              "Examples\n",
              "--------\n",
              "&gt;&gt;&gt; s = pd.Series([1, 2, 3, 4], name=&#x27;foo&#x27;,\n",
              "...               index=pd.Index([&#x27;a&#x27;, &#x27;b&#x27;, &#x27;c&#x27;, &#x27;d&#x27;], name=&#x27;idx&#x27;))\n",
              "\n",
              "Generate a DataFrame with default index.\n",
              "\n",
              "&gt;&gt;&gt; s.reset_index()\n",
              "  idx  foo\n",
              "0   a    1\n",
              "1   b    2\n",
              "2   c    3\n",
              "3   d    4\n",
              "\n",
              "To specify the name of the new column use `name`.\n",
              "\n",
              "&gt;&gt;&gt; s.reset_index(name=&#x27;values&#x27;)\n",
              "  idx  values\n",
              "0   a       1\n",
              "1   b       2\n",
              "2   c       3\n",
              "3   d       4\n",
              "\n",
              "To generate a new Series with the default set `drop` to True.\n",
              "\n",
              "&gt;&gt;&gt; s.reset_index(drop=True)\n",
              "0    1\n",
              "1    2\n",
              "2    3\n",
              "3    4\n",
              "Name: foo, dtype: int64\n",
              "\n",
              "The `level` parameter is interesting for Series with a multi-level\n",
              "index.\n",
              "\n",
              "&gt;&gt;&gt; arrays = [np.array([&#x27;bar&#x27;, &#x27;bar&#x27;, &#x27;baz&#x27;, &#x27;baz&#x27;]),\n",
              "...           np.array([&#x27;one&#x27;, &#x27;two&#x27;, &#x27;one&#x27;, &#x27;two&#x27;])]\n",
              "&gt;&gt;&gt; s2 = pd.Series(\n",
              "...     range(4), name=&#x27;foo&#x27;,\n",
              "...     index=pd.MultiIndex.from_arrays(arrays,\n",
              "...                                     names=[&#x27;a&#x27;, &#x27;b&#x27;]))\n",
              "\n",
              "To remove a specific level from the Index, use `level`.\n",
              "\n",
              "&gt;&gt;&gt; s2.reset_index(level=&#x27;a&#x27;)\n",
              "       a  foo\n",
              "b\n",
              "one  bar    0\n",
              "two  bar    1\n",
              "one  baz    2\n",
              "two  baz    3\n",
              "\n",
              "If `level` is not set, all levels are removed from the Index.\n",
              "\n",
              "&gt;&gt;&gt; s2.reset_index()\n",
              "     a    b  foo\n",
              "0  bar  one    0\n",
              "1  bar  two    1\n",
              "2  baz  one    2\n",
              "3  baz  two    3</pre>\n",
              "      <script>\n",
              "      if (google.colab.kernel.accessAllowed && google.colab.files && google.colab.files.view) {\n",
              "        for (const element of document.querySelectorAll('.filepath')) {\n",
              "          element.style.display = 'block'\n",
              "          element.onclick = (event) => {\n",
              "            event.preventDefault();\n",
              "            event.stopPropagation();\n",
              "            google.colab.files.view(element.textContent, 1472);\n",
              "          };\n",
              "        }\n",
              "      }\n",
              "      for (const element of document.querySelectorAll('.function-repr-contents')) {\n",
              "        element.onclick = (event) => {\n",
              "          event.preventDefault();\n",
              "          event.stopPropagation();\n",
              "          element.classList.toggle('function-repr-contents-collapsed');\n",
              "        };\n",
              "      }\n",
              "      </script>\n",
              "      </div>"
            ]
          },
          "metadata": {},
          "execution_count": 32
        }
      ],
      "source": [
        "# I begin by creating a frequency table by grouping together the minutes in 40 bins\n",
        "frequency_table = df.copy()\n",
        "frequency_table['freq'] = pd.cut(df['ride_length_min'],40)\n",
        "frequency = frequency_table.groupby('freq')['day_of_week'].count().reset_index\n",
        "frequency"
      ]
    },
    {
      "cell_type": "code",
      "execution_count": 33,
      "id": "e78b6d24",
      "metadata": {
        "execution": {
          "iopub.execute_input": "2023-03-30T19:59:45.773235Z",
          "iopub.status.busy": "2023-03-30T19:59:45.772527Z",
          "iopub.status.idle": "2023-03-30T19:59:45.778507Z",
          "shell.execute_reply": "2023-03-30T19:59:45.777192Z"
        },
        "papermill": {
          "duration": 0.027638,
          "end_time": "2023-03-30T19:59:45.781117",
          "exception": false,
          "start_time": "2023-03-30T19:59:45.753479",
          "status": "completed"
        },
        "tags": [],
        "id": "e78b6d24",
        "colab": {
          "base_uri": "https://localhost:8080/"
        },
        "outputId": "04c0b301-eea3-4ac7-eecf-a3cf543b971c"
      },
      "outputs": [
        {
          "output_type": "stream",
          "name": "stdout",
          "text": [
            "the majority of unbiased values fall within the 99.9 % of the data\n"
          ]
        }
      ],
      "source": [
        "print('the majority of unbiased values fall within the',round((5030055/df.shape[0] * 100),1),'% of the data')"
      ]
    },
    {
      "cell_type": "markdown",
      "id": "2508c739",
      "metadata": {
        "papermill": {
          "duration": 0.018038,
          "end_time": "2023-03-30T19:59:45.817809",
          "exception": false,
          "start_time": "2023-03-30T19:59:45.799771",
          "status": "completed"
        },
        "tags": [],
        "id": "2508c739"
      },
      "source": [
        "The maximum value, which falls within the 99.9% range of the data, is 1399.57 minutes, equivalent to approximately 23 hours for a ride. To further refine the dataset, we can consider filtering using the 99.5% or 99.0% thresholds of values."
      ]
    },
    {
      "cell_type": "markdown",
      "id": "7671dd35",
      "metadata": {
        "papermill": {
          "duration": 0.018058,
          "end_time": "2023-03-30T19:59:45.853988",
          "exception": false,
          "start_time": "2023-03-30T19:59:45.835930",
          "status": "completed"
        },
        "tags": [],
        "id": "7671dd35"
      },
      "source": [
        "Based on this information, we can determine that outliers represent only 0.1% of the values in the data. However, due to the wide range between the minimum and maximum values, the averages could be somewhat influenced by these outliers. It's important to consider this when sharing our insights."
      ]
    },
    {
      "cell_type": "markdown",
      "id": "06602ae1",
      "metadata": {
        "papermill": {
          "duration": 0.018057,
          "end_time": "2023-03-30T19:59:45.890343",
          "exception": false,
          "start_time": "2023-03-30T19:59:45.872286",
          "status": "completed"
        },
        "tags": [],
        "id": "06602ae1"
      },
      "source": [
        "# 5. Share"
      ]
    },
    {
      "cell_type": "code",
      "execution_count": 34,
      "id": "76ede051",
      "metadata": {
        "execution": {
          "iopub.execute_input": "2023-03-30T19:59:45.929150Z",
          "iopub.status.busy": "2023-03-30T19:59:45.928802Z",
          "iopub.status.idle": "2023-03-30T19:59:45.933701Z",
          "shell.execute_reply": "2023-03-30T19:59:45.932203Z"
        },
        "papermill": {
          "duration": 0.027697,
          "end_time": "2023-03-30T19:59:45.936330",
          "exception": false,
          "start_time": "2023-03-30T19:59:45.908633",
          "status": "completed"
        },
        "tags": [],
        "id": "76ede051"
      },
      "outputs": [],
      "source": [
        "yellow = '#f7c41f'\n",
        "blue = '#3274a1'\n",
        "green = '#6fb34c'\n",
        "gray = '#cfd8dc'\n",
        "light_blue = '#66c2e0'\n",
        "white = '#FFFFFF'"
      ]
    },
    {
      "cell_type": "markdown",
      "id": "ca5d55ff",
      "metadata": {
        "papermill": {
          "duration": 0.017968,
          "end_time": "2023-03-30T19:59:45.972590",
          "exception": false,
          "start_time": "2023-03-30T19:59:45.954622",
          "status": "completed"
        },
        "tags": [],
        "id": "ca5d55ff"
      },
      "source": [
        "### Outliers in Ride Length"
      ]
    },
    {
      "cell_type": "code",
      "execution_count": 35,
      "id": "9c4743e3",
      "metadata": {
        "execution": {
          "iopub.execute_input": "2023-03-30T19:59:46.010903Z",
          "iopub.status.busy": "2023-03-30T19:59:46.010539Z",
          "iopub.status.idle": "2023-03-30T19:59:54.673184Z",
          "shell.execute_reply": "2023-03-30T19:59:54.671855Z"
        },
        "papermill": {
          "duration": 8.684498,
          "end_time": "2023-03-30T19:59:54.675325",
          "exception": false,
          "start_time": "2023-03-30T19:59:45.990827",
          "status": "completed"
        },
        "tags": [],
        "colab": {
          "base_uri": "https://localhost:8080/",
          "height": 435
        },
        "id": "9c4743e3",
        "outputId": "0bc88434-1c6e-4646-e2e6-560dfbde6925"
      },
      "outputs": [
        {
          "output_type": "display_data",
          "data": {
            "text/plain": [
              "<Figure size 1200x500 with 3 Axes>"
            ],
            "image/png": "[encoded data removed]"
          },
          "metadata": {}
        }
      ],
      "source": [
        "import matplotlib.pyplot as plt\n",
        "import seaborn as sns\n",
        "import numpy as np\n",
        "\n",
        "fig, ax = plt.subplots(nrows=1,ncols=3,figsize=(12,5),sharex=False)\n",
        "\n",
        "plt.subplot(1,3,1)\n",
        "ax1 = sns.boxplot(data=df,x='rideable_type',y='ride_length_min')\n",
        "ax1.set_title('Ride length distribution per rideable type')\n",
        "\n",
        "# Filtering out the docked_bike value\n",
        "no_docked_bike = df.query('rideable_type != \"docked_bike\"')\n",
        "\n",
        "plt.subplot(1,3,2)\n",
        "ax2 = sns.boxplot(data = no_docked_bike, x='rideable_type', y='ride_length_min')\n",
        "ax2.set_title('Ride length distribution without docked bike')\n",
        "\n",
        "# Filtering our the 1% of values\n",
        "percent_99 = np.percentile(df['ride_length_min'],99)\n",
        "df_99 = df.loc[(df['ride_length_min'] <= percent_99)]\n",
        "\n",
        "plt.subplot(1,3,3)\n",
        "ax3 = sns.boxplot(data=df_99,x='rideable_type',y='ride_length_min')\n",
        "ax3.set_title('Ride length distribution 99%')\n",
        "\n",
        "plt.tight_layout()\n",
        "plt.show()"
      ]
    },
    {
      "cell_type": "markdown",
      "id": "ffca81c9",
      "metadata": {
        "papermill": {
          "duration": 0.017833,
          "end_time": "2023-03-30T19:59:54.711958",
          "exception": false,
          "start_time": "2023-03-30T19:59:54.694125",
          "status": "completed"
        },
        "tags": [],
        "id": "ffca81c9"
      },
      "source": [
        "When examining the data, we observe that ride lengths in minutes for docked bikes tend to be significantly higher compared to classic and electric bikes, indicating a bias with numerous outliers.\n",
        "\n",
        "While classic and electric bikes show fewer outliers initially, a closer inspection reveals outliers extending up to 1600 minutes as seen in the second graph.\n",
        "\n",
        "In the third graph, we mitigate this by removing the top 1% of values that exceed the normal distribution. This adjustment provides a clearer view of the distribution and percentiles. It visually confirms that:\n",
        "\n",
        "- The median ride length is 12 minutes for classic bikes,\n",
        "- 28 minutes for docked bikes,\n",
        "- 10 minutes for electric bikes.\n",
        "\n",
        "These values closely align with the average when extreme values (up to 0.1% or 1%) are excluded. They represent typical ride lengths expected from users each time they utilize the bike service."
      ]
    },
    {
      "cell_type": "markdown",
      "id": "0d9de222",
      "metadata": {
        "papermill": {
          "duration": 0.018034,
          "end_time": "2023-03-30T19:59:54.747879",
          "exception": false,
          "start_time": "2023-03-30T19:59:54.729845",
          "status": "completed"
        },
        "tags": [],
        "id": "0d9de222"
      },
      "source": [
        "### Ride length per weekday\n",
        "\n",
        "Let's see what is the difference between users in terms of ride length per day"
      ]
    },
    {
      "cell_type": "code",
      "execution_count": 36,
      "id": "2533c09e",
      "metadata": {
        "execution": {
          "iopub.execute_input": "2023-03-30T19:59:54.786721Z",
          "iopub.status.busy": "2023-03-30T19:59:54.786355Z",
          "iopub.status.idle": "2023-03-30T19:59:56.070629Z",
          "shell.execute_reply": "2023-03-30T19:59:56.069103Z"
        },
        "papermill": {
          "duration": 1.30712,
          "end_time": "2023-03-30T19:59:56.073393",
          "exception": false,
          "start_time": "2023-03-30T19:59:54.766273",
          "status": "completed"
        },
        "tags": [],
        "id": "2533c09e",
        "colab": {
          "base_uri": "https://localhost:8080/",
          "height": 472
        },
        "outputId": "8e747df1-e9a9-4890-d465-0756618cd5ae"
      },
      "outputs": [
        {
          "output_type": "display_data",
          "data": {
            "text/plain": [
              "<Figure size 640x480 with 1 Axes>"
            ],
            "image/png": "[encoded data removed]"
          },
          "metadata": {}
        }
      ],
      "source": [
        "weekday_name = ['Monday','Tuesday','Wednesday','Thursday','Friday','Saturday','Sunday']\n",
        "\n",
        "fig, ax= plt.subplots(1,1)\n",
        "day_grp = df_99.groupby(['member_casual','day_of_week'])['ride_length_min'].mean().reset_index()\n",
        "sns.lineplot(data=day_grp, x='day_of_week',y='ride_length_min',hue='member_casual',palette=[light_blue,yellow],sizes=[20,20])\n",
        "ax.set_xticks(range(len(weekday_name)))\n",
        "ax.set_xticklabels(weekday_name)\n",
        "\n",
        "plt.title('Ride length per weekday')\n",
        "plt.grid(visible=True,alpha=0.3)\n",
        "\n",
        "plt.show()"
      ]
    },
    {
      "cell_type": "markdown",
      "id": "aa7e6f57",
      "metadata": {
        "papermill": {
          "duration": 0.019165,
          "end_time": "2023-03-30T19:59:56.112178",
          "exception": false,
          "start_time": "2023-03-30T19:59:56.093013",
          "status": "completed"
        },
        "tags": [],
        "id": "aa7e6f57"
      },
      "source": [
        "Casual users average ride lengths tend to decrease during weekdays and increase on weekends. On the other hand, for member users, although there is also an increase in ride lengths during weekends, weekdays (Monday to Friday) show a consistent average ride length of around 12 minutes."
      ]
    },
    {
      "cell_type": "markdown",
      "id": "b5e97523",
      "metadata": {
        "papermill": {
          "duration": 0.019281,
          "end_time": "2023-03-30T19:59:56.151190",
          "exception": false,
          "start_time": "2023-03-30T19:59:56.131909",
          "status": "completed"
        },
        "tags": [],
        "id": "b5e97523"
      },
      "source": [
        "### Percentage of members and casual users\n",
        "\n",
        "What is the proportion of members and casual users from the total?"
      ]
    },
    {
      "cell_type": "code",
      "execution_count": 37,
      "id": "c2da8ae1",
      "metadata": {
        "execution": {
          "iopub.execute_input": "2023-03-30T19:59:56.191671Z",
          "iopub.status.busy": "2023-03-30T19:59:56.191276Z",
          "iopub.status.idle": "2023-03-30T19:59:56.844178Z",
          "shell.execute_reply": "2023-03-30T19:59:56.843357Z"
        },
        "papermill": {
          "duration": 0.675716,
          "end_time": "2023-03-30T19:59:56.846302",
          "exception": false,
          "start_time": "2023-03-30T19:59:56.170586",
          "status": "completed"
        },
        "tags": [],
        "id": "c2da8ae1",
        "colab": {
          "base_uri": "https://localhost:8080/",
          "height": 487
        },
        "outputId": "9aa199d6-3b56-4e2e-935e-28fd65140be9"
      },
      "outputs": [
        {
          "output_type": "display_data",
          "data": {
            "text/plain": [
              "<Figure size 640x480 with 1 Axes>"
            ],
            "image/png": "[encoded data removed]"
          },
          "metadata": {}
        }
      ],
      "source": [
        "users = df['member_casual']\n",
        "\n",
        "plt.pie(users.value_counts(),labels=users.unique(),colors=[light_blue, yellow],autopct=\"%1.1f%%\")\n",
        "\n",
        "plt.title('Number of users per user type')\n",
        "plt.tight_layout()\n",
        "plt.show()"
      ]
    },
    {
      "cell_type": "markdown",
      "id": "d001bed1",
      "metadata": {
        "papermill": {
          "duration": 0.025721,
          "end_time": "2023-03-30T19:59:56.898019",
          "exception": false,
          "start_time": "2023-03-30T19:59:56.872298",
          "status": "completed"
        },
        "tags": [],
        "id": "d001bed1"
      },
      "source": [
        "### Number of rides per user type\n",
        "\n",
        "How many rides each type of user did? and for every type of rideable?"
      ]
    },
    {
      "cell_type": "code",
      "execution_count": 38,
      "id": "f30a13a5",
      "metadata": {
        "execution": {
          "iopub.execute_input": "2023-03-30T19:59:56.946615Z",
          "iopub.status.busy": "2023-03-30T19:59:56.946168Z",
          "iopub.status.idle": "2023-03-30T19:59:58.140535Z",
          "shell.execute_reply": "2023-03-30T19:59:58.139394Z"
        },
        "papermill": {
          "duration": 1.218481,
          "end_time": "2023-03-30T19:59:58.142513",
          "exception": false,
          "start_time": "2023-03-30T19:59:56.924032",
          "status": "completed"
        },
        "tags": [],
        "id": "f30a13a5",
        "colab": {
          "base_uri": "https://localhost:8080/",
          "height": 487
        },
        "outputId": "e5e2fb36-d4c1-4418-9d30-8e0b5f55a94d"
      },
      "outputs": [
        {
          "output_type": "display_data",
          "data": {
            "text/plain": [
              "<Figure size 640x480 with 1 Axes>"
            ],
            "image/png": "[encoded data removed]"
          },
          "metadata": {}
        }
      ],
      "source": [
        "ride_user_grp = df.groupby(['member_casual','rideable_type'])['ride_id'].count().reset_index(name='count')\n",
        "\n",
        "ax = sns.barplot(data=ride_user_grp,x='rideable_type',y='count',hue='member_casual',palette=[light_blue,yellow],hue_order=['casual','members'])\n",
        "\n",
        "plt.ylabel('Number of rides (millions)')\n",
        "\n",
        "plt.legend()\n",
        "plt.title('Number of rides per user type and rideable type')\n",
        "plt.tight_layout()\n",
        "\n",
        "plt.show()"
      ]
    },
    {
      "cell_type": "markdown",
      "id": "832da2f8",
      "metadata": {
        "papermill": {
          "duration": 0.019726,
          "end_time": "2023-03-30T19:59:58.182023",
          "exception": false,
          "start_time": "2023-03-30T19:59:58.162297",
          "status": "completed"
        },
        "tags": [],
        "id": "832da2f8"
      },
      "source": [
        "We can see that the members ride more often than casual members in both classic and electric bikes, and we also see a lack of usage of the docked bikes by members"
      ]
    },
    {
      "cell_type": "markdown",
      "id": "7797c53f",
      "metadata": {
        "papermill": {
          "duration": 0.019396,
          "end_time": "2023-03-30T19:59:58.221102",
          "exception": false,
          "start_time": "2023-03-30T19:59:58.201706",
          "status": "completed"
        },
        "tags": [],
        "id": "7797c53f"
      },
      "source": [
        "### Number of rides per month\n",
        "\n",
        "What are the tendencies in the number of rides each type of user did each month?"
      ]
    },
    {
      "cell_type": "code",
      "execution_count": 39,
      "id": "333c8fe1",
      "metadata": {
        "execution": {
          "iopub.execute_input": "2023-03-30T19:59:58.262804Z",
          "iopub.status.busy": "2023-03-30T19:59:58.262421Z",
          "iopub.status.idle": "2023-03-30T19:59:59.741811Z",
          "shell.execute_reply": "2023-03-30T19:59:59.740226Z"
        },
        "papermill": {
          "duration": 1.502949,
          "end_time": "2023-03-30T19:59:59.744020",
          "exception": false,
          "start_time": "2023-03-30T19:59:58.241071",
          "status": "completed"
        },
        "tags": [],
        "id": "333c8fe1",
        "colab": {
          "base_uri": "https://localhost:8080/",
          "height": 607
        },
        "outputId": "70bb8531-3cf2-42ce-b36f-585ad01d96d1"
      },
      "outputs": [
        {
          "output_type": "display_data",
          "data": {
            "text/plain": [
              "<Figure size 900x600 with 1 Axes>"
            ],
            "image/png": "[encoded data removed]"
          },
          "metadata": {}
        }
      ],
      "source": [
        "months = ['','January','Febraury','March','April','May','June','July','August','September','October','November','December']\n",
        "\n",
        "fig, ax =plt.subplots(1,1,figsize=(9,6))\n",
        "\n",
        "df['month'].value_counts().sort_index().plot(kind='area', label='all users',color=gray,alpha=1)\n",
        "df.query('member_casual == \"casual\"')['month'].value_counts().sort_index().plot(kind='area', label='casual user',color=green,alpha=1)\n",
        "df.query('member_casual == \"member\"')['month'].value_counts().sort_index().plot(kind='area', label='member user',color=blue,alpha=0.7)\n",
        "\n",
        "ax.set_xticks(range(len(months)))\n",
        "ax.set_xticklabels(months)\n",
        "\n",
        "plt.xlim([1,12])\n",
        "plt.xticks(rotation=20)\n",
        "plt.legend()\n",
        "plt.xlabel('Month')\n",
        "plt.ylabel('Number of rides')\n",
        "plt.tight_layout()\n",
        "plt.show()"
      ]
    },
    {
      "cell_type": "markdown",
      "id": "bac1340a",
      "metadata": {
        "papermill": {
          "duration": 0.022779,
          "end_time": "2023-03-30T19:59:59.788251",
          "exception": false,
          "start_time": "2023-03-30T19:59:59.765472",
          "status": "completed"
        },
        "tags": [],
        "id": "bac1340a"
      },
      "source": [
        "Across all user types, we observe an increase in ride numbers during the spring and a peak in the summer months, followed by a decline entering autumn and winter.\n",
        "\n",
        "However, members tend to sustain their ride frequency through the summer and autumn seasons. In contrast, casual users show a spike in mid-summer but experience a more pronounced decline compared to members."
      ]
    },
    {
      "cell_type": "markdown",
      "id": "13e3afb5",
      "metadata": {
        "papermill": {
          "duration": 0.020841,
          "end_time": "2023-03-30T19:59:59.830177",
          "exception": false,
          "start_time": "2023-03-30T19:59:59.809336",
          "status": "completed"
        },
        "tags": [],
        "id": "13e3afb5"
      },
      "source": [
        "### Number of rides per weekday\n",
        "\n",
        "Are there any tendencies in the number of rides per each day of the week?"
      ]
    },
    {
      "cell_type": "code",
      "execution_count": 40,
      "id": "dee79652",
      "metadata": {
        "execution": {
          "iopub.execute_input": "2023-03-30T19:59:59.873716Z",
          "iopub.status.busy": "2023-03-30T19:59:59.873377Z",
          "iopub.status.idle": "2023-03-30T20:00:00.829241Z",
          "shell.execute_reply": "2023-03-30T20:00:00.828523Z"
        },
        "papermill": {
          "duration": 0.980394,
          "end_time": "2023-03-30T20:00:00.831696",
          "exception": false,
          "start_time": "2023-03-30T19:59:59.851302",
          "status": "completed"
        },
        "tags": [],
        "id": "dee79652",
        "colab": {
          "base_uri": "https://localhost:8080/",
          "height": 600
        },
        "outputId": "539617c7-dd3b-4118-d63a-ee415739e26a"
      },
      "outputs": [
        {
          "output_type": "stream",
          "name": "stdout",
          "text": [
            "Index(['count'], dtype='object')\n"
          ]
        },
        {
          "output_type": "execute_result",
          "data": {
            "text/plain": [
              "Text(0.5, 1.0, 'Number of rides per day')"
            ]
          },
          "metadata": {},
          "execution_count": 40
        },
        {
          "output_type": "display_data",
          "data": {
            "text/plain": [
              "<Figure size 900x600 with 1 Axes>"
            ],
            "image/png": "[encoded data removed]"
          },
          "metadata": {}
        }
      ],
      "source": [
        "import matplotlib.patches as mpatches\n",
        "\n",
        "fig, ax =plt.subplots(1,1,figsize=(9,6))\n",
        "\n",
        "ride_per_day = df['started_at'].dt.dayofweek.value_counts().sort_index(ascending=True).to_frame()\n",
        "# Verify the column name in ride_per_day DataFrame\n",
        "print(ride_per_day.columns)\n",
        "\n",
        "user_day = user_grp['day_of_week'].value_counts().rename_axis(['member_casual','day_of_week']).reset_index(name='count')\n",
        "\n",
        "user_palette = {'casual':'tab:green', 'member':'tab:blue'}\n",
        "plt.bar(ride_per_day.index,ride_per_day['count'],color=gray)\n",
        "sns.barplot(data=user_day,x='day_of_week',y='count',hue='member_casual',palette=[green,blue],hue_order=['casual','member'])\n",
        "\n",
        "ax.set_xticks(range(len(weekday_name)))\n",
        "ax.set_xticklabels(weekday_name)\n",
        "\n",
        "all_legend = mpatches.Patch(color=(gray), label='All')\n",
        "casual_legend = mpatches.Patch(color=(green), label='casual')\n",
        "member_legend = mpatches.Patch(color=(blue),label='member')\n",
        "\n",
        "plt.legend(handles=[all_legend,casual_legend,member_legend])\n",
        "\n",
        "plt.title('Number of rides per day')"
      ]
    },
    {
      "cell_type": "markdown",
      "id": "1dc8a3cc",
      "metadata": {
        "papermill": {
          "duration": 0.02135,
          "end_time": "2023-03-30T20:00:00.874737",
          "exception": false,
          "start_time": "2023-03-30T20:00:00.853387",
          "status": "completed"
        },
        "tags": [],
        "id": "1dc8a3cc"
      },
      "source": [
        "We can observe some trends. Overall, and especially for casual users, the number of rides increases on weekends. However, for members, the trend remains relatively flat throughout the week, with a slight decrease during weekends."
      ]
    },
    {
      "cell_type": "markdown",
      "id": "d9bbbd6e",
      "metadata": {
        "papermill": {
          "duration": 0.021763,
          "end_time": "2023-03-30T20:00:00.918357",
          "exception": false,
          "start_time": "2023-03-30T20:00:00.896594",
          "status": "completed"
        },
        "tags": [],
        "id": "d9bbbd6e"
      },
      "source": [
        "### Maps\n",
        "\n",
        "Finally, I will display two maps to explore the question: Where do casual and member users typically ride?"
      ]
    },
    {
      "cell_type": "code",
      "execution_count": 41,
      "id": "ea253ec2",
      "metadata": {
        "execution": {
          "iopub.execute_input": "2023-03-30T20:00:00.964343Z",
          "iopub.status.busy": "2023-03-30T20:00:00.963655Z",
          "iopub.status.idle": "2023-03-30T20:00:06.471319Z",
          "shell.execute_reply": "2023-03-30T20:00:06.470341Z"
        },
        "papermill": {
          "duration": 5.533339,
          "end_time": "2023-03-30T20:00:06.473713",
          "exception": false,
          "start_time": "2023-03-30T20:00:00.940374",
          "status": "completed"
        },
        "tags": [],
        "id": "ea253ec2",
        "colab": {
          "base_uri": "https://localhost:8080/",
          "height": 1000
        },
        "outputId": "66f6ab4d-2276-444f-8019-d212fff0aa6f"
      },
      "outputs": [
        {
          "output_type": "display_data",
          "data": {
            "text/html": [
              "<html>\n",
              "<head><meta charset=\"utf-8\" /></head>\n",
              "<body>\n",
              "    <div>            <script src=\"https://cdnjs.cloudflare.com/ajax/libs/mathjax/2.7.5/MathJax.js?config=TeX-AMS-MML_SVG\"></script><script type=\"text/javascript\">if (window.MathJax && window.MathJax.Hub && window.MathJax.Hub.Config) {window.MathJax.Hub.Config({SVG: {font: \"STIX-Web\"}});}</script>                <script type=\"text/javascript\">window.PlotlyConfig = {MathJaxConfig: 'local'};</script>\n",
              "        <script charset=\"utf-8\" src=\"https://cdn.plot.ly/plotly-2.24.1.min.js\"></script>                <div id=\"a30197b3-dbe3-4264-8182-1e6fd1290ff7\" class=\"plotly-graph-div\" style=\"height:525px; width:100%;\"></div>            <script type=\"text/javascript\">                                    window.PLOTLYENV=window.PLOTLYENV || {};                                    if (document.getElementById(\"a30197b3-dbe3-4264-8182-1e6fd1290ff7\")) {                    Plotly.newPlot(                        \"a30197b3-dbe3-4264-8182-1e6fd1290ff7\",                        [{\"hovertemplate\":\"member_casual=member\\u003cbr\\u003estart_lat=%{lat}\\u003cbr\\u003estart_lng=%{lon}\\u003cextra\\u003e\\u003c\\u002fextra\\u003e\",\"lat\":[41.869265218438194,41.918084,41.87785,41.88137,41.91776416666666,42.009069333333336,41.93,41.890173,41.898969,41.90068,41.888716036,41.78,41.836208,41.90979416666666,41.868803,41.867098166666665,41.78,41.857409,41.9364968219,41.87,41.94334,41.912133,41.8577955,41.918084,41.878004,41.79,41.89894433333333,41.897448,41.880317,41.901315,41.878287,41.89084704062381,41.884576228,41.92,41.925905,41.914008333333335,41.9256018819,41.924161029067626,42.009074,41.891466,41.945529,41.891466,41.94815,41.932247333333336,41.8445525,41.96,41.90068,41.92569783333333,41.7952545,41.75,41.8976865,41.8777079559,41.88,41.9267559875,41.90096039,41.891072,41.894503,41.948148833333335,41.9093960065,41.9,41.879393,41.952833,41.898969,41.884114,41.939743,41.89070383333333,41.87,41.922695,41.911386,41.911722,41.90305733333334,41.911722,41.95336733333333,41.9609235,41.8791885,41.894666,41.8830645,41.961067166666666,41.89,41.864827,41.8985866514,41.918306,41.79,41.918216,41.879448,41.906724,41.94947274088333,41.87793366666666,41.92,41.77,41.907993,41.9444775,41.886024,41.957921,41.8580665,41.901315,42.050491,41.93758231600629,41.91064416666666,41.89841768945,41.891466,42.0,41.92669,41.90304133333333,41.889906,41.88283,41.902973,41.894877,41.91,41.915689,41.932588,41.8947805,41.94,41.887123333333335,41.9256018819,41.92,41.89417783333333,41.87785,41.87943409140013,41.90672383333333,41.902973,41.89,41.9117525,41.890901,41.93,41.9840446107,41.89416416666667,41.8025135,41.885837,41.892278,41.918306,41.915745666666666,41.93314,41.94,41.90096039,41.89184737210993,41.936266,41.9362875,41.838556,41.89181266666667,41.867324,41.79,41.881892,41.894877,41.82,41.865312,41.932545662,41.912133,41.91,41.79962416666667,41.791478,41.72,41.870816,41.78794281287,41.87772613,41.92,41.928773,41.79,41.961588,41.891795,41.906866,41.93,41.68,41.89434513742426,41.885837,41.882745,41.897764,41.928887,41.94017033333333,41.88314336439022,41.89434513742426,41.897448,41.880317,41.932418,41.879255,42.050491,41.87295,41.87772016666667,41.907626,41.961004,41.79,41.880958,41.93758231600629,41.88,41.95330333333333,41.79949429373,41.841707,41.893992,41.92551516666666,41.867156625,41.882091,41.926277,41.88917683258,41.913688,41.9436765,41.915689,41.90021949323,41.88549283333333,41.880317,41.92584816666667,41.87783916666667,41.883132,41.868968,41.94072583333333,41.91752683333333,41.88443816666667,41.881799666666666,41.87943409140013,41.88577925240433,41.903222,41.884678982069246,41.872187,41.94018,41.89116516666667,41.9,41.79,41.883165,41.885637,41.91,41.89446916666667,41.954245,41.883981824,41.940775,41.890573,41.93,41.88338,41.89184737210993,41.8859475,41.94,41.87616033333333,41.88137,41.884616666666666,41.8,41.913865,41.87934437346,41.902973,41.90230870122,41.884576228,41.890173,41.89565233333333,41.85491457576575,41.8726265,41.911722,41.91053983333333,41.883668,41.94018,41.977972666666666,41.89184737210993,41.92409085038,42.06,41.926277,41.879255,41.932225,41.90345,41.889061,41.929546,41.892278,41.954383,41.9293805,41.98,41.79,41.888461,41.889906,41.99,41.89380805624359,41.880419,41.969145,41.913865,41.864059,41.93,41.884576228,41.907993,41.9,41.890173,41.915689,41.898969,41.95216219326,41.935733,41.913688,42.001785,41.888716036,41.903266,41.915983,41.929546,41.880958,41.98,41.9267559875,41.906724,41.91844,42.00104377979,41.9,41.8868675,41.948797,41.95,41.882134,41.79,41.88851566666666,41.967094,41.95420033333333,41.889906,41.88917683258,41.94,41.918306,41.94792783333333,41.922167,41.92265,41.83452988563,41.99478933333333,41.90289,41.931248,41.892278,41.929541666666665,41.96167,41.896817166666665,41.889906,41.89766,41.886976,41.921822,41.9267559875,41.87464,41.922167,41.90021949323,41.91995516666667,41.867491,41.935733,41.97,41.890762,41.9325905,41.92,41.926277,41.894503,41.91205316666667,41.90001466666666,41.93,41.954245,41.78,41.91461,41.912133,41.866095,41.904613,41.881892,41.911722,41.906866,41.889906,41.94,41.895634,41.940106,41.8,41.90294416666666,41.89184737210993,41.94018,41.886835,41.9528,41.95078,41.79,41.75,41.87184,41.965171,41.9779966544,42.063598,41.929573833333336,41.963982,41.877720118,41.87,41.868968,41.902909666666666,41.87831661183069,41.894722,41.93758231600629,41.88,41.87184,42.0,41.929465,41.9364968219,41.88602082773,41.92,41.884678982069246,41.79430062054,41.886024,41.911386,41.857813,41.883668,41.86484433333333,41.884678982069246,41.795212,41.903266,41.94015766666666,41.898203,41.88132,41.88145083333333,41.888456345,41.89469233333333,41.918306,41.856268,41.8611595,41.87785,41.918306,41.903222,41.884076,41.925905,41.911974,41.8956675,41.80240066666666,41.795212,41.9840446107,41.877112,41.91710803478932,41.893992,41.91468,41.892278,41.791478,41.954383,41.8823765,41.903222,41.929546,41.94552216666666,41.88626166666667,41.9256018819,41.919936,41.872773,41.897764,41.91,41.968734,41.97,41.88365983333333,41.87295,41.9366884494997,41.8793563587,41.891466,41.94367,41.910535,41.881183666666665,41.885501,41.919977333333335,41.965845,41.94454,41.89401766666667,41.890113166666666,41.95,41.883073,41.87651216666666,41.961406,41.952833,41.89256,41.860384,41.89434513742426,41.97334764047304,41.9437911500595,41.88,41.886875,41.88338,41.92393131136619,41.89675,41.79,41.881445,41.96947316666667,41.8794825,41.780973333333336,41.68587705562333,41.89084704062381,41.799568,41.891264346481535,41.860384,41.883132,41.918306,41.90313983333333,41.85,41.9256018819,41.864059,41.87184,41.913688,42.00445062934,41.967096,41.72,41.93218766666666,41.897764,41.889187,41.907655,41.88457833333333,41.929546,42.00797933333333,41.88917683258,41.902973,41.88917683258,41.88,41.888539433,41.885837,41.954177,41.965068333333335,41.926277,41.884241,41.8,41.88445395657,41.929143,41.77,41.903266,41.9,41.88388966666667,41.922695,41.84,41.877245,41.913688,41.906978333333335,41.99926216666667,41.8844945,41.885909833333336,41.79947833333333,41.93758231600629,41.912681166666665,41.885951,41.935733,41.889187,41.957921,41.9,41.88034483333333,41.88338,41.92,41.8839840647265,41.88338,41.881851833333336,41.898203,41.88456583333333,41.79,41.912133,41.89691,41.91,41.90100683333333,41.93,41.852619,41.881755166666665,41.793242,41.8750236280333,41.911722,41.9093960065,41.96152593287,41.90345,41.872773,41.88634906269,41.802406,41.925858,41.896746973093805,41.95786652415174,41.890173,41.89084704062381,41.904613,41.89691,41.892278,41.834734,41.895748,41.77,41.94815,41.928835,41.89561333333333,41.85753133333333,41.902973,41.90021949323,41.894877,41.88338,41.96909,41.864059,41.913865,41.949399,41.890028,41.89008866666666,41.9285885,41.91751339399,41.91,41.903119,41.945529,41.862378,41.91,41.877181,41.881892,41.94947274088333,41.918306,41.88914833333333,41.8,41.895748,41.9947796884,41.877181,41.77351755125,41.918216,41.89434513742426,41.8694821,42.0191105,41.880329633634624,41.9141045,41.87,41.915983,41.78509714636,41.920036333333336,41.8,41.926180333333335,41.92262683333333,41.889906,41.907993,41.929546,41.9256018819,41.885637,41.89766,41.880317,41.79,41.81,41.88461618962,41.939421,41.922695,41.98979933333333,41.93132,41.89637337,41.894503,41.93758231600629,41.88,41.881319815,41.96105433333334,41.945529,41.903266,41.886709,41.889260166666666,41.89675,41.881892,41.9,41.88461618962,41.94007833333333,41.842052,41.88283,41.954245,41.90345,41.94,41.884114,41.904613,41.91,41.8839840647265,41.89434513742426,41.89811516666666,41.891466,41.96,41.8985866514,41.8908645,41.92,41.882134,41.889187,41.9297985,41.903222,41.919936,41.9,41.95078,42.048308,41.91,41.90021949323,41.92918633333333,41.89,41.915689,41.881853,41.91021,41.932418,41.92,41.91043316666666,41.860384,41.883668,41.902973,41.895769,41.885637,41.872187,41.87295,41.894877,41.93132,41.94334,41.93132,41.871262,41.881995333333336,41.88634906269,41.88115783333333,41.889274,41.949362,41.882091,41.899643,41.920771,41.94947274088333,41.92883,41.89184737210993,41.91010416666667,41.79430062054,41.88634906269,41.78,41.895594954,41.85764983333333,41.858086,41.93,41.8853845,41.92,41.87058833333333,41.870736666666666,41.90230870122,41.920278192,41.92556258,41.79430062054,41.94018,41.82879201994,41.92210533333333,41.888716036,41.89217333333333,41.96104916666667,41.94,41.8854833079,41.86433533333334,41.79949429373,41.887819666666665,41.920082,41.97,41.8,41.918084,41.87944694735652,41.864829666666665,41.886835,41.943739,41.91,41.8,41.8313115,41.788746,41.79933626261,41.94666433333333,41.901315,41.79933626261,41.894722,41.8750236280333,41.931931,41.88462107257936,41.8,41.897276,41.909668,41.85308455741279,41.92883,41.93,41.91830066666667,41.895748,41.958494,41.896731,41.94,41.884678982069246,41.892278,41.872828166666665,41.87831661183069,41.94,41.847203,41.932588,41.877641833333335,41.92,41.93,41.961004,41.95,41.8693105,41.932225,41.954245,41.9364968219,41.898969,41.893992,41.9366884494997,41.88322983333333,41.88634906269,41.945529,41.8471845,41.97563272521,41.864455666666665,41.93,41.940106,41.87,41.90936366666666,41.95,41.94454,41.8963615,41.9226275,41.91,41.91,41.925905,41.899643,41.9,41.940683166666666,41.9,41.925905,42.0582485,41.868968,41.9218245,41.97801733333333,41.91,42.0,41.9716,41.8793563587,41.791478,41.97334764047304,41.87811890091227,41.9,41.74,41.88318130597391,41.8985866514,41.977945166666665,41.864059,41.81,41.81,41.88602082773,41.948106,41.89680066666666,41.89,41.903222,41.878089428,41.889150666666666,41.89637337,41.90096039,41.893992,41.92222916666667,41.925905,41.939743,41.78,41.91037766666667,41.886616486027656,41.872773,41.895501,41.921822,41.912919,41.967096,41.871737,41.9256018819,41.872186184,41.884728,41.93,41.886835,41.884588,41.893992,41.92669516666667,41.88917683258,41.93,41.8985866514,41.91706533333333,41.858166,41.93,41.902973,41.886835,41.8750236280333,41.88,41.92154,41.890762,41.898203,41.93842879148,41.886024,41.89,41.79430062054,41.940079833333336,41.95078,41.785120845,41.885951,41.949399,41.89576474564,41.880317,41.88917683258,41.8347545,41.865312,41.79,41.896746973093805,41.915689,41.929465,41.89218,41.87421283333333,41.89084704062381,42.004453833333336,41.8810317,41.834734,41.89970433333333,41.93,41.894495,41.940737,41.9321675,41.92,41.915689,41.88252033333333,41.935733,41.88541833333333,41.92556258,41.91,41.9437555,41.92952266666666,41.90667366666667,41.8759326655,41.88856766666667,41.891466,41.886024,41.97,41.894877,41.929546,41.897448,41.929143,41.8,41.8694821,41.78,41.79,41.94453766666667,41.92951416666666,41.9716,41.9126075,41.915983,41.96909,41.89576474564,41.95,41.98357083333333,41.946655,41.896746973093805,41.898203,41.94,41.78,41.87,41.910353666666666,41.894523166666666,41.906724,41.884069,41.87831661183069,41.936083,41.860511333333335,41.79,41.882091,41.913688,41.92533,41.89084704062381,42.00797192287,41.85,41.949074,41.93,41.87113983333333,41.836208,41.932588,41.89184737210993,41.94335783333333,41.88,41.88865633333333,41.871948,41.9256018819,42.00177466666667,41.882091,41.85308455741279,41.868968,41.8777079559,41.87239483333333,41.854966518753926,41.949399,41.96325,41.864883,41.88542833333333,41.891466,41.8810317,41.89993001,41.877245,41.88184233333333,41.94815,41.79960666666667,41.890705943,41.79,41.95,41.87831661183069,41.89380805624359,41.90753583333333,41.838842,41.93,41.88185983333333,41.89008833333333,41.89102331025185,41.9098275,41.907993,41.8804775,41.98407983333333,41.891795,41.857813,41.91059083333333,41.872187,41.8758485,41.97,41.884728,41.8985866514,41.9105780349,41.864883,41.88169,41.965845,41.8,41.71870315475741,41.97,41.88318916666667,41.886024,41.871737,41.8694821,41.90305216666667,41.87,41.95,41.9,41.93132,41.897445,41.872071166666665,41.860384,41.91552,41.9,41.910337,41.889906,41.92556258,41.97,41.95786652415174,41.95,41.8777079559,41.94013233333333,41.79,41.92556258,41.895813227,41.78407933333333,41.8,41.957081,41.8877515,41.89413,41.947073333333336,41.89767016666666,41.89184737210993,41.802562,41.889187,41.94815,41.89482516666666,41.932589166666666,41.894503,41.91552,41.86616033333333,41.8839840647265,41.8829095,42.0505225,41.94815,41.903346,41.894958,41.88,41.872596,41.90815833333333,41.867324,41.89,41.79430062054,41.913688,41.87500766666667,41.93314,41.79152283333333,41.906866,41.925685,41.8910375,41.879255,41.949399,41.98974251144,41.89766,41.9362534831413,41.857813,41.886835,41.8368105,41.885476833333335,41.87947235235,41.88415083333334,41.91850016666667,41.90690383333333,41.8854833079,41.89892183333333,41.91552,41.866095,41.902973,41.879403333333336,41.894722,41.892278,41.98974251144,41.899181,41.881319815,41.889906,41.8955575,41.894666,41.883165,41.96874433333333,41.79,41.92556258,41.940106,41.88024833333333,42.0090585,41.8810317,42.0208872805206,41.883668,41.892278,41.8793563587,41.88950966666667,41.94334,41.939256,41.898203,41.828723333333336,41.903222,41.91994966666667,41.902994,41.902541,41.91751339399,41.897764,41.99,41.86530783333333,41.87772613,41.97334764047304,41.885637,41.918306,41.79,41.968977333333335,41.932418,41.909668,41.90348607004,41.884728,41.92556258,41.89084704062381,41.883073,41.93758231600629,41.967968,41.932225,41.94454,41.956110333333335,41.98974251144,41.92154,41.88338,41.870099187,41.929546,41.93,41.92154,41.8795985,41.870257,41.85791566666666,41.894556,41.877383,41.89887383333333,41.884241,41.939476166666665,41.867227,41.89841768945,41.9180165,41.912133,41.893965,41.9093960065,41.75,41.99086483333333,41.968885,41.98,41.96100766666667,41.889187,41.92154,41.87063283333333,41.93758231600629,41.879255,41.890873166666665,41.902924,41.891463,41.89766,41.72,41.928797,41.8885195,41.93758231600629,41.913897,41.974938,41.90761716666667,41.945529,41.89993001,41.890762,41.909668,41.965854,41.891466,41.90230870122,41.92,41.895014833333335,41.899643,41.902973,41.94018,41.80938066666667,42.05,41.93758231600629,41.862378,42.00903366666667,41.932225,41.922749758,41.97,41.906782,41.85747216666667,41.9256018819,41.903222,41.9615435,41.89439183333333,41.97,41.896625666666665,41.89691,41.89436833333333,41.885837,41.949074,41.967096,41.902924,41.93947775040509,41.910522,41.9,41.9947796884,41.9,41.8,41.838464,41.89223116666667,41.902973,41.882091,41.80813391481,41.8985866514,41.95362933333333,41.929143,41.883165,41.870816,41.88338,41.89576474564,41.939365,41.912616,41.909889666666665,41.92,41.948797,41.879406333333336,41.939354,41.90345,41.87943409140013,41.88362633333333,41.92,41.92,41.87811890091227,41.93758231600629,41.83124133333333,41.906724,41.893992,41.97,41.867888,41.929546,41.93940233333333,41.881319815,41.92,41.940775,41.87297916666667,41.857901,41.8793563587,41.96,41.8776205,41.890573,41.928712,41.883073,41.8694821,41.8,41.8,41.9364968219,41.961004,41.9256018819,41.912664652,41.883165,41.791478,41.8777079559,41.966399801840986,41.8777079559,41.88,41.890028,41.94,41.890028,41.91006566666667,41.838464,41.928887,41.89084704062381,41.884123333333335,41.958494,41.931248,41.894722,41.9105295,41.884576228,41.90348607004,41.886024,41.94560066666666,41.954383,41.94947274088333,41.79,41.791478,41.858086,41.924161029067626,41.910522,41.945529,41.948156833333336,41.8,41.884576228,41.889085666666666,41.88,41.8694821,41.928712,41.88,41.884678982069246,41.963982,41.912133,41.87811890091227,41.919936,41.89691,41.968812,41.94,41.87672,41.71,41.874754,41.788746,41.894556,41.79,41.896944626370825,41.89184737210993,41.897764,41.965845,41.92393131136619,41.94,41.890004,41.906866,41.952833,41.93,41.889906,41.918216,41.891795,41.78509714636,41.874053,41.8694821,41.895769,41.88577925240433,41.89434513742426,41.886024,41.88917683258,41.8891965,41.871737,41.802562,41.94454,41.87501,41.96,41.95786652415174,41.945529,41.886616486027656,41.874754,41.911722,42.02,41.88415716666667,41.877245,41.902973,41.884728,41.79,41.9218305,41.946176,41.99086044812557,41.96590013976,41.93227,41.94,41.795212,41.888716036,41.89102331025185,41.949074,41.949074,41.919936,41.92546516666667,41.896362458,41.884114,41.907993,41.926277,41.94,41.949399,41.884732,41.89993001,41.75,41.89675,41.89434513742426,41.93769783333333,41.92556258,41.894722,41.909668,41.84,41.91786866666666,41.939365,41.8804075,41.888716036,41.85,41.888243,41.79,41.909389833333336,42.048214,41.963982,41.94334,41.912133,41.896362458,41.884678982069246,41.9093960065,41.906866,41.94334,41.910522,41.88338,41.925535333333336,41.94018,41.785083166666666,41.943403,41.869265218438194,41.929143,41.79,41.81,41.93,41.89,41.965875,41.838556,41.88551916666667,41.79,41.917805,41.831379,41.880958,41.891072,41.7132835,41.9,41.884678982069246,41.88,41.79,41.922167,41.911722,41.88,41.88,41.931248,41.9364968219,41.94,41.88449883333333,41.918306,41.90345,41.949399,41.902702833333336,41.88,41.891292,41.907066,41.94947274088333,41.90099383333333,41.87207763285,41.93,41.88795,41.87469466666667,42.00104377979,41.911386,41.91801814237187,41.938436333333335,41.8857805,41.94,41.926277,41.79,41.849527,41.954245,41.907626,41.891072,41.912133,41.93669633333333,41.8,41.929546,41.87464,41.79,41.932588,41.93842879148,41.883668,42.032562,41.940106,41.892592119709725,41.896401833333336,41.91,41.902339833333336,41.791478,41.8,41.931931,41.909668,41.88917683258,41.864883,41.78509714636,41.83816,41.894503,41.8759326655,41.91,41.945529,41.91552,41.9577895,41.99925182186,41.79,41.928773,41.912616,41.87,41.954245,41.89434513742426,41.93758231600629,41.911994166666666,41.881319815,41.867491,41.85308455741279,41.882091,41.9002855,41.895748,41.949399,41.8793563587,41.93,41.857813,41.894877,41.88283,41.89228583333333,41.965845,41.880317,41.922194833333336,41.977994,41.88536716666667,41.880317,41.82,41.932418,41.890092,41.834734,41.89380805624359,41.85795,41.917115333333335,41.921822,41.862378,41.89434513742426,41.877245,41.969517,41.91,41.88338,41.8839840647265,41.936266,41.87295,41.943739,41.8,41.965218,41.91598,41.94454,41.91050936666395,41.85308455741279,41.94947274088333,41.961004,41.867888,41.94,41.87184,41.78867116666667,41.953393,41.93758231600629,41.88857216666667,41.9,41.89898683333333,41.911722,41.903222,41.932225,41.8,41.88,42.00865383333333,41.907655,41.867227,41.906724,41.943631833333335,41.919936,41.91636133333333,41.86,41.910481833333336,41.89206033333333,41.92,41.898969,41.92865166666667,41.866095,41.9296625,41.894503,41.893992,41.90068,41.78509714636,41.95,41.883053333333336,41.969065,41.88986483333333,41.860384,41.918306,41.94,41.8947095,41.78,41.90086033333333,41.903222,41.89196483333333,41.93,41.8721645,41.648567166666666,41.911722,41.886835,41.886024,41.884728,41.870816,41.9947796884,41.93933166666667,41.9,41.91,41.799657833333335,41.92,41.8776415962753,41.886835,41.922167,41.88391833333333,41.8950965,41.90345,41.8793605,41.881824493,41.8946435,41.93,41.918492,41.87831661183069,41.891795,41.909602666666665,41.894722,41.910522,41.925788,41.931248,41.8985866514,41.882242,41.91044,41.92,41.906866,41.887779,41.9093960065,41.903119,41.939365,41.894722,41.910522,41.918084,41.9093960065,41.904613,41.838198,41.886616486027656,41.76663823695,41.9,41.91461,41.795264,41.9,41.868968,42.00797192287,41.89500533333333,41.83,41.893992,41.89392016666667,41.890573,41.879255,41.952833,41.95,41.89993001,41.9366884494997,41.90136816666666,41.88,41.877245,41.92,41.9632665,41.791478,41.884241,41.910568833333336,41.87772613,41.894503,41.91193766666667,41.838556,41.910522,41.888243,41.793242,41.910337,41.88106333333333,41.884576228,41.864371166666665,41.9614845,41.918216,41.929143,41.88917683258,41.8940565,41.8947525,41.894877,41.79,41.9356955,41.87742033333333,41.880419,41.881319815,41.910522,41.897448,41.93758231600629,41.8,41.88310383333334,41.882091,41.95,41.902697,42.05,41.871737,41.9,41.880422,41.957921,41.8694821,41.87947235235,41.92884733333333,42.06,41.84358,41.957081,41.945529,41.94815,41.949074,41.88382716666667,41.885837,41.88169,41.87772613,41.889187,41.93,41.871737,41.92533,41.929546,41.902973,41.8942105,41.880958,41.8967725,41.945529,41.88580066666667,41.903266,41.92953,41.89,41.926277,41.891578,41.9,41.888716036,41.915689,41.88283,41.8967005,41.84200333333333,41.85353363213,41.928773,41.89428216666667,41.802406,41.8776415962753,41.8810317,41.90357216666666,41.907993,41.92554116666667,41.97370716666666,41.890573,41.945512666666666,41.88949181977,41.8776415962753,41.862378,41.91057383333333,41.924083,41.902973,41.8750236280333,41.88461618962,42.05,41.891466,41.880958,41.9262325,41.877181,41.913865,41.95422133333334,41.9840446107,41.878166,41.89084704062381,41.8988815,41.97491129677,41.889906,41.88462107257936,41.925490833333335,41.89,41.89637337,41.929160953,41.8694821,41.965875,41.867324,41.911722,41.949074,41.88917683258,41.9366884494997,41.912616,41.879255,41.88917683258,41.88402583333333,41.928887,41.926055833333336,41.889906,41.903222,41.90348607004,41.834734,41.911386,41.979762,41.888716036,41.908082128,41.867227,41.881215833333336,41.97,41.891621,41.857611,41.799568,41.889899,41.90728,41.95786652415174,41.926277,41.93132,41.872596,41.92154,41.794982,41.895769,41.90316516666667,41.838464,41.907993,41.93,41.888716036,41.85308455741279,41.88599666666666,41.894556,41.880317,41.79433683333333,41.967968,41.8810317,41.880422,41.84,41.880958,41.967096,41.8810317,41.886835,41.90025466666667,41.880958,41.882134,41.860384,41.87772613,41.94454,41.877945,41.85753133333333,41.968987,41.909668,41.860384,41.95078,41.87772613,41.909668,41.91844,41.8985866514,41.932418,41.87734366666667,41.874754,41.906724,41.89,41.87207763285,41.879255,41.85,41.87772613,41.74,41.95078,41.97,41.91,41.88572916666666,41.874754,41.92154,41.928773,41.88462107257936,41.9366884494997,41.89102331025185,41.943739,41.8580745,41.857901,41.90096039,41.945529,41.903222,41.93,41.79,41.911722,41.99,41.92,41.902924,41.791478,41.88338,41.891178,41.902973,41.87772613,41.891264346481535,41.95786652415174,42.063598,41.87760283333333,41.890762,41.883668,41.91,41.911386,41.97567716666666,41.932225,41.882134,41.897764,41.9437911500595,41.92393131136619,41.936548,41.909668,41.83838816666667,41.885637,41.78509714636,41.94815,41.94367,41.931248,41.9029125,41.936266,41.8793563587,41.961004,41.92,41.906724,41.898203,41.788746,41.94367,41.935733,41.89,41.92152166666666,41.8947475,41.89710033333333,41.9364968219,41.96167,41.94947274088333,41.94367,41.93,41.902973,41.93,41.92883,41.93,41.96909,41.94947274088333,41.903197166666665,41.900944,41.890762,41.877887666666666,41.95,41.9716,41.864883,41.857901,41.922167,41.884110666666665,41.96325,41.891578,41.973815,41.802562,41.8,41.838842,41.888716036,41.895966,41.94815,41.925905,41.87395083333333,41.92556258,41.912133,41.799568,41.931248,41.870816,41.87772613,41.89637337,41.857813,41.89,41.90230870122,41.90096039,41.939743,41.838464,41.872773,41.929598166666665,41.867227,42.039742,41.88856033333333,41.898203,41.87207763285,41.9,41.885637,41.94947274088333,41.889906,41.842733,41.907066,41.888243,41.90253383333334,41.77,41.940775,41.925905,41.95091516666667,41.906724,41.860384,41.885837,41.915983,41.902941166666665,41.9256018819,41.89,41.86193049278259,41.885479,41.79172820953,41.8,41.871737,41.874754,41.87881383333333,41.929546,41.880419,41.914731,41.928712,41.88067266666667,41.91751339399,41.79428416666666,41.882134,41.893992,41.89257,41.94367,41.94454,41.897448,41.885837,41.83,41.913865,41.79,41.909668,41.89675,41.8793563587,41.89766,41.891072,41.93,41.910535,41.98404383333333,41.906724,41.85308455741279,41.886757731,41.8985866514,41.88918116666667,41.883057,41.87831661183069,41.882242,41.945529,41.88466316666667,41.79,41.932588,41.92,41.890762,41.9218285,41.94,41.8781155,41.89434513742426,41.871514,41.890028,41.891072,41.929143,41.872596,41.893992,41.978004932,41.885637,41.88084466666667,41.87883566666667,41.93,41.85806216666667,41.86722595682,41.8949365,41.973815,41.7917455,41.917805,41.967096,41.87257983333333,41.925858,41.881319815,41.890028,41.96909,41.89,41.89,41.8819495,41.872596,41.867888,41.98403669612,41.885807,41.91021366666666,41.903119,41.94018,41.92,41.89102331025185,41.888243,41.875885,41.903222,41.872773,41.883668,41.904613,41.89184737210993,41.92556258,41.915707,41.867227,41.943669666666665,41.8758655,41.867227,41.9256018819,41.867888,41.894722,41.94367233333333,41.89474233333333,41.936266,41.93,41.8938015,41.87772616666667,41.88997033333333,41.904613,41.928712,41.891466,41.856802,41.8,41.928887,41.968812,41.96946183333333,41.940775,41.82,41.902973,41.94947274088333,41.876678987795,41.889899,41.79430062054,41.93257883333333,41.88634906269,41.791478,41.8750236280333,41.795002333333336,41.88701066666667,41.78794281287,41.910522,41.884330166666665,41.883199,41.925860666666665,41.883997666666666,41.78,41.94367,41.9029955,41.895634,41.94075516666667,41.92,41.883073,41.867491,41.994191,41.921822,41.9255135,41.93773333333333,41.90955216666666,41.880422,41.9256018819,41.903319833333335,41.87184,41.921525,41.89576474564,41.87988666666666,41.929212666666665,41.94374166666667,41.8671177825,41.8908235,41.883165,41.88,41.887004833333336,41.883165,41.929546,41.903331,41.92154,41.926277,41.9,41.8,41.88917683258,41.91,41.9,41.885016666666665,41.8694821,41.935733,41.881319815,41.887933,41.915689,41.85745033333333,41.93588,41.949074,41.91569283333333,41.929694833333336,41.94,41.88283,41.978020666666666,41.89841768945,41.884114,41.90021949323,41.87831661183069,41.884678982069246,41.889849,41.8985866514,41.870560169,41.911722,41.960631,41.91195283333333,41.918281666666665,41.867888,41.9393385,41.90276133333333,41.88855866666667,41.949251333333336,41.8140265,41.894204378,41.902973,41.879255,41.929546,41.8694821,41.932225,41.91,41.8675555,41.940106,41.8839840647265,41.907066,41.88,41.88414016666667,41.87,41.90096039,41.85,41.921822,41.861267,41.8,41.87831661183069,41.878166,41.94018,41.883073,41.95,41.936083,41.910133,41.799568,41.92669,41.89434513742426,41.91402671273,41.898969,41.97,41.867227,41.891795,41.869265218438194,41.92154,41.8839840647265,41.88938816666667,41.87785,41.882242,41.912133,41.89257,41.884241,41.870816,41.967968,41.871262,41.925905,41.88,41.78794281287,41.9366884494997,41.89434513742426,41.85308455741279,41.922167,41.919936,41.89576474564,41.864059,41.92,41.79,41.90021949323,41.8964935,41.87801433333333,41.94367,41.899643,41.97,41.895748,41.870769,41.94367,41.89691,41.907655,41.88346666666666,41.939743,41.93945566666667,41.9256018819,41.93,41.8835455,41.88796466666667,41.8810317,42.015962,41.907993,42.012701,41.90324116666667,41.885837,41.909668,41.886572,41.87207763285,41.884728,41.79430062054,41.880224166666665,41.831379,41.88919583333333,41.8810317,41.98,41.91844,41.857813,41.872773,41.89184737210993,41.96100783333333,41.961588,41.8777079559,41.94013433333333,41.890173,41.945529,41.93758231600629,41.911974,41.893992,41.88040016666667,41.9,41.943739,41.94367,41.899643,42.004583,41.90230870122,41.860384,41.891795,41.94,41.921822,41.88325319522858,41.89690083333333,41.94001133333333,41.9779966544,41.88900966666667,41.8694821,41.889187,41.875091833333336,41.85814466666667,41.894053166666666,41.965221,41.91050936666395,41.89,41.9,41.886875,41.918306,41.88,41.93932083333333,41.87759916666667,41.97,41.809443,41.906724,41.89675,41.93533728263,41.834758,41.9,41.96119783333333,41.898969,41.9840065,41.96790033333333,41.925905,41.90932083333333,41.907125235,41.99,41.880958,41.918342829,41.89661720040753,41.94454,41.874754,41.90345,41.868968,41.914576333333336,41.79430062054,41.87498216666667,41.929228,41.93758231600629,41.881892,41.93132,41.88,41.906866,41.87934437346,41.954446,41.894666,41.90938383333334,41.898899166666666,41.886859666666666,41.9,41.898969,41.880422,41.9528025,41.888368166666666,41.87938616666667,41.85308455741279,41.961406,41.88852766666667,41.87811890091227,41.88169,41.949185,41.911722,41.9362534831413,41.92,41.842098594,41.91710803478932,41.89841768945,41.84847,41.903029,41.871389666666666,41.9466358306,41.935733,41.85,41.886024,41.89215316666667,41.898969,41.89155466666666,41.94815,41.79,41.884678982069246,41.91021,41.894877,41.86722595682,41.869265218438194,41.907042861,41.894556,41.871737,41.888716036,41.954177,41.96,42.01256011541,41.90291333333333,41.886976,41.882242,41.949923,41.903222,41.9364968219,41.882242,41.74,41.864883,41.907066,41.78794281287,41.89183216666667,41.879255,41.90033816666666,41.876678987795,41.91643342912655,41.8,42.012701,41.867942,41.90039033333333,41.90985465216731,41.93,41.890573,41.85785483333333,41.913865,41.961068,41.96909,41.867227,41.932225,41.898969,41.903222,41.90345,41.87769866666667,41.907993,41.9256018819,41.93,41.903222,41.8,41.902893,41.8895035,41.8810317,41.785116333333335,41.88461618962,41.95423666666667,41.900363,41.963982,41.98974783333333,41.88325319522858,41.922167,41.880958,41.889222833333335,41.915689,41.7801045,41.88918066666667,41.86,41.85380333333333,41.89,41.8839840647265,42.00454962194,41.97365,41.925905,41.913688,41.929546,41.928712,41.891098,41.901315,41.90076416666667,41.890762,41.882664,41.973815,41.891795,41.90286133333333,41.93758231600629,41.91853066666667,41.89637337,41.91373383333333,41.954383,41.904574833333335,41.885951,41.96150733333333,41.8842555,41.87395983333333,41.902973,41.894722,41.9,41.867888,41.940106,41.87184,41.961041,41.8839840647265,41.8820325,41.883668,41.90949483333333,41.911386,41.877181,41.79430062054,41.894151666666666,41.939365,41.79,41.867324,41.968987,41.94947274088333,41.94334,41.9,41.79949429373,41.878166,41.913688,41.961406,41.96873766666667,41.903222,41.886835,41.79,41.89691,41.921822,41.885637,41.838556,41.88461618962,41.9,41.943403,41.882242,41.948086333333336,41.95,41.932588,41.91205116666666,41.96909,41.87934437346,41.89102331025185,41.895634,41.907993,41.894503,42.015962,41.931931,41.79424616666667,41.8797877089,41.870769,41.87947235235,41.975625666666666,41.86,41.854109,41.897764,41.886976,41.884114,41.94018,41.91,41.87636616666666,41.96,41.894877,41.921822,41.899129,41.92663916666667,41.882091,41.911386,41.920754,41.922167,41.81,41.918306,41.896746973093805,41.920771,41.889137833333336,41.78509714636,41.89184737210993,41.8830365,41.87907783333333,41.8694821,41.88356066666667,41.943403,41.88917683258,41.88,41.87,41.939365,41.912133,41.8,41.889187,41.90252783333333,41.954383,41.91,41.89257,41.9325575,41.95,41.917715,41.89257,41.872187,41.8839840647265,41.95,41.907655,41.89097216666666,41.69,41.885126,41.913688,41.9,41.915983,41.910614,41.871737,41.94,41.878287,41.93258963429789,41.78509714636,41.891102833333335,41.94,41.89,41.893992,41.893992,41.8802685,41.880317,41.9023815,41.961406,41.893992,41.89766,41.92409085038,41.874754,41.949074,41.791478,41.788746,41.89,41.948798833333335,41.950687,41.881892,41.882091,41.88338,41.890028,41.89084704062381,41.88037233333333,41.88309216666666,41.96909,41.892296,41.882242,41.880419,41.907655,41.94454,41.94362783333333,41.965221,41.94919183333333,41.918306,41.892278,41.94,41.98405433333333,41.9,41.88634906269,41.8,41.891795,41.9105780349,41.895748,41.96,41.90024566666666,41.95,41.8671685,41.9466358306,41.791478,41.79,41.895501,41.881892,41.979928,41.8,41.78509714636,41.89181983333334,41.79,41.90092066666666,41.816499,41.894503,41.907781,41.867888,41.918216,41.9294375,41.870769,41.83876,41.893992,41.912675858,41.882091,42.058239,41.888243,41.89576474564,41.912616,41.92019556200566,41.894503,41.907993,41.95,41.87472366666667,41.88137,41.89,41.8943125,41.912934166666666,41.912706,41.884576228,41.8860235,41.874053,41.898969,41.954177,41.889187,41.894722,41.87772613,41.95365816666666,41.784991833333336,41.871737,41.918306,41.89766,41.8839840647265,41.90107166666667,41.912616,41.88602082773,41.8,41.79,41.8378095,41.886024,41.9716,41.903119,41.973815,41.885837,41.95340133333333,42.05821666666667,41.90348607004,41.925858,41.78509714636,41.877805333333335,41.895634,41.915689,41.8,41.922695,41.92180883333333,41.912133,41.940106,41.881892,41.78,41.939743,41.898969,41.89084704062381,41.86478833333334,41.79,41.93947775040509,41.911974,41.880381,41.894681166666665,41.91801814237187,41.909665,41.94947274088333,41.882242,41.870769,41.871262,41.87207763285,41.895496666666666,41.89634233333334,41.89847133333333,41.925898,41.896362458,41.93758231600629,41.93314,41.864883,41.89434513742426,41.78509714636,41.894188,41.857611,41.85758033333333,41.961406,41.932418,41.78509714636,41.961547732,41.99925182186,41.87295,41.88,41.94,41.933107,41.9364968219,41.898203,41.90345,41.88602082773,41.88805033333333,41.907626,41.93947775040509,41.921822,41.895748,41.88917683258,41.86859366666667],\"legendgroup\":\"member\",\"lon\":[-87.67373085021973,-87.643749,-87.62408,-87.67493,-87.69140516666667,-87.67423483333333,-87.78,-87.626185,-87.629912,-87.6626,-87.6444478533,-87.6,-87.613533,-87.70532716666666,-87.65911383333334,-87.6260055,-87.61,-87.6616765,-87.6475386582,-87.63,-87.67097,-87.634656,-87.6246475,-87.643749,-87.66202983333334,-87.6,-87.629897,-87.628722,-87.635185,-87.677409,-87.643909,-87.61861681938171,-87.63188991,-87.72,-87.64926,-87.70514966666667,-87.6537080423,-87.64638036489487,-87.67419,-87.626761,-87.646439,-87.626761,-87.66394,-87.658745,-87.70205466666667,-87.7,-87.6626,-87.65367516666667,-87.58088016666666,-87.57,-87.64308133333333,-87.6353211408,-87.63,-87.6344287848,-87.62377664,-87.666611,-87.617854,-87.66404083333333,-87.6776919292,-87.69,-87.64021133333334,-87.649993,-87.629912,-87.654264,-87.658865,-87.6319515,-87.65,-87.697153,-87.638677,-87.626804,-87.63437916666666,-87.626804,-87.731945,-87.64935266666667,-87.63596616666666,-87.638437,-87.63725316666667,-87.735689,-87.63,-87.64711083333333,-87.6219152258,-87.636282,-87.59,-87.656936,-87.63145483333334,-87.63483,-87.64645278453827,-87.6549495,-87.64,-87.58,-87.631501,-87.6548075,-87.624117,-87.673567,-87.6510245,-87.677409,-87.677821,-87.6440978050232,-87.653102,-87.6865960164,-87.626761,-87.69,-87.697668,-87.63468533333334,-87.634266,-87.661206,-87.63128,-87.632326,-87.64,-87.6346,-87.636427,-87.634348,-87.69,-87.612827,-87.6537080423,-87.69,-87.6225695,-87.62408,-87.63550400733948,-87.63513733333333,-87.63128,-87.63,-87.62680016666667,-87.62625216666666,-87.7,-87.6602738295,-87.6224155,-87.58682516666667,-87.6355,-87.612043,-87.636282,-87.63462233333334,-87.64776,-87.64,-87.62377664,-87.62058019638062,-87.652662,-87.65253683333333,-87.608218,-87.6587695,-87.648625,-87.6,-87.648789,-87.632326,-87.7,-87.617867,-87.636443138,-87.634656,-87.68,-87.5946735,-87.599861,-87.68,-87.631246,-87.5883151702,-87.65478743,-87.7,-87.663913,-87.6,-87.666036,-87.658751,-87.626217,-87.71,-87.68,-87.62279838323593,-87.6355,-87.63258683333333,-87.642884,-87.658971,-87.6453995,-87.63724207878113,-87.62279838323593,-87.628722,-87.635185,-87.652705,-87.639904,-87.677821,-87.66913,-87.65492666666667,-87.638566,-87.649603,-87.6,-87.616743,-87.6440978050232,-87.63,-87.73201483333334,-87.5864498959,-87.626938,-87.629318,-87.65372183333334,-87.625997424,-87.639833,-87.630834,-87.6385057718,-87.652855,-87.64888016666667,-87.6346,-87.6429854676,-87.65235983333334,-87.635185,-87.63874616666666,-87.624173,-87.637321,-87.659141,-87.63912283333333,-87.70186533333333,-87.6444255,-87.64872366666667,-87.63550400733948,-87.65102460980414,-87.634324,-87.62797504663467,-87.661501,-87.65304,-87.63160516666667,-87.69,-87.6,-87.6511,-87.641823,-87.64,-87.61825716666667,-87.654406,-87.624783039,-87.639192,-87.622072,-87.73,-87.64117,-87.62058019638062,-87.6314185,-87.68,-87.6243575,-87.67493,-87.63108766666667,-87.6,-87.648755,-87.6319852213,-87.63128,-87.627690528,-87.63188991,-87.626185,-87.67213716666667,-87.66355991363525,-87.62393066666667,-87.626804,-87.64936383333334,-87.64867,-87.65304,-87.66931616666666,-87.62058019638062,-87.6764600747,-87.68,-87.630834,-87.639904,-87.658617,-87.667747,-87.63844816666666,-87.643118,-87.612043,-87.648043,-87.68410466666667,-87.67,-87.59,-87.64435416666667,-87.634266,-87.66,-87.64169722795485,-87.655519,-87.6742565,-87.648755,-87.623727,-87.65,-87.63188991,-87.631501,-87.69,-87.626185,-87.6346,-87.629912,-87.698051113,-87.663576,-87.652855,-87.688829,-87.6444478533,-87.678435,-87.677335,-87.643118,-87.616743,-87.65,-87.6344287848,-87.63483,-87.65222,-87.6611982433,-87.63,-87.62653716666667,-87.675278,-87.66,-87.625125,-87.6,-87.64442933333333,-87.679028,-87.68591183333334,-87.634266,-87.6385057718,-87.75,-87.636282,-87.66401,-87.638888,-87.69713899999999,-87.6318229814,-87.6602625,-87.6874795,-87.644336,-87.612043,-87.70784633333334,-87.65464,-87.63075833333333,-87.634266,-87.62351,-87.612813,-87.64414,-87.6344287848,-87.65703,-87.638888,-87.6429854676,-87.64882816666666,-87.63219,-87.663576,-87.76,-87.631697,-87.6364115,-87.69,-87.630834,-87.617854,-87.634789,-87.63450933333333,-87.66,-87.654406,-87.6,-87.667968,-87.634656,-87.607267,-87.640552,-87.648789,-87.626804,-87.626217,-87.634266,-87.65,-87.672069,-87.645451,-87.59,-87.68725383333333,-87.62058019638062,-87.65304,-87.62232,-87.6500065,-87.659172,-87.58,-87.6,-87.64664,-87.658357,-87.6680471047,-87.69873,-87.70791483333333,-87.638181,-87.654846549,-87.62,-87.659141,-87.631343,-87.64098107814789,-87.634362,-87.6440978050232,-87.66,-87.64664,-87.67,-87.684158,-87.6475386582,-87.6308760584,-87.69,-87.62797504663467,-87.6014497734,-87.624117,-87.638677,-87.62455,-87.64867,-87.64708333333333,-87.62797504663467,-87.580715,-87.678435,-87.652945,-87.637536,-87.62409583333333,-87.67485066666667,-87.644411087,-87.63466816666667,-87.636282,-87.613348,-87.65647366666667,-87.62408,-87.636282,-87.634324,-87.65698066666667,-87.64926,-87.631942,-87.67711316666667,-87.58697616666667,-87.580715,-87.6602738295,-87.63995716666666,-87.71022096276283,-87.629318,-87.64332,-87.612043,-87.599861,-87.648043,-87.63941183333333,-87.634324,-87.643118,-87.6464095,-87.631586,-87.6537080423,-87.64883,-87.623981,-87.642884,-87.68,-87.69620066666667,-87.71,-87.6411965,-87.66913,-87.63682901859283,-87.6297910363,-87.626761,-87.64895,-87.689556,-87.61678666666667,-87.63089883333333,-87.64883183333333,-87.645361,-87.654678,-87.61835266666667,-87.62615533333333,-87.65,-87.656952,-87.62037916666667,-87.676169,-87.649993,-87.61450266666667,-87.625813,-87.62279838323593,-87.6678554713726,-87.671257853508,-87.65,-87.62603,-87.64117,-87.63582453131676,-87.63089,-87.6,-87.67491633333333,-87.65467633333333,-87.62592066666667,-87.576255,-87.57382392883301,-87.61861681938171,-87.594747,-87.676842212677,-87.625813,-87.637321,-87.636282,-87.67378383333333,-87.69,-87.6537080423,-87.623727,-87.64664,-87.652855,-87.6724024047,-87.667429,-87.68,-87.65849933333334,-87.642884,-87.627754,-87.672552,-87.6444425,-87.643118,-87.66553616666667,-87.6385057718,-87.63128,-87.6385057718,-87.62,-87.64440763,-87.6355,-87.664358,-87.65837966666666,-87.630834,-87.629634,-87.59,-87.6962981368,-87.649077,-87.65,-87.678435,-87.7,-87.62443816666666,-87.697153,-87.63,-87.639366,-87.652855,-87.62624166666667,-87.671376,-87.6275885,-87.67704366666666,-87.59474366666667,-87.6440978050232,-87.68147033333334,-87.677009,-87.663576,-87.627754,-87.673567,-87.71,-87.642742,-87.64117,-87.72,-87.6246839761734,-87.64117,-87.648849,-87.637536,-87.64445583333334,-87.59,-87.634656,-87.621743,-87.63,-87.62372033333334,-87.72,-87.626488,-87.64869716666666,-87.587782,-87.6330940425396,-87.626804,-87.6776919292,-87.6911650414,-87.667747,-87.623981,-87.6175165471,-87.586924,-87.638973,-87.63566762208939,-87.64950513839722,-87.626185,-87.61861681938171,-87.640552,-87.621743,-87.612043,-87.625813,-87.620104,-87.57,-87.66394,-87.66855266666667,-87.6771195,-87.66164166666667,-87.63128,-87.6429854676,-87.632326,-87.64117,-87.674237,-87.623727,-87.648755,-87.654529,-87.636618,-87.62625566666667,-87.65372516666666,-87.7018089555,-87.71,-87.673935,-87.646439,-87.651062,-87.63,-87.627844,-87.648789,-87.64645278453827,-87.636282,-87.6384235,-87.59,-87.620104,-87.6602845349,-87.627844,-87.5771428255,-87.656936,-87.62279838323593,-87.6554864,-87.67354766666666,-87.64274597167967,-87.71674966666667,-87.64,-87.677335,-87.6010727606,-87.64887716666667,-87.6,-87.63100583333333,-87.6971035,-87.634266,-87.631501,-87.643118,-87.6537080423,-87.641823,-87.62351,-87.635185,-87.6,-87.66,-87.6445705849,-87.66837383333333,-87.697153,-87.66015,-87.638742,-87.66098386,-87.617854,-87.6440978050232,-87.64,-87.6295209193,-87.64937716666667,-87.646439,-87.678435,-87.62274566666666,-87.6277615,-87.63089,-87.648789,-87.71,-87.6445705849,-87.65298666666666,-87.617,-87.661206,-87.654406,-87.667747,-87.7,-87.654264,-87.640552,-87.81,-87.6246839761734,-87.62279838323593,-87.637467,-87.626761,-87.65,-87.6219152258,-87.63142866666666,-87.65,-87.625125,-87.627754,-87.6432045,-87.634324,-87.64883,-87.71,-87.659172,-87.698224,-87.68,-87.6429854676,-87.649194,-87.63,-87.6346,-87.64902083333334,-87.6435,-87.652705,-87.69,-87.67008583333333,-87.625813,-87.64867,-87.63128,-87.67722,-87.641823,-87.661501,-87.66913,-87.632326,-87.638742,-87.67097,-87.638742,-87.673688,-87.62518166666666,-87.6175165471,-87.62409933333333,-87.6278345,-87.64634033333333,-87.639833,-87.6677,-87.663712,-87.64645278453827,-87.668507,-87.62058019638062,-87.682317,-87.6014497734,-87.6175165471,-87.6,-87.681936026,-87.61945766666666,-87.651073,-87.69,-87.64198933333333,-87.69,-87.62595083333333,-87.62588916666667,-87.627690528,-87.692652464,-87.65840426,-87.6014497734,-87.65304,-87.6806044594,-87.638962,-87.6444478533,-87.6193635,-87.64953583333333,-87.66,-87.6523048564,-87.62355683333334,-87.5864498959,-87.62594183333333,-87.677855,-87.7,-87.59,-87.643749,-87.64268159866333,-87.64713,-87.62232,-87.66402,-87.7,-87.6,-87.60879433333334,-87.601334,-87.6009581145,-87.683487,-87.677409,-87.6009581145,-87.634362,-87.6330940425396,-87.677856,-87.62783423066139,-87.6,-87.62145,-87.648128,-87.63193130493164,-87.668507,-87.71,-87.636328,-87.620104,-87.654966,-87.63079483333334,-87.65,-87.62797504663467,-87.612043,-87.669092,-87.64098107814789,-87.75,-87.646795,-87.636427,-87.63479383333333,-87.68,-87.64,-87.649603,-87.75,-87.673621,-87.658617,-87.654406,-87.6475386582,-87.629912,-87.629318,-87.63682901859283,-87.64891033333333,-87.6175165471,-87.646439,-87.6468215,-87.7014194389,-87.6236125,-87.65,-87.645451,-87.67,-87.67765433333334,-87.74,-87.654678,-87.66108583333333,-87.6971685,-87.69,-87.65,-87.64926,-87.6677,-87.77,-87.63910833333334,-87.69,-87.64926,-87.67744433333333,-87.659141,-87.65372283333333,-87.66813616666667,-87.7,-87.69,-87.650154,-87.6297910363,-87.599861,-87.6678554713726,-87.64394760131836,-87.67,-87.53,-87.64872461557388,-87.6219152258,-87.667985,-87.623727,-87.68,-87.6,-87.6308760584,-87.663978,-87.6309135,-87.63,-87.634324,-87.631913304,-87.638482,-87.66098386,-87.62377664,-87.629318,-87.63906466666667,-87.64926,-87.658865,-87.61,-87.69711116666667,-87.6580399274826,-87.623981,-87.682017,-87.64414,-87.664169,-87.667429,-87.65103,-87.6537080423,-87.661362886,-87.619521,-87.69,-87.62232,-87.619484,-87.629318,-87.69779316666667,-87.6385057718,-87.67,-87.6219152258,-87.7101715,-87.656495,-87.66,-87.63128,-87.62232,-87.6330940425396,-87.63,-87.653818,-87.631697,-87.637536,-87.698007756,-87.624117,-87.65,-87.6014497734,-87.6454685,-87.659172,-87.601084352,-87.677009,-87.654529,-87.6259080327,-87.635185,-87.6385057718,-87.6257975,-87.617867,-87.6,-87.63566762208939,-87.6346,-87.684158,-87.611974,-87.639792,-87.61861681938171,-87.67237233333333,-87.62408432,-87.625813,-87.668461,-87.7,-87.653401,-87.639141,-87.65883216666667,-87.69,-87.6346,-87.63252883333334,-87.663576,-87.642077,-87.65840426,-87.69,-87.6640065,-87.707928,-87.63512083333333,-87.6305845355,-87.64440916666666,-87.626761,-87.624117,-87.65,-87.632326,-87.643118,-87.628722,-87.649077,-87.58,-87.6554864,-87.6,-87.6,-87.65474516666667,-87.70784083333334,-87.650154,-87.68150733333333,-87.677335,-87.674237,-87.6259080327,-87.71,-87.66921383333333,-87.683359,-87.63566762208939,-87.637536,-87.73,-87.58,-87.63,-87.670121,-87.65350833333333,-87.63483,-87.656853,-87.64098107814789,-87.669807,-87.625828,-87.6,-87.639833,-87.652855,-87.6658,-87.61861681938171,-87.6655023944,-87.7,-87.648636,-87.8,-87.67371966666667,-87.613533,-87.636427,-87.62058019638062,-87.67083466666666,-87.65,-87.6443965,-87.650936,-87.6537080423,-87.688867,-87.639833,-87.63193130493164,-87.659141,-87.6353211408,-87.62392433333333,-87.67569959163664,-87.654529,-87.679258,-87.647071,-87.642082,-87.626761,-87.62408432,-87.63443007,-87.639366,-87.64106983333333,-87.66394,-87.58636416666667,-87.631524682,-87.6,-87.75,-87.64098107814789,-87.64169722795485,-87.67249916666667,-87.621857,-87.69,-87.64095133333333,-87.63664616666667,-87.63547986745834,-87.70535266666667,-87.631501,-87.65569466666666,-87.6602355,-87.658751,-87.62455,-87.653226,-87.661501,-87.64055016666667,-87.68,-87.619521,-87.6219152258,-87.6494219288,-87.647071,-87.63953,-87.645361,-87.58,-87.59703576564789,-87.7,-87.64142683333333,-87.624117,-87.65103,-87.6554864,-87.66786333333333,-87.67,-87.64,-87.67,-87.638742,-87.6289185,-87.62957283333333,-87.625813,-87.687022,-87.69,-87.670072,-87.634266,-87.65840426,-87.75,-87.64950513839722,-87.71,-87.6353211408,-87.65299166666667,-87.6,-87.65840426,-87.626304626,-87.6133225,-87.58,-87.664199,-87.63683016666667,-87.61837166666666,-87.73995383333333,-87.628642,-87.62058019638062,-87.590368,-87.627754,-87.66394,-87.63422133333333,-87.66595983333333,-87.617854,-87.687022,-87.60734316666667,-87.6246839761734,-87.6611835,-87.67780283333333,-87.66394,-87.66821166666666,-87.764902,-87.65,-87.633502,-87.63148933333333,-87.648625,-87.67,-87.6014497734,-87.652855,-87.63308783333333,-87.64776,-87.59990066666667,-87.626217,-87.65377133333334,-87.61786033333334,-87.639904,-87.654529,-87.6601406209,-87.62351,-87.65266209840775,-87.62455,-87.62232,-87.613362,-87.624324,-87.6256886059,-87.654236,-87.65218166666666,-87.62615566666666,-87.6523048564,-87.629858,-87.687022,-87.607267,-87.63128,-87.64037916666666,-87.634362,-87.612043,-87.6601406209,-87.6722,-87.6295209193,-87.634266,-87.67235716666667,-87.638437,-87.6511,-87.69612933333333,-87.6,-87.65840426,-87.645451,-87.63542716666667,-87.67432216666667,-87.62408432,-87.66505792737007,-87.64867,-87.612043,-87.6297910363,-87.68821466666667,-87.67097,-87.668354,-87.637536,-87.68069416666667,-87.634324,-87.64878116666667,-87.63171066666666,-87.62788733333333,-87.7018089555,-87.642884,-87.67,-87.61828483333333,-87.65478743,-87.6678554713726,-87.641823,-87.636282,-87.59,-87.68404,-87.652705,-87.648128,-87.6433534936,-87.619521,-87.65840426,-87.61861681938171,-87.656952,-87.6440978050232,-87.650001,-87.658617,-87.65472216666667,-87.68021433333334,-87.6601406209,-87.653818,-87.64117,-87.63945055,-87.643118,-87.75,-87.653818,-87.640252,-87.639474,-87.640857,-87.653449,-87.63493416666667,-87.629942,-87.629634,-87.66821733333333,-87.625961,-87.6865960164,-87.643691,-87.634656,-87.6224925,-87.6776919292,-87.66,-87.66969,-87.684001,-87.71,-87.6496045,-87.627754,-87.653818,-87.62580983333334,-87.6440978050232,-87.639904,-87.61761866666667,-87.637715,-87.62662116666667,-87.62351,-87.6,-87.6638755,-87.644241,-87.6440978050232,-87.65284716666666,-87.69260116666666,-87.63845283333333,-87.646439,-87.63443007,-87.631697,-87.648128,-87.693732,-87.626761,-87.627690528,-87.64,-87.6345015,-87.6677,-87.63128,-87.65304,-87.59188016666667,-87.68,-87.6440978050232,-87.651062,-87.67413333333333,-87.658617,-87.697091818,-87.65,-87.62611516666666,-87.66162366666667,-87.6537080423,-87.634324,-87.69120183333334,-87.61787466666667,-87.69,-87.63084933333333,-87.621743,-87.62294716666666,-87.6355,-87.648636,-87.667429,-87.637715,-87.6637476682663,-87.653106,-87.67,-87.6602845349,-87.69,-87.59,-87.635406,-87.6119545,-87.63128,-87.639833,-87.6456165545,-87.6219152258,-87.709373,-87.649077,-87.6511,-87.631246,-87.64117,-87.6259080327,-87.668385,-87.681391,-87.7053615,-87.75,-87.675278,-87.63209533333334,-87.683282,-87.667747,-87.63550400733948,-87.64856733333333,-87.74,-87.69,-87.64394760131836,-87.6440978050232,-87.60890383333333,-87.63483,-87.629318,-87.76,-87.623041,-87.643118,-87.6682835,-87.6295209193,-87.69,-87.639192,-87.6690725,-87.668745,-87.6297910363,-87.7,-87.64928316666666,-87.622072,-87.653833,-87.656952,-87.6554864,-87.6,-87.59,-87.6475386582,-87.649603,-87.6537080423,-87.681393147,-87.6511,-87.599861,-87.6353211408,-87.68870428204536,-87.6353211408,-87.63,-87.636618,-87.64,-87.636618,-87.64351416666666,-87.635406,-87.658971,-87.61861681938171,-87.62398283333333,-87.654966,-87.644336,-87.634362,-87.6532605,-87.63188991,-87.6433534936,-87.624117,-87.646404,-87.648043,-87.64645278453827,-87.59,-87.599861,-87.651073,-87.64638036489487,-87.653106,-87.646439,-87.66413516666667,-87.58,-87.63188991,-87.6275285,-87.74,-87.6554864,-87.653833,-87.66,-87.62797504663467,-87.638181,-87.634656,-87.64394760131836,-87.64883,-87.621743,-87.657659,-87.67,-87.644269,-87.54,-87.649807,-87.601334,-87.653449,-87.7,-87.62175768613815,-87.62058019638062,-87.642884,-87.645361,-87.63582453131676,-87.7,-87.63404766666666,-87.626217,-87.649993,-87.75,-87.634266,-87.656936,-87.658751,-87.6010727606,-87.627716,-87.6554864,-87.67722,-87.65102460980414,-87.62279838323593,-87.624117,-87.6385057718,-87.63847266666667,-87.65103,-87.590368,-87.654678,-87.67328,-87.67,-87.64950513839722,-87.646439,-87.6580399274826,-87.649807,-87.626804,-87.68,-87.65434866666666,-87.639366,-87.63128,-87.619521,-87.6,-87.6439995,-87.673308,-87.66972362995148,-87.6936384935,-87.65269983333333,-87.65,-87.580715,-87.6444478533,-87.63547986745834,-87.648636,-87.648636,-87.64883,-87.65377116666667,-87.6540612729,-87.654264,-87.631501,-87.630834,-87.64,-87.654529,-87.63074566666667,-87.63443007,-87.57,-87.63089,-87.62279838323593,-87.64409383333333,-87.65840426,-87.634362,-87.648128,-87.62,-87.682524,-87.668385,-87.65560366666666,-87.6444478533,-87.67,-87.63639,-87.6,-87.67761916666667,-87.683485,-87.638181,-87.67097,-87.634656,-87.6540612729,-87.62797504663467,-87.6776919292,-87.626217,-87.67097,-87.653106,-87.64117,-87.658601,-87.65304,-87.6010605,-87.679618,-87.67373085021973,-87.649077,-87.6,-87.6,-87.64,-87.63,-87.700825,-87.608218,-87.65249416666667,-87.59,-87.682437,-87.618034,-87.616743,-87.666611,-87.56585633333333,-87.69,-87.62797504663467,-87.63,-87.58,-87.638888,-87.626804,-87.64,-87.63,-87.644336,-87.6475386582,-87.71,-87.619622,-87.636282,-87.667747,-87.654529,-87.63152216666667,-87.62,-87.67689316666667,-87.667252,-87.64645278453827,-87.623834,-87.6295437729,-87.79,-87.63679266666666,-87.64987916666666,-87.6611982433,-87.638677,-87.65218198299408,-87.69796883333333,-87.63551533333333,-87.75,-87.630834,-87.6,-87.640591,-87.654406,-87.638566,-87.666611,-87.634656,-87.636886,-87.6,-87.643118,-87.65703,-87.6,-87.636427,-87.698007756,-87.64867,-87.679101,-87.645451,-87.61728912591934,-87.6541535,-87.63,-87.6277125,-87.599861,-87.6,-87.677856,-87.648128,-87.6385057718,-87.647071,-87.6010727606,-87.64511866666666,-87.617854,-87.6305845355,-87.7,-87.646439,-87.687022,-87.64956683333334,-87.6713773393,-87.58,-87.663913,-87.681391,-87.69,-87.654406,-87.62279838323593,-87.6440978050232,-87.634741,-87.6295209193,-87.63219,-87.63193130493164,-87.639833,-87.64303766666667,-87.620104,-87.654529,-87.6297910363,-87.66,-87.62455,-87.632326,-87.661206,-87.61219066666666,-87.645361,-87.635185,-87.638921,-87.66806,-87.64171383333333,-87.635185,-87.7,-87.652705,-87.63437283333333,-87.625813,-87.64169722795485,-87.640826,-87.71023733333334,-87.64414,-87.651062,-87.62279838323593,-87.639366,-87.654691,-87.68,-87.64117,-87.6246839761734,-87.652662,-87.66913,-87.66402,-87.59,-87.658317,-87.67721433333334,-87.654678,-87.6823890209198,-87.63193130493164,-87.64645278453827,-87.649603,-87.623041,-87.75,-87.64664,-87.6013095,-87.732002,-87.6440978050232,-87.6442305,-87.7,-87.62996083333333,-87.626804,-87.634324,-87.658617,-87.6,-87.65,-87.69046666666667,-87.672552,-87.625961,-87.63483,-87.66392883333333,-87.64883,-87.66683016666667,-87.67,-87.6531215,-87.62062516666667,-87.65,-87.629912,-87.65372416666666,-87.607267,-87.64316333333333,-87.617854,-87.629318,-87.6626,-87.6010727606,-87.64,-87.65112066666667,-87.67425516666667,-87.67150433333333,-87.625813,-87.636282,-87.69,-87.6383415,-87.6,-87.62383966666667,-87.634324,-87.62067916666666,-87.69,-87.62960566666666,-87.54618266666667,-87.626804,-87.62232,-87.624117,-87.619521,-87.631246,-87.6602845349,-87.68325183333333,-87.67,-87.71,-87.58631916666667,-87.7,-87.64961779117584,-87.62232,-87.638888,-87.629687,-87.618759,-87.667747,-87.6398085,-87.648820519,-87.63826466666667,-87.67,-87.652225,-87.64098107814789,-87.658751,-87.6480955,-87.634362,-87.653106,-87.64905483333334,-87.644336,-87.6219152258,-87.641066,-87.6972,-87.7,-87.626217,-87.63701116666667,-87.6776919292,-87.673935,-87.668385,-87.634362,-87.653106,-87.643749,-87.6776919292,-87.640552,-87.645143,-87.6580399274826,-87.5764501141,-87.63,-87.667968,-87.596471,-87.71,-87.659141,-87.6655023944,-87.61815066666666,-87.64,-87.629318,-87.6417105,-87.622072,-87.639904,-87.649993,-87.69,-87.63443007,-87.63682901859283,-87.6773865,-87.65,-87.639366,-87.67,-87.67932016666667,-87.599861,-87.629634,-87.6895865,-87.65478743,-87.617854,-87.632091,-87.608218,-87.653106,-87.63639,-87.587782,-87.670072,-87.62409616666666,-87.63188991,-87.6236935,-87.654674,-87.656936,-87.649077,-87.6385057718,-87.62255733333333,-87.634592,-87.632326,-87.6,-87.66389916666667,-87.63478033333334,-87.655519,-87.6295209193,-87.653106,-87.628722,-87.6440978050232,-87.59,-87.64094166666666,-87.639833,-87.65,-87.63149766666666,-87.68,-87.65103,-87.72,-87.642746,-87.673567,-87.6554864,-87.6256886059,-87.66858633333334,-87.68,-87.645368,-87.664199,-87.646439,-87.66394,-87.648636,-87.62424166666666,-87.6355,-87.63953,-87.65478743,-87.627754,-87.7,-87.65103,-87.6658,-87.643118,-87.63128,-87.62259966666667,-87.616743,-87.63078533333334,-87.646439,-87.635286,-87.678435,-87.70785216666667,-87.64,-87.630834,-87.648384,-87.7,-87.6444478533,-87.6346,-87.661206,-87.63089833333333,-87.61687833333333,-87.7050730318,-87.663913,-87.6228235,-87.586924,-87.64961779117584,-87.62408432,-87.64335816666667,-87.631501,-87.65851183333334,-87.65967916666666,-87.622072,-87.6464,-87.6882193648,-87.64961779117584,-87.651062,-87.65327433333333,-87.6461875,-87.63128,-87.6330940425396,-87.6445705849,-87.68,-87.626761,-87.616743,-87.630948,-87.627844,-87.648755,-87.65444666666667,-87.6602738295,-87.631929,-87.61861681938171,-87.62993716666666,-87.6925025594,-87.634266,-87.62783423066139,-87.653703,-87.65,-87.66098386,-87.64921248,-87.6554864,-87.700825,-87.648625,-87.626804,-87.648636,-87.6385057718,-87.63682901859283,-87.681391,-87.639904,-87.6385057718,-87.624615,-87.658971,-87.63908783333333,-87.634266,-87.634324,-87.6433534936,-87.625813,-87.638677,-87.67753,-87.6444478533,-87.631489635,-87.625961,-87.62414766666667,-87.64,-87.64828416666667,-87.619407,-87.594747,-87.671473,-87.655654,-87.64950513839722,-87.630834,-87.638742,-87.633502,-87.653818,-87.633124,-87.67722,-87.66794916666667,-87.635406,-87.631501,-87.71,-87.6444478533,-87.63193130493164,-87.63513616666667,-87.653449,-87.635185,-87.60145,-87.650001,-87.62408432,-87.642746,-87.73,-87.616743,-87.667429,-87.62408432,-87.62232,-87.64300033333333,-87.616743,-87.625125,-87.625813,-87.65478743,-87.654678,-87.662007,-87.64610566666667,-87.696027,-87.648128,-87.625813,-87.659172,-87.65478743,-87.648128,-87.65222,-87.6219152258,-87.652705,-87.63163,-87.649807,-87.63483,-87.63,-87.6295437729,-87.639904,-87.69,-87.65478743,-87.55,-87.659172,-87.71,-87.69,-87.6352725,-87.649807,-87.653818,-87.663913,-87.62783423066139,-87.63682901859283,-87.63547986745834,-87.66402,-87.65109833333334,-87.668745,-87.62377664,-87.646439,-87.634324,-87.64,-87.6,-87.626804,-87.67,-87.74,-87.637715,-87.599861,-87.64117,-87.618019,-87.63128,-87.65478743,-87.676842212677,-87.64950513839722,-87.69873,-87.64940383333334,-87.631697,-87.64867,-87.69,-87.638677,-87.70921916666667,-87.658617,-87.625125,-87.642884,-87.671257853508,-87.63582453131676,-87.64753633333333,-87.648128,-87.63547233333334,-87.641823,-87.6010727606,-87.66394,-87.64895,-87.644336,-87.631607,-87.652662,-87.6297910363,-87.649603,-87.69,-87.63483,-87.637536,-87.601334,-87.64895,-87.663576,-87.63,-87.70730416666666,-87.63445833333333,-87.62344266666666,-87.6475386582,-87.65464,-87.64645278453827,-87.64895,-87.71,-87.63128,-87.74,-87.668507,-87.71,-87.674237,-87.64645278453827,-87.63460983333333,-87.62373933333333,-87.631697,-87.63194283333333,-87.76,-87.650154,-87.647071,-87.668745,-87.638888,-87.62370716666666,-87.679258,-87.648384,-87.65966,-87.590368,-87.58,-87.621857,-87.6444478533,-87.667747,-87.66394,-87.64926,-87.62775116666667,-87.65840426,-87.634656,-87.594747,-87.644336,-87.631246,-87.65478743,-87.66098386,-87.62455,-87.67,-87.627690528,-87.62377664,-87.658865,-87.635406,-87.623981,-87.70797833333333,-87.625961,-87.699413,-87.64445133333334,-87.637536,-87.6295437729,-87.75,-87.641823,-87.64645278453827,-87.634266,-87.635491,-87.667252,-87.63639,-87.627728,-87.65,-87.639192,-87.64926,-87.65918433333333,-87.63483,-87.625813,-87.6355,-87.677335,-87.634261,-87.6537080423,-87.63,-87.69345045089722,-87.65230683333333,-87.583945009,-87.59,-87.65103,-87.649807,-87.64145816666667,-87.643118,-87.655519,-87.64337283333333,-87.653833,-87.63002616666667,-87.7018089555,-87.601414,-87.625125,-87.629318,-87.614492,-87.64895,-87.654678,-87.628722,-87.6355,-87.65,-87.648755,-87.6,-87.648128,-87.63089,-87.6297910363,-87.62351,-87.666611,-87.74,-87.689556,-87.65235566666667,-87.63483,-87.63193130493164,-87.626155496,-87.6219152258,-87.63850883333333,-87.63259916666667,-87.64098107814789,-87.641066,-87.646439,-87.62790883333334,-87.6,-87.636427,-87.64,-87.631697,-87.64402533333333,-87.71,-87.644231,-87.62279838323593,-87.669886,-87.636618,-87.666611,-87.649077,-87.633502,-87.629318,-87.668078184,-87.641823,-87.6302835,-87.62953133333333,-87.63,-87.65108883333333,-87.6153553902,-87.63443266666667,-87.65966,-87.58399866666667,-87.682437,-87.667429,-87.6241325,-87.638973,-87.6295209193,-87.636618,-87.674237,-87.63,-87.62,-87.64133616666666,-87.633502,-87.623041,-87.6523104689,-87.6356255,-87.64348983333333,-87.673935,-87.65304,-87.69,-87.63547986745834,-87.63639,-87.640795,-87.634324,-87.623981,-87.64867,-87.640552,-87.62058019638062,-87.65840426,-87.63462116666666,-87.625961,-87.648939,-87.64080616666666,-87.625961,-87.6537080423,-87.623041,-87.634362,-87.64891383333334,-87.6383985,-87.652662,-87.69,-87.64158816666666,-87.6548575,-87.6343585,-87.640552,-87.653833,-87.626761,-87.633879,-87.59,-87.658971,-87.657659,-87.65472416666667,-87.639192,-87.72,-87.63128,-87.64645278453827,-87.64414608478546,-87.671473,-87.6014497734,-87.63644583333334,-87.6175165471,-87.599861,-87.6330940425396,-87.63314516666667,-87.62585383333334,-87.5883151702,-87.653106,-87.6279725,-87.64877683333333,-87.63895266666667,-87.65702966666667,-87.6,-87.64895,-87.68366666666667,-87.672069,-87.63918866666667,-87.72,-87.656952,-87.63219,-87.689525,-87.64414,-87.65369933333334,-87.64403766666666,-87.64812516666667,-87.642746,-87.6537080423,-87.67847,-87.64664,-87.707322,-87.6259080327,-87.68617233333333,-87.64905433333334,-87.66395416666667,-87.6410879593,-87.63173216666667,-87.6511,-87.63,-87.61280516666666,-87.6511,-87.643118,-87.66812116666667,-87.653818,-87.630834,-87.75,-87.6,-87.6385057718,-87.67,-87.63,-87.63198366666667,-87.6554864,-87.663576,-87.6295209193,-87.774462,-87.6346,-87.66176383333334,-87.67842,-87.648636,-87.634594,-87.64317483333333,-87.64,-87.661206,-87.66805916666667,-87.6865960164,-87.654264,-87.6429854676,-87.64098107814789,-87.62797504663467,-87.634223,-87.6219152258,-87.625618935,-87.626804,-87.745359,-87.63498,-87.6362495,-87.623041,-87.66827866666667,-87.63466566666666,-87.64423916666667,-87.6464225,-87.66666466666666,-87.629374743,-87.63128,-87.639904,-87.643118,-87.6554864,-87.658617,-87.65,-87.63212433333334,-87.645451,-87.6246839761734,-87.667252,-87.74,-87.65432833333334,-87.69,-87.62377664,-87.72,-87.64414,-87.656625,-87.59,-87.64098107814789,-87.631929,-87.65304,-87.656952,-87.65,-87.669807,-87.64349783333333,-87.594747,-87.697668,-87.62279838323593,-87.705126462,-87.629912,-87.69,-87.625961,-87.658751,-87.67373085021973,-87.653818,-87.6246839761734,-87.6278125,-87.62408,-87.641066,-87.634656,-87.614492,-87.629634,-87.631246,-87.650001,-87.673688,-87.64926,-87.69,-87.5883151702,-87.63682901859283,-87.62279838323593,-87.63193130493164,-87.638888,-87.64883,-87.6259080327,-87.623727,-87.69,-87.59,-87.6429854676,-87.6610295,-87.64393466666667,-87.64895,-87.6677,-87.67,-87.620104,-87.625734,-87.64895,-87.621743,-87.672552,-87.63743233333334,-87.658865,-87.66377133333333,-87.6537080423,-87.72,-87.64848583333334,-87.6369415,-87.62408432,-87.66857,-87.631501,-87.666058,-87.66788116666666,-87.6355,-87.648128,-87.65843566666666,-87.6295437729,-87.619521,-87.6014497734,-87.63511466666667,-87.618034,-87.63836033333334,-87.62408432,-87.67,-87.65222,-87.62455,-87.623981,-87.62058019638062,-87.649494,-87.666036,-87.6353211408,-87.64535833333333,-87.626185,-87.646439,-87.6440978050232,-87.631942,-87.629318,-87.62993816666666,-87.63,-87.66402,-87.64895,-87.6677,-87.661406,-87.627690528,-87.625813,-87.658751,-87.69,-87.64414,-87.63651251792908,-87.621415,-87.65299033333334,-87.6680471047,-87.62763533333333,-87.6554864,-87.627754,-87.63311766666666,-87.6564555,-87.6228,-87.658139,-87.6823890209198,-87.73,-87.68,-87.62603,-87.636282,-87.64,-87.6832135,-87.6494125,-87.65,-87.591875,-87.63483,-87.63089,-87.7168892935,-87.6257955,-87.64,-87.71660766666666,-87.629912,-87.65238666666667,-87.64983333333333,-87.64926,-87.67766033333334,-87.667211056,-87.66,-87.616743,-87.636299968,-87.62857854366302,-87.654678,-87.649807,-87.667747,-87.659141,-87.66797466666667,-87.6014497734,-87.67315533333333,-87.64912383333333,-87.6440978050232,-87.648789,-87.638742,-87.63,-87.626217,-87.6319852213,-87.64799,-87.638437,-87.67780216666667,-87.62995166666667,-87.62611266666667,-87.72,-87.629912,-87.642746,-87.65006966666667,-87.6371355,-87.63613766666667,-87.63193130493164,-87.676169,-87.64437783333334,-87.64394760131836,-87.63953,-87.65428966666667,-87.626804,-87.65266209840775,-87.69,-87.61697495,-87.71022096276283,-87.6865960164,-87.685109,-87.697474,-87.673671,-87.694614758,-87.663576,-87.68,-87.624117,-87.61195983333333,-87.629912,-87.64828933333334,-87.66394,-87.6,-87.62797504663467,-87.6435,-87.632326,-87.6153553902,-87.67373085021973,-87.667173147,-87.653449,-87.65103,-87.6444478533,-87.664358,-87.71,-87.6743671152,-87.6347075,-87.612813,-87.641066,-87.713949,-87.634324,-87.6475386582,-87.641066,-87.63,-87.647071,-87.667252,-87.5883151702,-87.65893566666666,-87.639904,-87.69675083333334,-87.64414608478546,-87.66674637794495,-87.59,-87.666058,-87.6230495,-87.6966945,-87.66993016004562,-87.63,-87.622072,-87.62451216666666,-87.648755,-87.695439,-87.674237,-87.625961,-87.658617,-87.629912,-87.634324,-87.667747,-87.630926,-87.631501,-87.6537080423,-87.71,-87.634324,-87.6,-87.687275,-87.68834183333334,-87.62408432,-87.60109783333333,-87.6445705849,-87.66428066666667,-87.696704,-87.638181,-87.6600775,-87.63651251792908,-87.638888,-87.616743,-87.62773933333334,-87.6346,-87.62978783333334,-87.63844416666667,-87.61,-87.6465095,-87.62,-87.6246839761734,-87.6806661451,-87.65978516666667,-87.64926,-87.652855,-87.643118,-87.653833,-87.66673583333333,-87.677409,-87.662541,-87.631697,-87.63253,-87.65966,-87.658751,-87.63161833333334,-87.6440978050232,-87.65219666666667,-87.66098386,-87.65282966666666,-87.648043,-87.64049266666666,-87.677009,-87.67144433333333,-87.62361133333333,-87.62776266666667,-87.63128,-87.634362,-87.75,-87.623041,-87.645451,-87.64664,-87.705866,-87.6246839761734,-87.64904716666666,-87.64867,-87.67758266666667,-87.638677,-87.627844,-87.6014497734,-87.6291325,-87.668385,-87.6,-87.648625,-87.696027,-87.64645278453827,-87.67097,-87.63,-87.5864498959,-87.631929,-87.652855,-87.676169,-87.69618383333334,-87.634324,-87.62232,-87.59,-87.621743,-87.64414,-87.641823,-87.608218,-87.6445705849,-87.69,-87.679618,-87.641066,-87.6640435,-87.69,-87.636427,-87.634966,-87.674237,-87.6319852213,-87.63547986745834,-87.672069,-87.631501,-87.617854,-87.66857,-87.677856,-87.60143816666667,-87.686112808,-87.625734,-87.6256886059,-87.67937466666666,-87.63,-87.685838,-87.642884,-87.612813,-87.654264,-87.65304,-87.62,-87.62990783333333,-87.65,-87.632326,-87.64414,-87.6721955,-87.69783033333333,-87.639833,-87.638677,-87.663681,-87.638888,-87.62,-87.636282,-87.63566762208939,-87.663712,-87.638482,-87.6010727606,-87.62058019638062,-87.65704733333334,-87.63500033333334,-87.6554864,-87.64850016666666,-87.679618,-87.6385057718,-87.76,-87.74,-87.668385,-87.634656,-87.59,-87.627754,-87.6278985,-87.648043,-87.69,-87.614492,-87.63643,-87.66,-87.691213,-87.614492,-87.661501,-87.6246839761734,-87.74,-87.672552,-87.63186216666666,-87.61,-87.62793616666667,-87.652855,-87.67,-87.677335,-87.64946266666666,-87.65103,-87.71,-87.643909,-87.66593635082245,-87.6010727606,-87.61860466666667,-87.65,-87.63,-87.629318,-87.629318,-87.64264983333334,-87.635185,-87.62779483333334,-87.676169,-87.629318,-87.62351,-87.6764600747,-87.649807,-87.648636,-87.599861,-87.601334,-87.64,-87.67525433333333,-87.6687,-87.648789,-87.639833,-87.64117,-87.636618,-87.61861681938171,-87.655647,-87.64116133333333,-87.674237,-87.612196,-87.641066,-87.655519,-87.672552,-87.654678,-87.664053,-87.658139,-87.64648583333333,-87.636282,-87.612043,-87.68,-87.6602415,-87.66,-87.6175165471,-87.59,-87.658751,-87.6494219288,-87.620104,-87.68,-87.64301516666667,-87.65,-87.64100183333333,-87.694614758,-87.599861,-87.6,-87.682017,-87.648789,-87.6819795,-87.59,-87.6010727606,-87.64831083333334,-87.59,-87.6237955,-87.606582,-87.617854,-87.685854,-87.623041,-87.656936,-87.68410816666666,-87.625734,-87.62184633333334,-87.629318,-87.681432724,-87.639833,-87.677432,-87.63639,-87.6259080327,-87.681391,-87.69265919923781,-87.617854,-87.631501,-87.71,-87.64984783333334,-87.67493,-87.64,-87.63208816666666,-87.66412566666666,-87.681357,-87.63188991,-87.61752883333334,-87.627716,-87.629912,-87.664358,-87.627754,-87.634362,-87.65478743,-87.70940783333333,-87.6010315,-87.65103,-87.636282,-87.62351,-87.6246839761734,-87.6236265,-87.681391,-87.6308760584,-87.59,-87.6,-87.65131283333334,-87.624117,-87.650154,-87.673935,-87.65966,-87.6355,-87.73194366666667,-87.67749066666667,-87.6433534936,-87.638973,-87.6010727606,-87.654682,-87.672069,-87.6346,-87.59,-87.697153,-87.64407933333334,-87.634656,-87.645451,-87.648789,-87.6,-87.658865,-87.629912,-87.61861681938171,-87.64708733333333,-87.59,-87.6637476682663,-87.631942,-87.6556595,-87.6190545,-87.65218198299408,-87.64813866666667,-87.64645278453827,-87.641066,-87.625734,-87.673688,-87.6295437729,-87.62598616666666,-87.65400566666666,-87.62280333333334,-87.6493695,-87.6540612729,-87.6440978050232,-87.64776,-87.647071,-87.62279838323593,-87.6010727606,-87.62928083333334,-87.619407,-87.6194515,-87.676169,-87.652705,-87.6010727606,-87.6715132,-87.6713773393,-87.66913,-87.65,-87.69,-87.64771116666667,-87.6475386582,-87.637536,-87.667747,-87.6308760584,-87.6368305,-87.638566,-87.6637476682663,-87.64414,-87.620104,-87.6385057718,-87.68620183333333],\"marker\":{\"color\":\"#66c2e0\",\"opacity\":1},\"mode\":\"markers\",\"name\":\"member\",\"showlegend\":true,\"subplot\":\"mapbox\",\"type\":\"scattermapbox\"},{\"hovertemplate\":\"member_casual=casual\\u003cbr\\u003estart_lat=%{lat}\\u003cbr\\u003estart_lng=%{lon}\\u003cextra\\u003e\\u003c\\u002fextra\\u003e\",\"lat\":[41.86021983333333,41.892278,42.058255,41.88169,41.94371316666667,41.97334764047304,41.9366884494997,41.902973,41.95088866666666,41.89675,41.874754,41.94,41.7953315,41.890003666666665,41.74,41.948808,41.96706566666667,41.883779833333335,41.86611233333333,41.8854833079,41.918306,41.892137,41.884728,41.892278,41.932144,41.91,41.69,41.881032,41.90310233333334,41.883546333333335,41.911722,41.93,41.884241,41.89257,41.911722,41.978353,41.879472,41.88558883333334,41.89,41.802239166666666,41.932225,41.92654633333333,41.963982,41.9432675,41.907066,41.9716,41.87184,41.8810317,41.886875,41.936497,41.89084704062381,41.884576228,41.94343366666666,41.910631333333335,41.890762,41.883984,41.96,41.90311416666667,41.911974,41.892048,41.794853,41.872596,41.95,41.6519135,41.880958,41.838198,41.9367395,41.90962366666667,41.894503,41.88379016666666,41.886349,42.00797192287,41.93,41.89102331025185,41.853123833333335,41.68587705562333,41.903119,41.8810317,41.884678982069246,41.9288355,41.891072,41.90096,41.879434,41.9639045,41.85308455741279,41.867227,41.99,41.95078,41.9019855,41.891768,41.890762,41.87934437346,41.92961833333333,41.881319815,41.89102331025185,41.963982,42.048214,41.92,41.88338,41.960631,41.91,41.926277,41.8898725,41.94924933333333,41.8839840647265,41.88338,41.9256018819,41.75,41.880980666666666,41.878166,41.94,41.8810317,41.891795,41.867888,42.001161333333336,41.92,41.7886925,41.872773,41.961406,41.900363,41.88462483333333,41.92621066666667,41.909668,42.052939,41.82168,41.92,41.883073,41.903119,41.87651122881695,41.87947235235,41.88668866666666,41.94457666666667,41.918228,42.004583,41.87651122881695,41.94018,41.9183635,41.89691,41.9256018819,41.95078,41.8964095,41.868044,41.894722,41.954595,41.889906,41.794853,41.87934437346,41.802560666666665,41.8810317,41.886875,41.92,41.894722,41.953533166666666,41.87501,41.802406,41.8759326655,41.87651122881695,41.8810317,41.91844,41.93947775040509,41.890028,41.89637337,41.79951616666666,41.918306,41.89184737210993,41.891466,41.912133,41.91,41.892278,41.866095,41.949399,41.891466,41.841707,41.897391,41.89102331025185,41.954468,42.018901,41.936515,41.87184616666666,41.892278,41.880958,41.88462107257936,41.937582,41.886024,41.9716,41.896362458,41.9658595,41.922167,41.89776616666666,41.892278,41.926277,41.920024833333336,41.885837,41.88137,41.865312,41.876243,41.886554333333336,41.88205466666667,41.90096866666666,41.903266,41.911386,41.93132,41.884643,41.93588,41.949074,41.8854833079,41.87475783333333,41.93258963429789,41.928841166666665,41.7,41.878166,41.93,41.8810317,41.926277,41.90096039,41.892278,41.90797116666667,41.936266,41.912133,41.902828666666665,41.939354,41.856594,41.96325,41.94815,41.911722,41.93164816666667,41.834654,41.97,41.954245,41.93669633333333,41.902973,41.89433116666667,41.886875,41.92019556200566,41.97334764047304,41.93922666666667,41.90096039,41.93,41.867226,41.91213016666666,41.97,41.91,41.963982,41.92,41.903266,41.892278,41.922167,41.793242,41.902973,41.93314,41.95421833333333,41.82,41.8854833079,41.886875,41.94454,41.94,41.891578,41.8975745,41.8985866514,41.925858,41.912133,41.906724,41.939667666666665,41.89670066666667,41.940775,41.88461618962,41.867227,41.90096039,41.965221,42.0,41.928712,41.89691,41.907993,41.9070655,41.939626,41.93,41.89434513742426,41.890028,41.952827166666665,41.926277,41.94367,41.88283,41.896746973093805,41.9406,41.911722,41.874053,41.866095,41.892278,41.950687,41.925858,41.903107,41.880422,41.886875,41.766638,41.96909,41.8548255,41.926277,41.961507,41.886024,41.8776025,41.7932245,41.91849115368695,41.87272183333333,41.892278,41.867888,41.94,41.892278,41.81,41.851375,41.918191666666665,41.93588,41.939743,41.891795,41.880958,41.89477033333333,41.911386,41.907993,41.920047833333335,41.886024,41.876243,41.911722,41.891795,41.9779966544,41.87,41.872596,41.93,41.8776415962753,41.791478,41.936753333333336,41.91593933333333,41.889187,41.881032,41.884678982069246,41.929530666666665,41.894722,41.903222,41.918306,41.8810317,41.892278,41.895769,41.93,41.95,41.89,41.877462666666666,41.9171185,41.879255,41.872773,41.880958,41.793242,41.871737,41.83452988563,41.89686666666667,42.02,41.881032,41.895765,41.880958,41.907993,41.852619,41.940775,41.72161166666667,41.89233733333333,41.867226,41.856802,41.894503,41.89,41.795251,41.9117265,41.884241,41.932225,41.929567,41.92,41.94,41.88298416666667,41.93,41.93,41.9256018819,41.94367,41.866095,41.87207763285,41.90813216666667,41.906866,41.881032,42.058239,41.88318130597391,41.79,41.918216,41.892278,41.945529,41.913688,41.885498,41.90349783333333,41.90096039,41.88117483333333,41.8777079559,41.850084,41.91,41.867226,41.91266666666667,41.884241,41.894503,41.8945265,41.867226,41.88,41.925858,41.893940666666666,41.880958,41.8,41.894503,41.929465,41.9406,41.909668,41.94807466666666,41.877642,41.867227,41.94815,41.867888,42.009074,41.963004,41.907626,41.94,41.78509714636,41.88094733333333,41.9491855,41.929143,41.892278,41.9736175,41.89,41.872596,41.876535,41.95078,41.890028,41.925555333333335,41.892308,42.063598,41.892278,41.932588,41.94367916666667,41.79,41.925616,41.912133,41.8,41.92533,41.92,41.90230870122,41.880958,41.915614833333336,41.883429,41.907993,41.860384,41.883984,41.943739,41.87785,41.898969,41.93758231600629,41.94454,41.89965683333333,41.898969,41.956047833333336,41.89674483333334,41.89,41.96167,41.85308455741279,41.897095666666665,41.949399,41.8777079559,41.891072,41.89841768945,41.883668,41.9029385,41.90225633333333,41.795212,41.957081,41.89168566666667,41.70733633333333,41.940106,41.878166,41.89257,41.93669216666667,41.880317,41.895765,41.92587816666666,41.925905,41.88461618962,41.9407165,41.915716333333336,41.91402671273,41.932588,41.89,41.894722,41.943739,41.880958,41.91021,41.912592,41.74,41.93588,41.802562,41.88,41.94334,42.039742,41.966672,41.94947274088333,41.876511,41.884114,41.94,41.926277,42.01,41.95600355078549,41.84,41.92883,41.867888,41.89184737210993,41.802406,41.894007,41.882091,41.884728,41.909668,41.903222,41.89380805624359,41.90935916666667,41.90096039,41.913865,41.94947274088333,42.0,41.98,41.93758231600629,41.89221583333333,41.99,41.895748,41.917805,41.892278,41.911670666666666,41.88602082773,41.892278,41.90096039,41.9,41.79173933333333,41.920098333333335,41.896207833333335,41.93,41.9366884494997,41.9366884494997,41.89637337,41.93258963429789,41.92,41.95,41.9630445,41.87621766666667,41.92,41.936688,41.889906,41.903295166666666,41.94454,41.93251,41.89691,41.92958333333333,41.93943066666667,41.883984,41.89585566666667,41.8378,41.91843383333333,41.915689,42.06,41.96158783333333,41.915983,41.857861161,41.866095,41.880972,41.926756,41.8,41.87785,41.903266,41.943739,41.83453,41.880958,41.911773,41.86710183333334,41.903222,41.89637337,41.886976,41.92533,41.918216,41.852619,41.8793563587,41.907626,41.911722,41.961154,41.898969,41.949074,41.952833,41.904613,41.877978166666665,41.83127423549,41.95078,41.87779066666667,41.915983,41.91751339399,41.911722,41.8839840647265,41.882242,41.926277,41.965845,41.891466,41.78060094521422,41.90309066666666,41.877917,41.88918833333334,41.88,41.85008369347577,41.9393355,41.845687,41.8860105,41.886024,41.912133,42.050491,41.93,41.912133,41.906866,41.803038,41.967968,41.915689,41.93576216666666,41.919936,41.897448,41.892278,41.886976,41.91138883333333,41.90345,41.911386,41.8916935,41.917805,41.89576474564,41.885696,41.883984,41.842052,41.915689,41.90345,41.939743,41.893808,41.925905,41.86,41.97334764047304,41.929567,41.92154,41.943739,41.87812866666667,41.86726633333333,41.93,41.92556258,41.8810317,41.866095,41.940106,41.9184895,41.896747,41.880958,41.892278,41.89,41.94067316666667,41.892278,41.946176,41.925858,41.884114,41.961406,41.90096039,41.89691,41.89102331025185,41.92883483333333,41.909824,41.9226085,41.83920868403,41.876535,41.894722,41.892278,42.0208872805206,41.778881,41.892278,41.93758231600629,41.86722595682,41.886024,41.838556,41.8810317,41.898969,41.9364968219,41.882242,41.79,41.868632197,41.88790383333333,41.791478,41.919936,41.89,42.06,41.94454,41.89576474564,41.92,41.85308455741279,41.86722595682,41.948797,41.940775,41.882242,41.85015383333333,41.95078,41.87811890091227,41.89,41.94815,41.89772333333333,41.922167,41.895966,41.871737,41.8776415962753,41.94,41.892278,41.892278,41.94,42.004583,41.886835,41.911722,41.932588,41.92,41.93,41.950687,41.98,41.925905,41.91255916666667,41.948787333333335,41.94947274088333,41.866104666666665,41.90096039,41.892278,41.72,41.864059,41.915689,41.94339516666667,41.929520333333336,41.881892,42.048239333333335,41.93,41.94018,41.90129983333333,41.937602166666665,41.879255,41.87053683333333,41.867888,41.968812,41.93967233333333,41.891466,41.886024,41.872773,41.93,41.9093960065,41.884114,41.94,41.90096039,41.9376885,41.912133,41.915552,41.931931,41.98,41.879434,41.89766,41.89224883333333,41.911722,41.915983,41.925858,41.881319815,41.882134,41.92032433333333,41.903266,41.88634906269,41.95,41.929546,41.943739,41.94367,41.95,41.90345,41.917716166666665,41.870769,41.91857383333333,41.89,41.9093960065,41.88553483333333,41.903222,41.88949181977,41.89413533333333,41.877181,41.873925166666666,42.057044,41.9,41.876243,41.95434085219,41.932588,41.91455633333333,41.862378,41.896373,41.88863683333334,41.90096039,41.877708,41.891578,41.88447166666667,41.9659,41.890762,41.881892,41.926277,41.925570666666665,41.91,41.928712,41.872773,41.911974,41.88112383333333,41.88428583333334,41.94947274088333,41.904613,41.88188216666666,41.94815483333333,41.891466,41.91844,41.8762135,41.867096,41.8707155,41.896362458,41.932418,41.9366884494997,41.926277,41.926277,41.8,41.940106,41.89558933333333,41.890573,41.915689,41.92875183333334,41.894127833333336,41.876678987795,41.89177733333333,41.95280616666667,41.86722595682,41.94367,41.90313033333334,41.78794281287,41.885637,41.915983,41.8839840647265,41.92542016666667,41.902309,41.90068,41.892278,41.888054333333336,41.85764316666667,41.884069,41.99,41.80252516666667,41.96888883333333,41.890762,41.932225,41.96909,41.929465,41.9716,41.936083,41.89576474564,41.89223166666667,41.943403,41.95469,41.890762,41.932588,41.901217333333335,41.867227,41.881032,41.9093960065,41.75176116666667,41.979762,41.9490225,41.963982,41.911282666666665,41.93,41.945529,41.97,41.961071833333335,41.7,41.79949429373,41.892278,41.882242,41.71,41.921822,41.918216,41.838556,41.94,41.915689,41.8810317,41.90101416666667,41.867226,41.940106,41.912133,41.963982,41.874754,41.954383,41.867888,41.860384,41.929143,41.91751339399,41.89389783333333,41.89,41.885951,41.879356,41.935356166666665,41.886983,41.881892,41.94012933333333,41.8765351944122,41.891440333333335,41.928887,41.965845,41.891578,41.931248,41.917805,41.856268,41.8839840647265,41.92,41.93758231600629,41.89999183333333,41.929567,41.90068,41.929567,41.963982,41.880958,41.8,41.856594,41.903583833333336,41.79,41.943739,41.939743,41.921822,41.90096039,41.884069,41.91468,41.954383,41.89,41.95078,41.890762,41.886875,41.90985465216731,41.8541665,41.866095,41.94815,41.92077566666666,41.892278,41.940106,41.884504166666666,41.96167,41.935337,41.943403,41.92266983333333,41.867227,41.92266733333334,41.926277,41.932588,41.94454,41.86722595682,41.876511,41.91643342912655,41.89421316666667,41.94367,42.04826516666667,41.93311633333333,41.88993366666666,41.92,41.910522,41.91837733333333,41.85418424947,41.885576129,41.87222883333333,41.894345,41.85418424947,41.90096039,41.892184,41.931248,41.924561833333335,41.935733,41.928673333333336,41.884679,41.8810317,41.919936,41.898417,41.89417133333333,41.911722,41.888243,41.886875,41.95,41.949399,41.884069,41.867227,41.96909,41.919936,41.899181,41.925858,41.89,41.94815,41.94878283333333,41.918306,41.852619,41.922695,41.892278,41.912133,41.96,41.8810317,41.8863625,41.883165,41.949399,41.925407166666666,41.88602082773,41.954462166666666,41.926277,41.886976,41.92,41.87,41.9,41.791478,41.907066,41.911386,41.913865,41.9364968219,41.92393131136619,41.901315,41.77,41.8810317,41.92,41.961507,41.911386,41.79172820953,41.88917683258,41.9,41.9029035,41.950856,41.922695,41.891466,41.879255,41.86789666666667,41.87,41.93678466666667,41.9260765,41.925905,41.880958,41.89667216666667,41.867248,41.893992,41.961004,41.77,41.938412666666665,41.906724,41.895966,41.902973,41.92,41.891847,41.865312,41.9,41.9256018819,41.912133,41.884114,41.86719033333333,41.921822,41.8652845,41.91,41.97163333333334,41.920742,41.8810317,41.799568,41.907061166666665,41.856268,41.89576474564,41.918262166666665,41.93,41.8583706903062,41.915983,41.901315,41.86722595682,41.92403016666667,41.876243,41.891466,41.93,41.92,41.943403,41.89,41.892278,41.9716,41.90096039,41.895501,41.874754,41.90697,41.88632016666666,41.9079795,41.91014719,41.872187,41.87,41.90096039,41.91552,41.920771,41.881032,41.894556,41.9,41.870769,41.97994466666667,41.89576474564,41.94367,41.911722,41.925959,41.884576228,41.872596,41.876535,41.906876833333335,41.9137705,41.932225,41.911722,41.9,41.9214505,41.87832383333333,41.94,41.89084704062381,41.799568,41.90096039,41.853142,41.864059,41.897764,41.872596,41.85,41.93947775040509,41.931248,41.881319815,41.8922725,41.91552,41.87870916666667,41.880958,41.880958,41.93,41.91552,41.8,41.96,41.89637337,41.894877,41.894722,41.894722,41.92,41.95272583333333,41.9393595,41.917805,41.90096039,41.8750236280333,41.92398216666667,41.86718316666666,41.952833,41.880958,41.891466,41.894877,41.943700671,41.94,41.90096039,41.894556,41.836208,41.96,41.882091,41.945529,41.939743,41.952833,41.93,41.954245,41.918306,41.940775,41.906866,41.950942833333336,41.940106,41.90129066666667,41.894385166666666,41.9256018819,41.93,41.91,41.9,41.870769,41.889187,41.92533,41.877884,41.892278,41.9267559875,41.83848116666667,41.97567266666667,41.907993,41.881892,41.918306,41.890173,41.894722,41.915983,41.77,41.8854833079,41.88587533333333,41.877032,41.912616,41.71,41.865054,41.897517666666666,41.99,41.92533,41.86722595682,41.891072,41.94367,41.791478,41.902924,41.91,41.872180166666666,41.963982,41.9255295,41.898418,41.8810317,41.916433,41.877181,41.8810317,41.94947274088333,41.87224616666666,41.9,41.791803,41.915689,41.97,41.96588533333333,41.892278,41.912133,41.87784616666666,41.94454,41.881032,41.883668,41.90096,41.96,41.894722,41.891578,41.92,41.949399,41.931248,41.891967,41.9,41.779362,41.94906083333333,41.931248,41.925905,41.8793563587,41.926277,41.889906,41.9361635,41.7,41.884614,41.9009315,41.78,41.891466,41.911656666666666,41.90096039,41.883668,41.841707,41.85,41.937743,41.890762,41.911722,41.94947274088333,41.933128833333335,41.893956,41.92,41.71216410359803,41.89062033333333,41.881085396,41.87082633333333,41.8839840647265,41.96068016666667,41.892280666666665,41.967082833333336,41.9035755,41.890028,41.93132,41.880958,42.032562,41.891795,41.897448,41.932588,41.9,41.87,41.963982,41.9258385,41.87785,41.803023,41.84,41.926277,41.81,41.9,41.939398,41.926607,41.886024,41.92879766666667,41.892278,41.882242,41.93314,41.892278,41.892278,41.943678,41.895765,41.8515375,41.892278,41.963982,41.87464,41.943751,41.882134,41.902973,41.870769,41.90096,41.872596,41.95,41.90096039,41.892278,41.906724,41.93,41.918306,41.922167,41.856268,41.88,41.86,41.9,41.915689,41.90096039,41.91552,41.888243,41.8776415962753,41.909668,41.940775,41.928757833333336,41.881032,41.906724,41.93,41.935733,41.892278,41.867888,41.892294,41.95,41.94018,41.9840446107,41.867491,41.926288166666666,41.8,41.94367,41.867227,41.883882,41.918306,41.92174266666667,41.88169,41.867888,41.96154683333334,41.94,41.96108,41.8777079559,41.93314,41.91,41.87943409140013,41.894179666666666,41.9009685,41.89084704062381,41.911675333333335,41.890762,41.841707,41.87785,41.90096039,41.892278,41.92,41.892278,41.932225,41.9256018819,41.8810317,41.795212,41.91851433333333,41.96167,41.965883833333336,41.883668,41.87790866666667,41.92533,41.95,41.882687688,41.949074,41.939398,41.89228783333333,41.8,41.91,41.91468,41.87785,41.87,41.866095,41.894803882,41.881319815,41.851469,41.89,41.89380805624359,41.80274266666667,41.892278,41.87362766666666,41.94454,41.89102331025185,41.895548,41.932225,41.895969,41.954177,41.907655,41.943739,41.939743,41.867226,41.89434513742426,41.8,41.94018,41.925905,41.8765175,41.92154,41.894503,41.802562,41.925858,41.932588,41.87947235235,41.973815,41.931248,41.903222,41.945529,41.9364968219,41.880958,41.911722,41.88,41.94069566666667,41.74,41.954366666666665,41.88374016666667,41.90096039,41.94947274088333,41.94368816666667,41.876243,41.9105780349,41.880958,41.87943409140013,41.896362458,41.949473,41.89841768945,42.0208872805206,41.910535,41.931931,41.89084704062381,41.89637337,41.881319815,41.961508,41.921822,41.868563,41.886024,41.961077,41.87831661183069,41.87651122881695,41.949399,41.911722,41.950631666666666,41.89252866666666,41.898587,41.929546,41.897733333333335,41.77,41.886349,41.92154,41.89563166666667,41.89257,41.886976,41.90096039,41.860384,41.931335833333335,41.895765,41.90938283333333,41.83069611252,41.894877,41.78509714636,41.90938283333333,41.8759326655,41.91044,41.963004,41.958494,41.907066,41.907066,41.78509714636,41.83782016666667,41.92185033333333,41.876268,41.87474885079,41.78509714636,42.007972,41.926277,41.969517,41.884679,41.93651483333333,41.98,41.949074,41.82879201994,41.92,41.92,41.89550316666666,41.857611,41.940775,41.77,41.95078,41.9651825,41.89139683333333,41.932418,41.879255,41.803038,41.931248,41.83069611252,41.925633,41.96167,41.802370333333336,41.90096039,41.90286966666667,41.880317,41.89056716666666,41.883595,41.93132,41.91067516666666,41.89434513742426,41.94449866666667,41.87811890091227,41.9406,41.88917683258,41.9,41.920771,41.892278,41.911974,41.898203,41.9840446107,41.913688,41.936266,41.870769,41.884653666666665,41.89563366666667,41.872773,41.948797,41.91021,41.886976,41.9401155,41.795264,41.79933626261,41.912919,41.93,41.90230870122,41.929546,41.890573,41.87184,42.05046983333333,41.87,41.9,41.9,41.880958,41.93132,41.870257,41.939398,41.89666433333333,41.925858,41.939701166666666,41.889906,41.8839840647265,41.93,41.892278,41.92154,41.8941385,41.879255,41.87623233333333,41.93842879148,41.899181,41.880958,41.888243,41.896356833333336,41.90096,41.89225316666667,41.79,41.9947796884,41.9326385,41.89084704062381,41.8921515,41.8911055,41.93,41.884728,41.91789466666667,41.89,41.88,41.89,41.944439054,41.914717,41.906724,41.89936843921,41.9,41.883668,41.867888,41.929143,41.94454,41.89084704062381,41.898969,41.886835,41.913865,41.93758231600629,41.92593983333333,41.877245,41.838556,41.894666,41.89227316666667,41.89257,41.890573,41.931248,41.912133,41.96886533333333,41.90096,41.912133,41.903119,41.913865,41.94075683333333,41.874053,41.913865,41.926277,41.911722,41.867214,41.89257,42.01256,41.979762,41.78509714636,41.86702866666667,41.913875833333336,41.883984,41.915689,41.91844,41.86729033333334,41.900363,41.874053,41.90021949323,41.92025266666667,41.91270183333334,41.84,41.99478,41.881032,41.99,41.911386,41.95,41.917741,41.93,41.78,41.87,41.90096039,41.895748,41.928577,41.92,41.884069,41.87969733333333,41.91196433333333,41.876511,41.91,41.93258963429789,41.925905,41.867275,41.90325283333333,41.886875,42.05,41.99,41.884114,41.932418,41.870257,41.895634,41.886051,41.94947274088333,41.821621666666665,41.94,41.90096,41.864059,41.926277,41.913688,41.70535066666667,41.73732733333333,41.885714166666666,41.877181,41.975687666666666,41.78509714636,41.869265218438194,41.866095,41.89084704062381,41.912133,41.910535,41.8854833079,41.97491129677,41.89257,41.867226,41.81,41.870766333333336,41.9093995,41.9941855,41.8,41.925858,41.883668,41.87252216666667,41.79430062054,41.75,41.68,41.999243,41.91,41.894722,41.949074,41.9779966544,41.78,41.945268166666665,41.857556,41.923931,41.907066,41.880958,41.921525,42.058239,41.883668,41.89184737210993,41.978353,41.864059,41.93947775040509,41.838191,41.891466,41.868635833333336,41.94367,41.880422,41.9295785,41.994794,41.912616,41.90072683333333,41.870769,41.79185666666667,41.882242,41.882134,41.87184,41.889187,41.9,41.932418,41.983570666666665,41.838556,41.838198,41.886976,41.889906,41.886349,42.05,41.71229733333333,41.91552,41.92,41.84358,41.75,41.93,41.8758665,41.87934437346,41.79172820953,41.940106,41.920082,41.8884995,41.89257,41.91849115368695,41.940775,41.79496833333333,41.89450083333333,41.9267559875,41.895768833333335,41.9,41.87,41.93250866666666,41.94018,41.79430062054,41.98404411519213,41.903222,41.89640683333333,41.8,42.048214,41.885603333333336,41.961588,41.902893,41.9695335,41.949408,41.89257,41.93568666666667,41.89102331025185,41.89,41.903524,41.92591166666666,41.889191,41.86722595682,41.7,41.8810317,41.9364968219,41.867226,41.9,41.929143,41.88307916666667,41.968987,41.911722,41.925905,41.93,41.965221,41.882242,41.89084704062381,41.91384866666667,41.881032,41.89687416666666,41.87985666666667,41.954468,41.90985483333333,41.87,41.913865,41.91,41.957081,41.93,41.912133,41.929143,41.903119,41.965824,41.872773,41.98,41.93,41.76,41.838556,41.92463247165,41.903222,41.89257,41.898203,41.903222,41.890573,41.948039666666666,41.896362458,41.963982,41.88283,41.876511,41.926277,41.936083,41.9,41.932225,41.89691,41.9361656914064,41.878119,41.885837,41.963004,41.94454,41.882134,41.86722595682,41.88602082773,41.882134,41.902973,41.9364968219,41.85658333333333,41.91,41.94334,41.89206733333333,41.978353,41.856802,41.969517,41.96,41.97,41.92210883333333,41.8810317,41.882242,41.92947683333333,41.94,41.89143983333334,41.90345,41.90072933333333,41.89184737210993,41.92154,41.949399,41.89257,41.884678982069246,41.857611,41.90096039,41.9311595,41.9364968219,41.915983,41.89257,41.867888,41.910522,41.94815,41.9,41.92,41.93947775040509,41.94815,41.889187,41.925858,41.865312,41.891565666666665,41.895769,41.909668,41.867491,41.891466,41.92204083333333,41.8847302006,41.8818815,41.915689,41.93190196886,41.98,41.867227,41.869265218438194,41.896746973093805,41.753174,41.926756,41.88684383333333,41.9287725,41.969517,41.969517,41.929546,41.838556,42.058239,41.799568,41.91143633333333,41.89434513742426,41.926277,41.885451833333335,41.9366884494997,41.8810317,41.89434513742426,41.85249916666667,41.9947796884,41.92420933333333,41.8910855,41.885637,41.95358617895,41.90096039,41.929546,41.9436485,41.93,41.9121195,41.89691,41.892278,41.87785,41.91710803478932,41.793242,41.90249683333333,41.89084704062381,41.894345,41.9366884494997,41.911722,41.887068166666666,41.91177533333333,41.8810317,41.89184737210993,41.903146,41.89406283333334,41.79953833333333,41.895769,41.96,41.950687,41.884069,41.728264,41.98974251144,41.91468,41.911722,41.96523916666666,41.89112166666666,41.93768133333333,41.90669583333333,41.93117066666667,41.895966,41.89102331025185,41.94815,41.892278,41.9,41.93132,41.857813,41.92,41.918216,41.9,41.838556,41.95,41.9319115,41.8908375,41.884678982069246,41.8854833079,41.876678987795,41.90096039,41.891543166666665,41.952833,41.892278,41.8025795,41.857611,41.8839840647265,41.891264346481535,41.8649895,41.88190216666667,41.961004,41.879344,41.891578,41.914166,41.892278,41.82,41.926748833333335,42.032562,41.89402166666667,41.911722,41.93966533333333,41.92,41.88987066666667,41.809851,41.884678982069246,41.94,41.939354,41.93182133333333,41.895966,41.766638,41.79,41.892261,41.890573,41.87785,41.69,41.79949429373,41.8810317,41.963982,41.880958,42.058239,41.920771,41.96,41.902996,41.78,41.891847,41.886976,41.9093960065,41.92,41.870257,41.89675,41.912133,41.87687666666667,42.01,41.886875,41.893992,41.867888,41.940721333333336,41.896746973093805,41.88364983333334,41.95,41.95,41.834734,41.886875,41.929465,41.9182975,41.861196,41.92415066666667,41.869265,41.90068,41.909668,41.94,41.93,41.911722,41.897764,41.89246416666667,41.838556,41.89184737210993,41.915983,41.88454816666667,41.891847,41.736646,41.90288116666667,41.86722595682,41.89691,41.89257,41.89691,41.93,41.92393131136619,41.9716,41.97,41.949399,41.86717933333333,41.867900166666665,41.9947796884,41.98,41.77,41.961004,41.88693116666666,41.867227,41.9799165,41.93131733333333,41.93947775040509,41.97334764047304,41.82878383333333,41.891466,41.94077416666666,41.880958,41.903222,41.925905,41.857611,41.90230870122,41.90097883333333,41.898969,42.0637525,41.884084666666666,41.90772616666667,41.885637,41.912759,42.02,41.891466,41.9256018819,41.906724,41.884576228,41.87646433333333,41.907626,41.94454,41.93570566666666,42.048308,41.83,41.867258166666666,41.890573,41.92,41.893992,41.880317,41.97561480459,41.89084704062381,41.89380805624359,41.94,41.910522,41.854914666666666,41.94364916666667,41.85308455741279,41.874255,41.894666,41.9947796884,41.912616,41.892278,41.90096039,41.89257,41.936688,41.892278,42.03259633333333,41.945529,41.937776166666666,41.90783533333333,41.902973,41.857611,41.93646983333333,41.77,41.881892,41.903222,41.87,41.90967916666666,41.856268,41.94454,41.912133,41.884728,41.856268,41.89257,41.881032,41.886616486027656,41.893992,41.89,41.90096039,41.8,41.89219466666667,41.95,41.872773,41.94,41.91570083333333,41.915689,41.802406,41.92,41.88406333333333,41.81,41.880317,41.949399,41.867227,41.889423666666666,41.92393131136619,41.917741,41.885837,41.921528333333335,41.939743,41.94,41.952833,41.90330133333333,41.911722,41.939398,41.83820216666667,41.92883,41.9394095,41.896428,41.897764,41.89701983333333,41.975672,41.897764,41.940775,41.93,41.93,41.883668,41.91379783333333,41.95,41.93260033333333,41.910621166666665,41.90230870122,41.935365558,41.92,41.870612,41.91,41.91570633333333,41.89,41.89257,41.9406,41.915689,41.79933626261,41.963982,41.876268,41.92873516666667,41.9,41.9102035,41.75,41.872596,41.78,41.79172820953,41.897764,41.838198,41.89556933333333,41.932418,41.932418,41.86722595682,41.925858,41.889177,41.958494,41.857611,41.9366884494997,41.9947796884,41.96897083333333,41.889253,41.882242,41.899112333333335,41.926277,41.86722595682,41.94,41.89,41.94815,41.857901,41.900998,41.85,41.92154,41.896746973093805,41.892278,41.91552,41.864883,41.940775,41.9716,41.936688,41.93634316666667,41.9,41.9119695,41.88132,41.93258963429789,41.926277,41.89184737210993,41.89231783333334,41.90096039,41.87849116666667,41.93,41.90345,41.866095,41.920082,41.89102331025185,41.94007233333333,41.93,41.88461618962,41.984015166666666],\"legendgroup\":\"casual\",\"lon\":[-87.62597583333333,-87.612043,-87.677457,-87.63953,-87.66383733333333,-87.6678554713726,-87.63682901859283,-87.63128,-87.65916683333333,-87.63089,-87.649807,-87.66,-87.5963795,-87.63432383333334,-87.63,-87.6752645,-87.66745816666666,-87.62404683333334,-87.60740216666667,-87.6523048564,-87.636282,-87.61195866666667,-87.619521,-87.612043,-87.65284216666667,-87.66,-87.67,-87.624084,-87.6738505,-87.64853666666667,-87.626804,-87.64,-87.629634,-87.614492,-87.626804,-87.659753,-87.625689,-87.652331,-87.63,-87.61805933333333,-87.658617,-87.69782333333333,-87.638181,-87.67096566666666,-87.667252,-87.650154,-87.64664,-87.62408432,-87.62603,-87.647539,-87.61861681938171,-87.63188991,-87.6795865,-87.64940633333333,-87.631697,-87.624684,-87.64,-87.67389566666667,-87.631942,-87.689397,-87.618691,-87.633502,-87.69,-87.53961116666666,-87.616743,-87.645143,-87.63682966666667,-87.64810383333334,-87.617854,-87.62403016666667,-87.617517,-87.6655023944,-87.78,-87.63547986745834,-87.63187166666667,-87.57382392883301,-87.673935,-87.62408432,-87.62797504663467,-87.668508,-87.666611,-87.623777,-87.635504,-87.6381855,-87.63193130493164,-87.625961,-87.66,-87.659172,-87.6278345,-87.65887916666667,-87.631697,-87.6319852213,-87.64307833333334,-87.6295209193,-87.63547986745834,-87.638181,-87.683485,-87.7,-87.64117,-87.745359,-87.75,-87.630834,-87.6341895,-87.65448166666667,-87.6246839761734,-87.64117,-87.6537080423,-87.63,-87.62403833333333,-87.631929,-87.7,-87.62408432,-87.658751,-87.623041,-87.6612985,-87.63,-87.60123383333334,-87.623981,-87.676169,-87.696704,-87.64445116666667,-87.6311715,-87.648128,-87.673447,-87.6216,-87.63,-87.656952,-87.673935,-87.62054800987242,-87.6256886059,-87.62618,-87.6547965,-87.65680983333333,-87.661406,-87.62054800987242,-87.65304,-87.63641283333334,-87.621743,-87.6537080423,-87.659172,-87.66104033333333,-87.623008,-87.634362,-87.67378983333333,-87.634266,-87.618691,-87.6319852213,-87.590225,-87.62408432,-87.62603,-87.65,-87.634362,-87.732034,-87.67328,-87.586924,-87.6305845355,-87.62054800987242,-87.62408432,-87.65222,-87.6637476682663,-87.636618,-87.66098386,-87.6009945,-87.636282,-87.62058019638062,-87.626761,-87.634656,-87.68,-87.612043,-87.607267,-87.654529,-87.626761,-87.626938,-87.62877016666667,-87.63547986745834,-87.749594,-87.690048,-87.64748616666667,-87.64665316666667,-87.612043,-87.616743,-87.62783423066139,-87.644098,-87.624117,-87.650154,-87.6540612729,-87.70084033333333,-87.638888,-87.64332166666667,-87.612043,-87.630834,-87.6488505,-87.6355,-87.67493,-87.617867,-87.624426,-87.65845333333333,-87.63961583333334,-87.62378366666667,-87.678435,-87.638677,-87.638742,-87.64421966666667,-87.67842,-87.648636,-87.6523048564,-87.64983733333334,-87.66593635082245,-87.66392666666667,-87.6,-87.631929,-87.66,-87.62408432,-87.630834,-87.62377664,-87.612043,-87.63160116666667,-87.652662,-87.634656,-87.63459266666666,-87.683282,-87.627542,-87.679258,-87.66394,-87.626804,-87.64442033333333,-87.641231,-87.67,-87.654406,-87.63682816666666,-87.63128,-87.62280216666667,-87.62603,-87.69265919923781,-87.6678554713726,-87.66833666666666,-87.62377664,-87.71,-87.615355,-87.63500683333334,-87.64,-87.69,-87.638181,-87.66,-87.678435,-87.612043,-87.638888,-87.587782,-87.63128,-87.64776,-87.65444066666667,-87.63,-87.6523048564,-87.62603,-87.654678,-87.64,-87.648384,-87.643238,-87.6219152258,-87.638973,-87.634656,-87.63483,-87.65887983333333,-87.63090583333333,-87.639192,-87.6445705849,-87.625961,-87.62377664,-87.658139,-87.67,-87.653833,-87.621743,-87.631501,-87.66728583333334,-87.658813,-87.69,-87.62279838323593,-87.636618,-87.65012783333333,-87.630834,-87.64895,-87.661206,-87.63566762208939,-87.6785,-87.626804,-87.627716,-87.607267,-87.612043,-87.6687,-87.638973,-87.67375733333333,-87.642746,-87.62603,-87.57645,-87.674237,-87.66369116666667,-87.630834,-87.671387,-87.624117,-87.6739,-87.58782966666666,-87.69742280244827,-87.6239795,-87.612043,-87.623041,-87.8,-87.612043,-87.6,-87.618835,-87.64381116666667,-87.67842,-87.658865,-87.658751,-87.616743,-87.63445683333333,-87.638677,-87.631501,-87.67793183333333,-87.624117,-87.624426,-87.626804,-87.658751,-87.6680471047,-87.64,-87.633502,-87.67,-87.64961779117584,-87.599861,-87.636814,-87.67719883333334,-87.627754,-87.624084,-87.62797504663467,-87.6431165,-87.634362,-87.634324,-87.636282,-87.62408432,-87.612043,-87.67722,-87.65,-87.78,-87.61,-87.62803966666667,-87.710287,-87.639904,-87.623981,-87.616743,-87.587782,-87.65103,-87.6318229814,-87.63579016666667,-87.7,-87.624084,-87.625908,-87.616743,-87.631501,-87.626488,-87.639192,-87.622838,-87.612319,-87.615355,-87.633879,-87.617854,-87.63,-87.58078766666667,-87.62679533333333,-87.629634,-87.658617,-87.707857,-87.71,-87.64,-87.65116383333333,-87.71,-87.65,-87.6537080423,-87.64895,-87.607267,-87.6295437729,-87.63151766666667,-87.626217,-87.624084,-87.677432,-87.64872461557388,-87.63,-87.656936,-87.612043,-87.646439,-87.652855,-87.65224066666667,-87.6433145,-87.62377664,-87.623973,-87.6353211408,-87.632141,-87.68,-87.615355,-87.6814465,-87.629634,-87.617854,-87.65344466666667,-87.615355,-87.66,-87.638973,-87.6417645,-87.616743,-87.59,-87.617854,-87.684158,-87.6785,-87.648128,-87.66408283333334,-87.649618,-87.625961,-87.66394,-87.623041,-87.67419,-87.684781,-87.638566,-87.66,-87.6010727606,-87.61678783333333,-87.65449216666667,-87.649077,-87.612043,-87.65995483333333,-87.64,-87.633502,-87.620473,-87.659172,-87.636618,-87.6537315,-87.61210516666667,-87.69873,-87.612043,-87.636427,-87.6640635,-87.59,-87.65858083333333,-87.634656,-87.68,-87.6658,-87.72,-87.627690528,-87.616743,-87.68699866666667,-87.6413975,-87.631501,-87.625813,-87.624684,-87.66402,-87.62408,-87.629912,-87.6440978050232,-87.654678,-87.668378,-87.629912,-87.66889466666666,-87.630756,-87.66,-87.65464,-87.63193130493164,-87.621747,-87.654529,-87.6353211408,-87.666611,-87.6865960164,-87.64867,-87.63174616666667,-87.62788666666667,-87.580715,-87.664199,-87.621186,-87.60764166666667,-87.645451,-87.631929,-87.614492,-87.63680933333333,-87.635185,-87.625908,-87.6492125,-87.64926,-87.6445705849,-87.63915516666667,-87.634651,-87.705126462,-87.636427,-87.65,-87.634362,-87.66402,-87.616743,-87.6435,-87.68134866666666,-87.58,-87.67842,-87.590368,-87.62,-87.67097,-87.699413,-87.70810916666667,-87.64645278453827,-87.620548,-87.654264,-87.66,-87.630834,-87.7,-87.68016144633293,-87.61,-87.668507,-87.623041,-87.62058019638062,-87.586924,-87.6418305,-87.639833,-87.619521,-87.648128,-87.634324,-87.64169722795485,-87.677661,-87.62377664,-87.648755,-87.64645278453827,-87.71,-87.69,-87.6440978050232,-87.61196166666667,-87.71,-87.620104,-87.682437,-87.612043,-87.62667966666666,-87.6308760584,-87.612043,-87.62377664,-87.72,-87.58397383333333,-87.64887833333333,-87.62367566666667,-87.65,-87.63682901859283,-87.63682901859283,-87.66098386,-87.66593635082245,-87.63,-87.67,-87.68489116666667,-87.624484,-87.67,-87.636829,-87.634266,-87.67854566666666,-87.654678,-87.6364555,-87.621743,-87.64335466666667,-87.668232,-87.624684,-87.62049033333334,-87.65114,-87.65215866666666,-87.6346,-87.71,-87.65461266666667,-87.677335,-87.66866672,-87.607267,-87.61674933333333,-87.634429,-87.6,-87.62408,-87.678435,-87.66402,-87.631823,-87.616743,-87.62676266666666,-87.6410045,-87.634324,-87.66098386,-87.612813,-87.6658,-87.656936,-87.626488,-87.6297910363,-87.638566,-87.626804,-87.716569,-87.629912,-87.648636,-87.649993,-87.640552,-87.63198416666667,-87.6087991946,-87.659172,-87.65479266666667,-87.677335,-87.7018089555,-87.626804,-87.6246839761734,-87.641066,-87.630834,-87.645361,-87.626761,-87.60583609342575,-87.6737575,-87.735737,-87.63856916666667,-87.65,-87.6321405172348,-87.663757,-87.622481,-87.62425816666666,-87.624117,-87.634656,-87.677821,-87.71,-87.634656,-87.626217,-87.606615,-87.650001,-87.6346,-87.66344083333334,-87.64883,-87.628722,-87.612043,-87.612813,-87.63862383333333,-87.667747,-87.638677,-87.648112,-87.682437,-87.6259080327,-87.62471116666667,-87.624684,-87.617,-87.6346,-87.667747,-87.658865,-87.641697,-87.64926,-87.61,-87.6678554713726,-87.707857,-87.653818,-87.66402,-87.63203266666666,-87.6154385,-87.7,-87.65840426,-87.62408432,-87.607267,-87.645451,-87.65214033333334,-87.635668,-87.616743,-87.612043,-87.65,-87.63916233333333,-87.612043,-87.673308,-87.638973,-87.654264,-87.676169,-87.62377664,-87.621743,-87.63547986745834,-87.66380716666667,-87.70535383333333,-87.6971945,-87.6656098589,-87.620473,-87.634362,-87.612043,-87.66505792737007,-87.586647,-87.612043,-87.6440978050232,-87.6153553902,-87.624117,-87.608218,-87.62408432,-87.629912,-87.6475386582,-87.641066,-87.6,-87.686260462,-87.63666716666667,-87.599861,-87.64883,-87.62,-87.68,-87.654678,-87.6259080327,-87.71,-87.63193130493164,-87.6153553902,-87.675278,-87.639192,-87.641066,-87.63220183333334,-87.659172,-87.64394760131836,-87.63,-87.66394,-87.62167516666666,-87.638888,-87.667747,-87.65103,-87.64961779117584,-87.64,-87.612043,-87.612043,-87.78,-87.68059416666667,-87.62232,-87.626804,-87.636427,-87.71,-87.66,-87.6687,-87.67,-87.64926,-87.6813945,-87.67523266666667,-87.64645278453827,-87.60738066666667,-87.62377664,-87.612043,-87.63,-87.623727,-87.6346,-87.670891,-87.707844,-87.648789,-87.6834335,-87.71,-87.65304,-87.6773895,-87.64410866666667,-87.639904,-87.62570833333334,-87.623041,-87.657659,-87.65883683333334,-87.626761,-87.624117,-87.623981,-87.73,-87.6776919292,-87.654264,-87.72,-87.62377664,-87.64414766666667,-87.634656,-87.6869975,-87.677856,-87.66,-87.635504,-87.62351,-87.61200983333333,-87.626804,-87.677335,-87.638973,-87.6295209193,-87.625125,-87.6926135,-87.678435,-87.6175165471,-87.66,-87.643118,-87.66402,-87.64895,-87.66,-87.667747,-87.69157816666667,-87.625734,-87.697478,-87.63,-87.6776919292,-87.65231466666667,-87.634324,-87.6882193648,-87.61837883333334,-87.627844,-87.62749933333333,-87.686554,-87.67,-87.624426,-87.6860796243,-87.636427,-87.66795283333333,-87.651062,-87.660984,-87.6444,-87.62377664,-87.635321,-87.648384,-87.69632316666667,-87.693638,-87.631697,-87.648789,-87.630834,-87.6536565,-87.65,-87.653833,-87.623981,-87.631942,-87.62408016666667,-87.61951116666667,-87.64645278453827,-87.640552,-87.64872733333333,-87.66394616666666,-87.626761,-87.65222,-87.62919783333334,-87.64109916666666,-87.62571366666667,-87.6540612729,-87.652705,-87.63682901859283,-87.630834,-87.630834,-87.6,-87.645451,-87.67212466666666,-87.622072,-87.6346,-87.6538095,-87.6225875,-87.64414608478546,-87.620477,-87.650003,-87.6153553902,-87.64895,-87.63468683333333,-87.5883151702,-87.641823,-87.677335,-87.6246839761734,-87.6658315,-87.627691,-87.6626,-87.612043,-87.63688416666666,-87.6194495,-87.656853,-87.66,-87.59030583333333,-87.6840115,-87.631697,-87.658617,-87.674237,-87.684158,-87.650154,-87.669807,-87.6259080327,-87.61185433333333,-87.679618,-87.67393,-87.631697,-87.636427,-87.62382783333334,-87.625961,-87.624084,-87.6776919292,-87.55284983333334,-87.67753,-87.64864233333333,-87.638181,-87.6387115,-87.7,-87.646439,-87.71,-87.64953333333334,-87.62,-87.5864498959,-87.612043,-87.641066,-87.67,-87.64414,-87.656936,-87.608218,-87.82,-87.6346,-87.62408432,-87.623802,-87.615355,-87.645451,-87.634656,-87.638181,-87.649807,-87.648043,-87.623041,-87.625813,-87.649077,-87.7018089555,-87.6222455,-87.63,-87.677009,-87.629791,-87.71683833333333,-87.61280333333333,-87.648789,-87.65303533333334,-87.62047290802002,-87.62673316666667,-87.658971,-87.645361,-87.648384,-87.644336,-87.682437,-87.613348,-87.6246839761734,-87.75,-87.6440978050232,-87.63442366666666,-87.707857,-87.6626,-87.707857,-87.638181,-87.616743,-87.59,-87.627542,-87.64335766666667,-87.59,-87.66402,-87.658865,-87.64414,-87.62377664,-87.656853,-87.64332,-87.648043,-87.77,-87.659172,-87.631697,-87.62603,-87.66993016004562,-87.61927366666667,-87.607267,-87.66394,-87.66371466666666,-87.612043,-87.645451,-87.644531,-87.65464,-87.716889,-87.679618,-87.69706766666667,-87.625961,-87.6971335,-87.630834,-87.636427,-87.654678,-87.6153553902,-87.620548,-87.66674637794495,-87.618581,-87.64895,-87.6835035,-87.64781133333334,-87.63415083333334,-87.78,-87.653106,-87.63628883333334,-87.6191537415,-87.641721368,-87.6295765,-87.622798,-87.6191537415,-87.62377664,-87.61191616666666,-87.644336,-87.727864,-87.663576,-87.65379066666667,-87.627975,-87.62408432,-87.64883,-87.686487,-87.62921483333334,-87.626804,-87.63639,-87.62603,-87.72,-87.654529,-87.656853,-87.625961,-87.674237,-87.64883,-87.6722,-87.638973,-87.61,-87.66394,-87.675289,-87.636282,-87.626488,-87.697153,-87.612043,-87.634656,-87.67,-87.62408432,-87.63095683333333,-87.6511,-87.654529,-87.66582316666667,-87.6308760584,-87.64812683333334,-87.630834,-87.612813,-87.65,-87.65,-87.7,-87.599861,-87.667252,-87.638677,-87.648755,-87.6475386582,-87.63582453131676,-87.677409,-87.64,-87.62408432,-87.7,-87.671387,-87.638677,-87.583945009,-87.6385057718,-87.69,-87.68748366666667,-87.65922366666666,-87.697153,-87.626761,-87.639904,-87.62304783333333,-87.65,-87.63685216666667,-87.63887233333334,-87.64926,-87.616743,-87.63094316666667,-87.61545416666667,-87.629318,-87.649603,-87.63,-87.69800833333333,-87.63483,-87.667747,-87.63128,-87.64,-87.62058,-87.617867,-87.69,-87.6537080423,-87.634656,-87.654264,-87.62599083333333,-87.64414,-87.61829366666667,-87.62,-87.6501475,-87.66363966666667,-87.62408432,-87.594747,-87.66720583333333,-87.613348,-87.6259080327,-87.63637266666667,-87.76,-87.64638841152191,-87.677335,-87.677409,-87.6153553902,-87.676431,-87.624426,-87.626761,-87.71,-87.63,-87.679618,-87.62,-87.612043,-87.650154,-87.62377664,-87.682017,-87.649807,-87.62629833333334,-87.61776666666667,-87.631481,-87.682285547,-87.661501,-87.62,-87.62377664,-87.687022,-87.663712,-87.624084,-87.653449,-87.71,-87.625734,-87.68195966666667,-87.6259080327,-87.64895,-87.626804,-87.64936016666667,-87.63188991,-87.633502,-87.620473,-87.62600183333333,-87.64873833333333,-87.658617,-87.626804,-87.67,-87.70732833333334,-87.6415375,-87.65,-87.61861681938171,-87.594747,-87.62377664,-87.63184233333334,-87.623727,-87.642884,-87.633502,-87.62,-87.6637476682663,-87.644336,-87.6295209193,-87.61209983333333,-87.687022,-87.63524283333334,-87.616743,-87.616743,-87.73,-87.687022,-87.59,-87.69,-87.66098386,-87.632326,-87.634362,-87.634362,-87.72,-87.6500165,-87.68318916666666,-87.682437,-87.62377664,-87.6330940425396,-87.63584333333333,-87.62601666666667,-87.649993,-87.616743,-87.626761,-87.632326,-87.66408515,-87.69,-87.62377664,-87.653449,-87.613533,-87.75,-87.639833,-87.646439,-87.658865,-87.649993,-87.74,-87.654406,-87.636282,-87.639192,-87.626217,-87.65923,-87.645451,-87.6234505,-87.62254116666666,-87.6537080423,-87.72,-87.66,-87.68,-87.625734,-87.627754,-87.6658,-87.63147516666666,-87.612043,-87.6344287848,-87.60827483333334,-87.67947166666667,-87.631501,-87.648789,-87.636282,-87.626185,-87.634362,-87.677335,-87.58,-87.6523048564,-87.631111,-87.63903383333333,-87.681391,-87.54,-87.656959,-87.62876316666667,-87.65,-87.6658,-87.6153553902,-87.666611,-87.64895,-87.599861,-87.637715,-87.62,-87.62954016666667,-87.638181,-87.653695,-87.686596,-87.62408432,-87.666746,-87.627844,-87.62408432,-87.64645278453827,-87.62982516666666,-87.62,-87.58396583333334,-87.6346,-87.68,-87.69380116666666,-87.612043,-87.634656,-87.62398683333333,-87.654678,-87.624084,-87.64867,-87.623777,-87.7,-87.634362,-87.648384,-87.63,-87.654529,-87.644336,-87.62112316666666,-87.68,-87.64479,-87.64855233333333,-87.644336,-87.64926,-87.6297910363,-87.630834,-87.634266,-87.6515415,-87.6,-87.644486,-87.62375033333333,-87.6,-87.626761,-87.62673766666667,-87.62377664,-87.64867,-87.626938,-87.63,-87.64406266666667,-87.631697,-87.626804,-87.64645278453827,-87.64782283333334,-87.641669,-87.72,-87.66773343086243,-87.618155,-87.624052525,-87.63108866666667,-87.6246839761734,-87.74547833333334,-87.6122895,-87.66756366666667,-87.6433145,-87.636618,-87.638742,-87.616743,-87.679101,-87.658751,-87.628722,-87.636427,-87.63,-87.62,-87.638181,-87.63901933333334,-87.62408,-87.664699,-87.73,-87.630834,-87.7,-87.75,-87.711561,-87.69776016666667,-87.624117,-87.66387016666667,-87.612043,-87.641066,-87.64776,-87.612043,-87.612043,-87.64894283333334,-87.625908,-87.61891583333333,-87.612043,-87.638181,-87.65703,-87.64884083333334,-87.625125,-87.63128,-87.625734,-87.623777,-87.633502,-87.65,-87.62377664,-87.612043,-87.63483,-87.7,-87.636282,-87.638888,-87.613348,-87.63,-87.72,-87.62,-87.6346,-87.62377664,-87.687022,-87.63639,-87.64961779117584,-87.648128,-87.639192,-87.6638395,-87.624084,-87.63483,-87.64,-87.663576,-87.612043,-87.623041,-87.6121005,-87.66,-87.65304,-87.6602738295,-87.63219,-87.63093516666666,-87.65,-87.64895,-87.625961,-87.62468316666667,-87.636282,-87.6538065,-87.63953,-87.623041,-87.69117283333334,-87.63,-87.73569,-87.6353211408,-87.64776,-87.63,-87.63550400733948,-87.62269483333333,-87.62378283333334,-87.61861681938171,-87.62678866666667,-87.631697,-87.626938,-87.62408,-87.62377664,-87.612043,-87.76,-87.612043,-87.658617,-87.6537080423,-87.62408432,-87.580715,-87.6974325,-87.65464,-87.70086,-87.64867,-87.662044,-87.6658,-87.67,-87.632533193,-87.648636,-87.711561,-87.61208666666667,-87.58,-87.68,-87.64332,-87.62408,-87.63,-87.607267,-87.634561896,-87.6295209193,-87.6188205,-87.63,-87.64169722795485,-87.58694833333334,-87.612043,-87.704896,-87.654678,-87.63547986745834,-87.67710483333333,-87.658617,-87.667735,-87.664358,-87.672552,-87.66402,-87.658865,-87.615355,-87.62279838323593,-87.63,-87.65304,-87.64926,-87.62036633333334,-87.653818,-87.617854,-87.590368,-87.638973,-87.636427,-87.6256886059,-87.65966,-87.644336,-87.634324,-87.646439,-87.6475386582,-87.616743,-87.626804,-87.63,-87.63913983333333,-87.58,-87.64807983333333,-87.62452816666666,-87.62377664,-87.64645278453827,-87.64887866666666,-87.624426,-87.6494219288,-87.616743,-87.63550400733948,-87.6540612729,-87.646453,-87.6865960164,-87.66505792737007,-87.689556,-87.677856,-87.61861681938171,-87.66098386,-87.6295209193,-87.65459366666667,-87.64414,-87.686234,-87.624117,-87.72895333333334,-87.64098107814789,-87.62054800987242,-87.654529,-87.626804,-87.66867133333334,-87.61444283333333,-87.621915,-87.643118,-87.6288845,-87.61,-87.617517,-87.653818,-87.677077,-87.614492,-87.612813,-87.62377664,-87.625813,-87.64425116666666,-87.625908,-87.67759183333334,-87.6559759116,-87.632326,-87.6010727606,-87.6777695,-87.6305845355,-87.6972,-87.684781,-87.654966,-87.667252,-87.667252,-87.6010727606,-87.65113016666666,-87.64401133333334,-87.629155,-87.6864452757,-87.6010727606,-87.665502,-87.630834,-87.654691,-87.627975,-87.64754116666667,-87.65,-87.648636,-87.6806044594,-87.65,-87.65,-87.6266145,-87.619407,-87.639192,-87.62,-87.659172,-87.65832433333334,-87.67690633333333,-87.652705,-87.639904,-87.606615,-87.644336,-87.6559759116,-87.65842,-87.65464,-87.58689316666667,-87.62377664,-87.634533,-87.635185,-87.62207483333333,-87.6483485,-87.638742,-87.6532075,-87.62279838323593,-87.65473866666666,-87.64394760131836,-87.6785,-87.6385057718,-87.66,-87.663712,-87.612043,-87.631942,-87.637536,-87.6602738295,-87.652855,-87.652662,-87.625734,-87.63091433333334,-87.672058,-87.623981,-87.675278,-87.6435,-87.612813,-87.645551,-87.596471,-87.6009581145,-87.664169,-87.74,-87.627690528,-87.643118,-87.622072,-87.64664,-87.67774933333334,-87.73,-87.62,-87.62,-87.616743,-87.638742,-87.639474,-87.711561,-87.623424,-87.638973,-87.65889216666666,-87.634266,-87.6246839761734,-87.67,-87.612043,-87.653818,-87.62940683333333,-87.639904,-87.62944916666666,-87.698007756,-87.6722,-87.616743,-87.63639,-87.66098716666667,-87.623777,-87.611981,-87.58,-87.6602845349,-87.6364095,-87.61861681938171,-87.61197316666667,-87.66668033333333,-87.71,-87.619521,-87.68259433333333,-87.61,-87.71,-87.62,-87.654752851,-87.64341033333334,-87.63483,-87.6484798752,-87.64,-87.64867,-87.623041,-87.649077,-87.654678,-87.61861681938171,-87.629912,-87.62232,-87.648755,-87.6440978050232,-87.64924566666667,-87.639366,-87.608218,-87.638437,-87.61203933333333,-87.614492,-87.622072,-87.644336,-87.634656,-87.657612,-87.623777,-87.634656,-87.673935,-87.648755,-87.6392215,-87.627716,-87.648755,-87.630834,-87.626804,-87.61539716666667,-87.614492,-87.674367,-87.67753,-87.6010727606,-87.64102566666666,-87.6489325,-87.624684,-87.6346,-87.65222,-87.6154165,-87.696704,-87.627716,-87.6429854676,-87.69262966666666,-87.681439,-87.71,-87.660285,-87.624084,-87.65,-87.638677,-87.72,-87.691392,-87.65,-87.6,-87.63,-87.62377664,-87.620104,-87.65378333333334,-87.66,-87.656853,-87.631906,-87.63492766666667,-87.620548,-87.63,-87.66593635082245,-87.64926,-87.61548733333333,-87.67849616666666,-87.62603,-87.68,-87.65,-87.654264,-87.652705,-87.639474,-87.672069,-87.6309565,-87.64645278453827,-87.621416,-87.64,-87.623777,-87.623727,-87.630834,-87.652855,-87.62888166666667,-87.54850666666667,-87.63558833333333,-87.627844,-87.70140633333334,-87.6010727606,-87.67373085021973,-87.607267,-87.61861681938171,-87.634656,-87.689556,-87.6523048564,-87.6925025594,-87.614492,-87.615355,-87.59,-87.625786,-87.6776635,-87.68951116666666,-87.59,-87.638973,-87.64867,-87.63383633333333,-87.6014497734,-87.62,-87.66,-87.67140966666666,-87.69,-87.634362,-87.648636,-87.6680471047,-87.68,-87.706643,-87.661535,-87.635825,-87.667252,-87.616743,-87.707322,-87.677432,-87.64867,-87.62058019638062,-87.659753,-87.623727,-87.6637476682663,-87.6450875,-87.626761,-87.68625833333333,-87.64895,-87.642746,-87.64314516666667,-87.66022633333333,-87.681391,-87.6625425,-87.625734,-87.58394766666666,-87.641066,-87.625125,-87.64664,-87.627754,-87.64,-87.652705,-87.66924683333333,-87.608218,-87.645143,-87.612813,-87.634266,-87.617517,-87.68,-87.66769616666667,-87.687022,-87.7,-87.645368,-87.61,-87.7,-87.64074833333333,-87.6319852213,-87.583945009,-87.645451,-87.677855,-87.64443133333333,-87.614492,-87.69742280244827,-87.639192,-87.63309583333333,-87.653388,-87.6344287848,-87.6261045,-87.7,-87.61,-87.63640516666666,-87.65304,-87.6014497734,-87.65228122472763,-87.634324,-87.66101316666666,-87.59,-87.683485,-87.62465266666666,-87.666036,-87.687275,-87.65471266666667,-87.64661766666667,-87.614492,-87.66353883333333,-87.63547986745834,-87.77,-87.6433055,-87.64926616666666,-87.62756266666666,-87.6153553902,-87.6,-87.62408432,-87.6475386582,-87.615355,-87.63,-87.649077,-87.6371995,-87.696027,-87.626804,-87.64926,-87.7,-87.658139,-87.641066,-87.61861681938171,-87.64879566666667,-87.624084,-87.6357615,-87.68609466666666,-87.749594,-87.70539416666666,-87.62,-87.648755,-87.7,-87.664199,-87.71,-87.634656,-87.649077,-87.673935,-87.64548716666667,-87.623981,-87.69,-87.77,-87.67,-87.608218,-87.6893070063,-87.634324,-87.614492,-87.637536,-87.634324,-87.622072,-87.6641395,-87.6540612729,-87.638181,-87.661206,-87.620548,-87.630834,-87.669807,-87.64,-87.658617,-87.621743,-87.65160262584686,-87.643948,-87.6355,-87.684781,-87.654678,-87.625125,-87.6153553902,-87.6308760584,-87.625125,-87.63128,-87.6475386582,-87.6275355,-87.62,-87.67097,-87.62056616666666,-87.659753,-87.633879,-87.654691,-87.75,-87.69,-87.63894766666667,-87.62408432,-87.641066,-87.684213,-87.72,-87.62686966666666,-87.667747,-87.6625255,-87.62058019638062,-87.653818,-87.654529,-87.614492,-87.62797504663467,-87.619407,-87.62377664,-87.6441815,-87.6475386582,-87.677335,-87.614492,-87.623041,-87.653106,-87.66394,-87.73,-87.71,-87.6637476682663,-87.66394,-87.627754,-87.638973,-87.617867,-87.64823033333333,-87.67722,-87.648128,-87.63219,-87.626761,-87.638983,-87.6277335692,-87.64868,-87.6346,-87.7011951301,-87.69,-87.625961,-87.67373085021973,-87.63566762208939,-87.605026,-87.634429,-87.6128035,-87.66390516666667,-87.654691,-87.654691,-87.643118,-87.608218,-87.677432,-87.594747,-87.63871216666666,-87.62279838323593,-87.630834,-87.64199216666667,-87.63682901859283,-87.62408432,-87.62279838323593,-87.62652216666666,-87.6602845349,-87.6358885,-87.666713,-87.641823,-87.7093107999,-87.62377664,-87.643118,-87.66383333333333,-87.69,-87.6346675,-87.621743,-87.612043,-87.62408,-87.71022096276283,-87.587782,-87.62780616666667,-87.61861681938171,-87.622798,-87.63682901859283,-87.626804,-87.62629716666666,-87.626888,-87.62408432,-87.62058019638062,-87.673848,-87.62241866666666,-87.59478583333333,-87.67722,-87.69,-87.6687,-87.656853,-87.597299,-87.6601406209,-87.64332,-87.626804,-87.6582725,-87.666749,-87.64412366666667,-87.6351035,-87.64424166666667,-87.667747,-87.63547986745834,-87.66394,-87.612043,-87.63,-87.638742,-87.62455,-87.7,-87.656936,-87.67,-87.608218,-87.7,-87.67784983333334,-87.61818916666667,-87.62797504663467,-87.6523048564,-87.64414608478546,-87.62377664,-87.62691066666666,-87.649993,-87.612043,-87.59028283333333,-87.619407,-87.6246839761734,-87.676842212677,-87.65705166666666,-87.63992,-87.649603,-87.631985,-87.648384,-87.716755,-87.612043,-87.62,-87.6344835,-87.679101,-87.61843366666666,-87.626804,-87.65889183333333,-87.66,-87.67141233333334,-87.616279,-87.62797504663467,-87.64,-87.683282,-87.677769,-87.667747,-87.57645,-87.58,-87.61217416666666,-87.622072,-87.62408,-87.64,-87.5864498959,-87.62408432,-87.638181,-87.616743,-87.677432,-87.663712,-87.65,-87.6313135,-87.57,-87.62058,-87.612813,-87.6776919292,-87.7,-87.639474,-87.63089,-87.634656,-87.63896333333334,-87.68,-87.62603,-87.629318,-87.623041,-87.63920283333333,-87.63566762208939,-87.62389533333334,-87.66,-87.66,-87.625813,-87.62603,-87.684158,-87.63632116666666,-87.65643733333333,-87.6464155,-87.673731,-87.6626,-87.648128,-87.64,-87.7,-87.626804,-87.642884,-87.61457883333334,-87.608218,-87.62058019638062,-87.677335,-87.619517,-87.62058,-87.622634,-87.63158983333334,-87.6153553902,-87.621743,-87.614492,-87.621743,-87.65,-87.63582453131676,-87.650154,-87.7,-87.654529,-87.62597666666667,-87.62306116666667,-87.6602845349,-87.77,-87.57,-87.649603,-87.61277083333333,-87.625961,-87.6819635,-87.64422383333333,-87.6637476682663,-87.6678554713726,-87.6806535,-87.626761,-87.63920833333333,-87.616743,-87.634324,-87.64926,-87.619407,-87.627690528,-87.62381833333333,-87.629912,-87.69869616666666,-87.62444383333333,-87.68583483333333,-87.641823,-87.68141433333334,-87.68,-87.626761,-87.6537080423,-87.63483,-87.63188991,-87.62039033333333,-87.638566,-87.654678,-87.66371716666667,-87.698224,-87.67,-87.62597733333334,-87.622072,-87.77,-87.629318,-87.635185,-87.6794590387,-87.61861681938171,-87.64169722795485,-87.67,-87.653106,-87.66365833333333,-87.663992,-87.63193130493164,-87.639573,-87.638437,-87.6602845349,-87.681391,-87.612043,-87.62377664,-87.614492,-87.636829,-87.612043,-87.67923716666667,-87.646439,-87.64397,-87.631622,-87.63128,-87.619407,-87.6475765,-87.58,-87.648789,-87.634324,-87.71,-87.71676383333333,-87.613348,-87.654678,-87.634656,-87.619521,-87.613348,-87.614492,-87.624084,-87.6580399274826,-87.629318,-87.76,-87.62377664,-87.6,-87.6119725,-87.77,-87.623981,-87.69,-87.63460616666667,-87.6346,-87.586924,-87.72,-87.65691066666666,-87.6,-87.635185,-87.654529,-87.625961,-87.627468,-87.63582453131676,-87.691392,-87.6355,-87.707368,-87.658865,-87.67,-87.649993,-87.67847766666667,-87.626804,-87.711561,-87.64510566666667,-87.668507,-87.6638225,-87.66101016666667,-87.642884,-87.62353366666666,-87.709261,-87.642884,-87.639192,-87.71,-87.73,-87.64867,-87.65275883333334,-87.75,-87.63638433333334,-87.65312216666666,-87.627690528,-87.71678102,-87.7,-87.62597016666666,-87.67,-87.63460816666667,-87.65,-87.614492,-87.6785,-87.6346,-87.6009581145,-87.638181,-87.629155,-87.66829566666667,-87.69,-87.6434985,-87.63,-87.633502,-87.6,-87.583945009,-87.642884,-87.645143,-87.67711333333334,-87.652705,-87.652705,-87.6153553902,-87.638973,-87.638506,-87.654966,-87.619407,-87.63682901859283,-87.6602845349,-87.68410566666667,-87.62776266666667,-87.641066,-87.67214566666667,-87.630834,-87.6153553902,-87.65,-87.67,-87.66394,-87.668745,-87.62374166666666,-87.68,-87.653818,-87.63566762208939,-87.612043,-87.687022,-87.647071,-87.639192,-87.650154,-87.636829,-87.6526455,-87.71,-87.63491133333333,-87.629521,-87.66593635082245,-87.630834,-87.62058019638062,-87.61221633333334,-87.62377664,-87.641281,-87.71,-87.667747,-87.607267,-87.677855,-87.63547986745834,-87.65301116666667,-87.71,-87.6445705849,-87.65229133333334],\"marker\":{\"color\":\"#6fb34c\",\"opacity\":1},\"mode\":\"markers\",\"name\":\"casual\",\"showlegend\":true,\"subplot\":\"mapbox\",\"type\":\"scattermapbox\"}],                        {\"template\":{\"data\":{\"histogram2dcontour\":[{\"type\":\"histogram2dcontour\",\"colorbar\":{\"outlinewidth\":0,\"ticks\":\"\"},\"colorscale\":[[0.0,\"#0d0887\"],[0.1111111111111111,\"#46039f\"],[0.2222222222222222,\"#7201a8\"],[0.3333333333333333,\"#9c179e\"],[0.4444444444444444,\"#bd3786\"],[0.5555555555555556,\"#d8576b\"],[0.6666666666666666,\"#ed7953\"],[0.7777777777777778,\"#fb9f3a\"],[0.8888888888888888,\"#fdca26\"],[1.0,\"#f0f921\"]]}],\"choropleth\":[{\"type\":\"choropleth\",\"colorbar\":{\"outlinewidth\":0,\"ticks\":\"\"}}],\"histogram2d\":[{\"type\":\"histogram2d\",\"colorbar\":{\"outlinewidth\":0,\"ticks\":\"\"},\"colorscale\":[[0.0,\"#0d0887\"],[0.1111111111111111,\"#46039f\"],[0.2222222222222222,\"#7201a8\"],[0.3333333333333333,\"#9c179e\"],[0.4444444444444444,\"#bd3786\"],[0.5555555555555556,\"#d8576b\"],[0.6666666666666666,\"#ed7953\"],[0.7777777777777778,\"#fb9f3a\"],[0.8888888888888888,\"#fdca26\"],[1.0,\"#f0f921\"]]}],\"heatmap\":[{\"type\":\"heatmap\",\"colorbar\":{\"outlinewidth\":0,\"ticks\":\"\"},\"colorscale\":[[0.0,\"#0d0887\"],[0.1111111111111111,\"#46039f\"],[0.2222222222222222,\"#7201a8\"],[0.3333333333333333,\"#9c179e\"],[0.4444444444444444,\"#bd3786\"],[0.5555555555555556,\"#d8576b\"],[0.6666666666666666,\"#ed7953\"],[0.7777777777777778,\"#fb9f3a\"],[0.8888888888888888,\"#fdca26\"],[1.0,\"#f0f921\"]]}],\"heatmapgl\":[{\"type\":\"heatmapgl\",\"colorbar\":{\"outlinewidth\":0,\"ticks\":\"\"},\"colorscale\":[[0.0,\"#0d0887\"],[0.1111111111111111,\"#46039f\"],[0.2222222222222222,\"#7201a8\"],[0.3333333333333333,\"#9c179e\"],[0.4444444444444444,\"#bd3786\"],[0.5555555555555556,\"#d8576b\"],[0.6666666666666666,\"#ed7953\"],[0.7777777777777778,\"#fb9f3a\"],[0.8888888888888888,\"#fdca26\"],[1.0,\"#f0f921\"]]}],\"contourcarpet\":[{\"type\":\"contourcarpet\",\"colorbar\":{\"outlinewidth\":0,\"ticks\":\"\"}}],\"contour\":[{\"type\":\"contour\",\"colorbar\":{\"outlinewidth\":0,\"ticks\":\"\"},\"colorscale\":[[0.0,\"#0d0887\"],[0.1111111111111111,\"#46039f\"],[0.2222222222222222,\"#7201a8\"],[0.3333333333333333,\"#9c179e\"],[0.4444444444444444,\"#bd3786\"],[0.5555555555555556,\"#d8576b\"],[0.6666666666666666,\"#ed7953\"],[0.7777777777777778,\"#fb9f3a\"],[0.8888888888888888,\"#fdca26\"],[1.0,\"#f0f921\"]]}],\"surface\":[{\"type\":\"surface\",\"colorbar\":{\"outlinewidth\":0,\"ticks\":\"\"},\"colorscale\":[[0.0,\"#0d0887\"],[0.1111111111111111,\"#46039f\"],[0.2222222222222222,\"#7201a8\"],[0.3333333333333333,\"#9c179e\"],[0.4444444444444444,\"#bd3786\"],[0.5555555555555556,\"#d8576b\"],[0.6666666666666666,\"#ed7953\"],[0.7777777777777778,\"#fb9f3a\"],[0.8888888888888888,\"#fdca26\"],[1.0,\"#f0f921\"]]}],\"mesh3d\":[{\"type\":\"mesh3d\",\"colorbar\":{\"outlinewidth\":0,\"ticks\":\"\"}}],\"scatter\":[{\"fillpattern\":{\"fillmode\":\"overlay\",\"size\":10,\"solidity\":0.2},\"type\":\"scatter\"}],\"parcoords\":[{\"type\":\"parcoords\",\"line\":{\"colorbar\":{\"outlinewidth\":0,\"ticks\":\"\"}}}],\"scatterpolargl\":[{\"type\":\"scatterpolargl\",\"marker\":{\"colorbar\":{\"outlinewidth\":0,\"ticks\":\"\"}}}],\"bar\":[{\"error_x\":{\"color\":\"#2a3f5f\"},\"error_y\":{\"color\":\"#2a3f5f\"},\"marker\":{\"line\":{\"color\":\"#E5ECF6\",\"width\":0.5},\"pattern\":{\"fillmode\":\"overlay\",\"size\":10,\"solidity\":0.2}},\"type\":\"bar\"}],\"scattergeo\":[{\"type\":\"scattergeo\",\"marker\":{\"colorbar\":{\"outlinewidth\":0,\"ticks\":\"\"}}}],\"scatterpolar\":[{\"type\":\"scatterpolar\",\"marker\":{\"colorbar\":{\"outlinewidth\":0,\"ticks\":\"\"}}}],\"histogram\":[{\"marker\":{\"pattern\":{\"fillmode\":\"overlay\",\"size\":10,\"solidity\":0.2}},\"type\":\"histogram\"}],\"scattergl\":[{\"type\":\"scattergl\",\"marker\":{\"colorbar\":{\"outlinewidth\":0,\"ticks\":\"\"}}}],\"scatter3d\":[{\"type\":\"scatter3d\",\"line\":{\"colorbar\":{\"outlinewidth\":0,\"ticks\":\"\"}},\"marker\":{\"colorbar\":{\"outlinewidth\":0,\"ticks\":\"\"}}}],\"scattermapbox\":[{\"type\":\"scattermapbox\",\"marker\":{\"colorbar\":{\"outlinewidth\":0,\"ticks\":\"\"}}}],\"scatterternary\":[{\"type\":\"scatterternary\",\"marker\":{\"colorbar\":{\"outlinewidth\":0,\"ticks\":\"\"}}}],\"scattercarpet\":[{\"type\":\"scattercarpet\",\"marker\":{\"colorbar\":{\"outlinewidth\":0,\"ticks\":\"\"}}}],\"carpet\":[{\"aaxis\":{\"endlinecolor\":\"#2a3f5f\",\"gridcolor\":\"white\",\"linecolor\":\"white\",\"minorgridcolor\":\"white\",\"startlinecolor\":\"#2a3f5f\"},\"baxis\":{\"endlinecolor\":\"#2a3f5f\",\"gridcolor\":\"white\",\"linecolor\":\"white\",\"minorgridcolor\":\"white\",\"startlinecolor\":\"#2a3f5f\"},\"type\":\"carpet\"}],\"table\":[{\"cells\":{\"fill\":{\"color\":\"#EBF0F8\"},\"line\":{\"color\":\"white\"}},\"header\":{\"fill\":{\"color\":\"#C8D4E3\"},\"line\":{\"color\":\"white\"}},\"type\":\"table\"}],\"barpolar\":[{\"marker\":{\"line\":{\"color\":\"#E5ECF6\",\"width\":0.5},\"pattern\":{\"fillmode\":\"overlay\",\"size\":10,\"solidity\":0.2}},\"type\":\"barpolar\"}],\"pie\":[{\"automargin\":true,\"type\":\"pie\"}]},\"layout\":{\"autotypenumbers\":\"strict\",\"colorway\":[\"#636efa\",\"#EF553B\",\"#00cc96\",\"#ab63fa\",\"#FFA15A\",\"#19d3f3\",\"#FF6692\",\"#B6E880\",\"#FF97FF\",\"#FECB52\"],\"font\":{\"color\":\"#2a3f5f\"},\"hovermode\":\"closest\",\"hoverlabel\":{\"align\":\"left\"},\"paper_bgcolor\":\"white\",\"plot_bgcolor\":\"#E5ECF6\",\"polar\":{\"bgcolor\":\"#E5ECF6\",\"angularaxis\":{\"gridcolor\":\"white\",\"linecolor\":\"white\",\"ticks\":\"\"},\"radialaxis\":{\"gridcolor\":\"white\",\"linecolor\":\"white\",\"ticks\":\"\"}},\"ternary\":{\"bgcolor\":\"#E5ECF6\",\"aaxis\":{\"gridcolor\":\"white\",\"linecolor\":\"white\",\"ticks\":\"\"},\"baxis\":{\"gridcolor\":\"white\",\"linecolor\":\"white\",\"ticks\":\"\"},\"caxis\":{\"gridcolor\":\"white\",\"linecolor\":\"white\",\"ticks\":\"\"}},\"coloraxis\":{\"colorbar\":{\"outlinewidth\":0,\"ticks\":\"\"}},\"colorscale\":{\"sequential\":[[0.0,\"#0d0887\"],[0.1111111111111111,\"#46039f\"],[0.2222222222222222,\"#7201a8\"],[0.3333333333333333,\"#9c179e\"],[0.4444444444444444,\"#bd3786\"],[0.5555555555555556,\"#d8576b\"],[0.6666666666666666,\"#ed7953\"],[0.7777777777777778,\"#fb9f3a\"],[0.8888888888888888,\"#fdca26\"],[1.0,\"#f0f921\"]],\"sequentialminus\":[[0.0,\"#0d0887\"],[0.1111111111111111,\"#46039f\"],[0.2222222222222222,\"#7201a8\"],[0.3333333333333333,\"#9c179e\"],[0.4444444444444444,\"#bd3786\"],[0.5555555555555556,\"#d8576b\"],[0.6666666666666666,\"#ed7953\"],[0.7777777777777778,\"#fb9f3a\"],[0.8888888888888888,\"#fdca26\"],[1.0,\"#f0f921\"]],\"diverging\":[[0,\"#8e0152\"],[0.1,\"#c51b7d\"],[0.2,\"#de77ae\"],[0.3,\"#f1b6da\"],[0.4,\"#fde0ef\"],[0.5,\"#f7f7f7\"],[0.6,\"#e6f5d0\"],[0.7,\"#b8e186\"],[0.8,\"#7fbc41\"],[0.9,\"#4d9221\"],[1,\"#276419\"]]},\"xaxis\":{\"gridcolor\":\"white\",\"linecolor\":\"white\",\"ticks\":\"\",\"title\":{\"standoff\":15},\"zerolinecolor\":\"white\",\"automargin\":true,\"zerolinewidth\":2},\"yaxis\":{\"gridcolor\":\"white\",\"linecolor\":\"white\",\"ticks\":\"\",\"title\":{\"standoff\":15},\"zerolinecolor\":\"white\",\"automargin\":true,\"zerolinewidth\":2},\"scene\":{\"xaxis\":{\"backgroundcolor\":\"#E5ECF6\",\"gridcolor\":\"white\",\"linecolor\":\"white\",\"showbackground\":true,\"ticks\":\"\",\"zerolinecolor\":\"white\",\"gridwidth\":2},\"yaxis\":{\"backgroundcolor\":\"#E5ECF6\",\"gridcolor\":\"white\",\"linecolor\":\"white\",\"showbackground\":true,\"ticks\":\"\",\"zerolinecolor\":\"white\",\"gridwidth\":2},\"zaxis\":{\"backgroundcolor\":\"#E5ECF6\",\"gridcolor\":\"white\",\"linecolor\":\"white\",\"showbackground\":true,\"ticks\":\"\",\"zerolinecolor\":\"white\",\"gridwidth\":2}},\"shapedefaults\":{\"line\":{\"color\":\"#2a3f5f\"}},\"annotationdefaults\":{\"arrowcolor\":\"#2a3f5f\",\"arrowhead\":0,\"arrowwidth\":1},\"geo\":{\"bgcolor\":\"white\",\"landcolor\":\"#E5ECF6\",\"subunitcolor\":\"white\",\"showland\":true,\"showlakes\":true,\"lakecolor\":\"white\"},\"title\":{\"x\":0.05},\"mapbox\":{\"style\":\"light\"}}},\"mapbox\":{\"domain\":{\"x\":[0.0,1.0],\"y\":[0.0,1.0]},\"center\":{\"lat\":41.900546095376754,\"lon\":-87.64591719457594},\"zoom\":9,\"style\":\"carto-positron\"},\"legend\":{\"title\":{\"text\":\"member_casual\"},\"tracegroupgap\":0},\"title\":{\"text\":\"User clustering\"}},                        {\"responsive\": true}                    ).then(function(){\n",
              "                            \n",
              "var gd = document.getElementById('a30197b3-dbe3-4264-8182-1e6fd1290ff7');\n",
              "var x = new MutationObserver(function (mutations, observer) {{\n",
              "        var display = window.getComputedStyle(gd).display;\n",
              "        if (!display || display === 'none') {{\n",
              "            console.log([gd, 'removed!']);\n",
              "            Plotly.purge(gd);\n",
              "            observer.disconnect();\n",
              "        }}\n",
              "}});\n",
              "\n",
              "// Listen for the removal of the full notebook cells\n",
              "var notebookContainer = gd.closest('#notebook-container');\n",
              "if (notebookContainer) {{\n",
              "    x.observe(notebookContainer, {childList: true});\n",
              "}}\n",
              "\n",
              "// Listen for the clearing of the current output cell\n",
              "var outputEl = gd.closest('.output');\n",
              "if (outputEl) {{\n",
              "    x.observe(outputEl, {childList: true});\n",
              "}}\n",
              "\n",
              "                        })                };                            </script>        </div>\n",
              "</body>\n",
              "</html>"
            ]
          },
          "metadata": {}
        },
        {
          "output_type": "stream",
          "name": "stdout",
          "text": [
            "\n"
          ]
        },
        {
          "output_type": "display_data",
          "data": {
            "text/html": [
              "<html>\n",
              "<head><meta charset=\"utf-8\" /></head>\n",
              "<body>\n",
              "    <div>            <script src=\"https://cdnjs.cloudflare.com/ajax/libs/mathjax/2.7.5/MathJax.js?config=TeX-AMS-MML_SVG\"></script><script type=\"text/javascript\">if (window.MathJax && window.MathJax.Hub && window.MathJax.Hub.Config) {window.MathJax.Hub.Config({SVG: {font: \"STIX-Web\"}});}</script>                <script type=\"text/javascript\">window.PlotlyConfig = {MathJaxConfig: 'local'};</script>\n",
              "        <script charset=\"utf-8\" src=\"https://cdn.plot.ly/plotly-2.24.1.min.js\"></script>                <div id=\"67be82de-0cac-48f0-a48f-20dbf4c574ae\" class=\"plotly-graph-div\" style=\"height:525px; width:100%;\"></div>            <script type=\"text/javascript\">                                    window.PLOTLYENV=window.PLOTLYENV || {};                                    if (document.getElementById(\"67be82de-0cac-48f0-a48f-20dbf4c574ae\")) {                    Plotly.newPlot(                        \"67be82de-0cac-48f0-a48f-20dbf4c574ae\",                        [{\"hovertemplate\":\"\\u003cb\\u003e%{hovertext}\\u003c\\u002fb\\u003e\\u003cbr\\u003e\\u003cbr\\u003estart_lat=%{lat}\\u003cbr\\u003estart_lng=%{lon}\\u003cextra\\u003e\\u003c\\u002fextra\\u003e\",\"hovertext\":[0.0,1.0,2.0,3.0,4.0,5.0,6.0,7.0,8.0,9.0,10.0,11.0,12.0,13.0,14.0,15.0,16.0,17.0,18.0,19.0,20.0,21.0,22.0,23.0,24.0,25.0,26.0,27.0,28.0,29.0,30.0,31.0,32.0,33.0,34.0,35.0,36.0,37.0,38.0,39.0,40.0,41.0,42.0,43.0,44.0,45.0,46.0,47.0,48.0,49.0,50.0,51.0,52.0,53.0,54.0,55.0,56.0,57.0,58.0,59.0,60.0,61.0,62.0,63.0,64.0,65.0,66.0,67.0,68.0,69.0,70.0,71.0,72.0,73.0,74.0,75.0,76.0,77.0,78.0,79.0,80.0,81.0,82.0,83.0,84.0,85.0,86.0,87.0,88.0,89.0,90.0,91.0,92.0,93.0,94.0,95.0,96.0,97.0,98.0,99.0],\"lat\":[41.943739,41.94018,42.03253016666667,41.958503,41.929567,41.911722,41.892278,41.926277,41.926277,41.888716036,41.891380833333336,41.949399,41.890573,41.87651122881695,41.87218966666666,41.906724,41.76663823695,41.881032,41.911722,41.880422,41.965875,41.892278,41.883073,41.921822,41.917805,41.94334,41.925858,41.93947775040509,41.854184,41.870769,41.892278,41.92416733333334,41.89691,41.894345,41.89434513742426,41.90345,41.912616,41.918306,41.966399801840986,41.922167,41.8985866514,41.9218425,41.892278,41.9319695,41.926277,41.90335116666667,41.9136315,41.883944392,41.92867733333333,41.94334,41.877945,41.940775,41.92556258,41.8854833079,41.915983,41.89184883333333,41.90068,41.79342945658,41.913688,41.89463116666667,41.9779966544,41.883668,41.893992,41.91571133333333,41.881892,41.92393131136619,41.884576228,41.891795,41.897764,41.79430062054,41.856268,41.89084704062381,42.048214,41.87831661183069,41.795264,41.889899,41.98402816666667,41.918084,41.87947235235,41.83452988563,41.890028,41.856268,41.96592483333333,41.87258033333333,41.943739,41.91579016666667,41.932589166666666,41.881988166666666,41.929546,41.8810317,41.878166,41.9218365,41.932225,41.912616,41.8972145,41.88338,41.79521166666667,41.898203,41.89661720040753,41.876328111],\"legendgroup\":\"\",\"lon\":[-87.66402,-87.65304,-87.679177,-87.6549715,-87.707857,-87.626804,-87.612043,-87.630834,-87.630834,-87.6444478533,-87.67710666666666,-87.654529,-87.622072,-87.62054800987242,-87.66144466666667,-87.63483,-87.5764501141,-87.624084,-87.626804,-87.642746,-87.700825,-87.612043,-87.656952,-87.64414,-87.682437,-87.67097,-87.638973,-87.6637476682663,-87.619154,-87.625734,-87.612043,-87.63591566666666,-87.621743,-87.622798,-87.62279838323593,-87.667747,-87.681391,-87.636282,-87.68870428204536,-87.638888,-87.6219152258,-87.64398033333333,-87.612043,-87.70120016666667,-87.630834,-87.65230016666666,-87.65284633333333,-87.629339814,-87.653755,-87.67097,-87.662007,-87.639192,-87.65840426,-87.6523048564,-87.677335,-87.620651,-87.6626,-87.6158532619,-87.652855,-87.63831683333333,-87.6680471047,-87.64867,-87.629318,-87.63460383333333,-87.648789,-87.63582453131676,-87.63188991,-87.658751,-87.642884,-87.6014497734,-87.613348,-87.61861681938171,-87.683485,-87.64098107814789,-87.596471,-87.671473,-87.66027966666667,-87.643749,-87.6256886059,-87.6318229814,-87.636618,-87.613348,-87.69361483333333,-87.62402683333333,-87.66402,-87.63471216666667,-87.63645433333333,-87.64136966666666,-87.643118,-87.62408432,-87.631929,-87.64400216666667,-87.658617,-87.681391,-87.62822133333333,-87.64117,-87.5808145,-87.637536,-87.62857854366302,-87.629167914],\"marker\":{\"color\":\"#636efa\",\"opacity\":1},\"mode\":\"markers\",\"name\":\"\",\"showlegend\":false,\"subplot\":\"mapbox\",\"type\":\"scattermapbox\"},{\"hovertemplate\":\"member_casual=casual\\u003cbr\\u003estart_lat=%{lat}\\u003cbr\\u003estart_lng=%{lon}\\u003cextra\\u003e\\u003c\\u002fextra\\u003e\",\"lat\":[41.94018,42.03253016666667,41.958503,41.929567,41.911722,41.892278,41.926277,41.926277,41.888716036,41.891380833333336,41.949399,41.890573,41.87651122881695,41.87218966666666,41.906724,41.76663823695,41.881032,41.911722,41.880422,41.965875,41.892278,41.883073,41.921822,41.917805,41.94334,41.925858,41.93947775040509,41.854184,41.870769,41.892278,41.92416733333334,41.89691,41.894345,41.89434513742426,41.90345,41.912616,41.918306,41.966399801840986,41.922167,41.8985866514,41.9218425,41.892278,41.9319695,41.926277,41.90335116666667,41.9136315,41.883944392],\"legendgroup\":\"casual\",\"line\":{\"color\":\"#6fb34c\"},\"lon\":[-87.65304,-87.679177,-87.6549715,-87.707857,-87.626804,-87.612043,-87.630834,-87.630834,-87.6444478533,-87.67710666666666,-87.654529,-87.622072,-87.62054800987242,-87.66144466666667,-87.63483,-87.5764501141,-87.624084,-87.626804,-87.642746,-87.700825,-87.612043,-87.656952,-87.64414,-87.682437,-87.67097,-87.638973,-87.6637476682663,-87.619154,-87.625734,-87.612043,-87.63591566666666,-87.621743,-87.622798,-87.62279838323593,-87.667747,-87.681391,-87.636282,-87.68870428204536,-87.638888,-87.6219152258,-87.64398033333333,-87.612043,-87.70120016666667,-87.630834,-87.65230016666666,-87.65284633333333,-87.629339814],\"mode\":\"lines\",\"name\":\"casual\",\"showlegend\":true,\"subplot\":\"mapbox\",\"type\":\"scattermapbox\"},{\"hovertemplate\":\"member_casual=member\\u003cbr\\u003estart_lat=%{lat}\\u003cbr\\u003estart_lng=%{lon}\\u003cextra\\u003e\\u003c\\u002fextra\\u003e\",\"lat\":[41.92867733333333,41.94334,41.877945,41.940775,41.92556258,41.8854833079,41.915983,41.89184883333333,41.90068,41.79342945658,41.913688,41.89463116666667,41.9779966544,41.883668,41.893992,41.91571133333333,41.881892,41.92393131136619,41.884576228,41.891795,41.897764,41.79430062054,41.856268,41.89084704062381,42.048214,41.87831661183069,41.795264,41.889899,41.98402816666667,41.918084,41.87947235235,41.83452988563,41.890028,41.856268,41.96592483333333,41.87258033333333,41.943739,41.91579016666667,41.932589166666666,41.881988166666666,41.929546,41.8810317,41.878166,41.9218365,41.932225,41.912616,41.8972145,41.88338,41.79521166666667,41.898203,41.89661720040753,41.876328111],\"legendgroup\":\"member\",\"line\":{\"color\":\"#66c2e0\"},\"lon\":[-87.653755,-87.67097,-87.662007,-87.639192,-87.65840426,-87.6523048564,-87.677335,-87.620651,-87.6626,-87.6158532619,-87.652855,-87.63831683333333,-87.6680471047,-87.64867,-87.629318,-87.63460383333333,-87.648789,-87.63582453131676,-87.63188991,-87.658751,-87.642884,-87.6014497734,-87.613348,-87.61861681938171,-87.683485,-87.64098107814789,-87.596471,-87.671473,-87.66027966666667,-87.643749,-87.6256886059,-87.6318229814,-87.636618,-87.613348,-87.69361483333333,-87.62402683333333,-87.66402,-87.63471216666667,-87.63645433333333,-87.64136966666666,-87.643118,-87.62408432,-87.631929,-87.64400216666667,-87.658617,-87.681391,-87.62822133333333,-87.64117,-87.5808145,-87.637536,-87.62857854366302,-87.629167914],\"mode\":\"lines\",\"name\":\"member\",\"showlegend\":true,\"subplot\":\"mapbox\",\"type\":\"scattermapbox\"}],                        {\"template\":{\"data\":{\"histogram2dcontour\":[{\"type\":\"histogram2dcontour\",\"colorbar\":{\"outlinewidth\":0,\"ticks\":\"\"},\"colorscale\":[[0.0,\"#0d0887\"],[0.1111111111111111,\"#46039f\"],[0.2222222222222222,\"#7201a8\"],[0.3333333333333333,\"#9c179e\"],[0.4444444444444444,\"#bd3786\"],[0.5555555555555556,\"#d8576b\"],[0.6666666666666666,\"#ed7953\"],[0.7777777777777778,\"#fb9f3a\"],[0.8888888888888888,\"#fdca26\"],[1.0,\"#f0f921\"]]}],\"choropleth\":[{\"type\":\"choropleth\",\"colorbar\":{\"outlinewidth\":0,\"ticks\":\"\"}}],\"histogram2d\":[{\"type\":\"histogram2d\",\"colorbar\":{\"outlinewidth\":0,\"ticks\":\"\"},\"colorscale\":[[0.0,\"#0d0887\"],[0.1111111111111111,\"#46039f\"],[0.2222222222222222,\"#7201a8\"],[0.3333333333333333,\"#9c179e\"],[0.4444444444444444,\"#bd3786\"],[0.5555555555555556,\"#d8576b\"],[0.6666666666666666,\"#ed7953\"],[0.7777777777777778,\"#fb9f3a\"],[0.8888888888888888,\"#fdca26\"],[1.0,\"#f0f921\"]]}],\"heatmap\":[{\"type\":\"heatmap\",\"colorbar\":{\"outlinewidth\":0,\"ticks\":\"\"},\"colorscale\":[[0.0,\"#0d0887\"],[0.1111111111111111,\"#46039f\"],[0.2222222222222222,\"#7201a8\"],[0.3333333333333333,\"#9c179e\"],[0.4444444444444444,\"#bd3786\"],[0.5555555555555556,\"#d8576b\"],[0.6666666666666666,\"#ed7953\"],[0.7777777777777778,\"#fb9f3a\"],[0.8888888888888888,\"#fdca26\"],[1.0,\"#f0f921\"]]}],\"heatmapgl\":[{\"type\":\"heatmapgl\",\"colorbar\":{\"outlinewidth\":0,\"ticks\":\"\"},\"colorscale\":[[0.0,\"#0d0887\"],[0.1111111111111111,\"#46039f\"],[0.2222222222222222,\"#7201a8\"],[0.3333333333333333,\"#9c179e\"],[0.4444444444444444,\"#bd3786\"],[0.5555555555555556,\"#d8576b\"],[0.6666666666666666,\"#ed7953\"],[0.7777777777777778,\"#fb9f3a\"],[0.8888888888888888,\"#fdca26\"],[1.0,\"#f0f921\"]]}],\"contourcarpet\":[{\"type\":\"contourcarpet\",\"colorbar\":{\"outlinewidth\":0,\"ticks\":\"\"}}],\"contour\":[{\"type\":\"contour\",\"colorbar\":{\"outlinewidth\":0,\"ticks\":\"\"},\"colorscale\":[[0.0,\"#0d0887\"],[0.1111111111111111,\"#46039f\"],[0.2222222222222222,\"#7201a8\"],[0.3333333333333333,\"#9c179e\"],[0.4444444444444444,\"#bd3786\"],[0.5555555555555556,\"#d8576b\"],[0.6666666666666666,\"#ed7953\"],[0.7777777777777778,\"#fb9f3a\"],[0.8888888888888888,\"#fdca26\"],[1.0,\"#f0f921\"]]}],\"surface\":[{\"type\":\"surface\",\"colorbar\":{\"outlinewidth\":0,\"ticks\":\"\"},\"colorscale\":[[0.0,\"#0d0887\"],[0.1111111111111111,\"#46039f\"],[0.2222222222222222,\"#7201a8\"],[0.3333333333333333,\"#9c179e\"],[0.4444444444444444,\"#bd3786\"],[0.5555555555555556,\"#d8576b\"],[0.6666666666666666,\"#ed7953\"],[0.7777777777777778,\"#fb9f3a\"],[0.8888888888888888,\"#fdca26\"],[1.0,\"#f0f921\"]]}],\"mesh3d\":[{\"type\":\"mesh3d\",\"colorbar\":{\"outlinewidth\":0,\"ticks\":\"\"}}],\"scatter\":[{\"fillpattern\":{\"fillmode\":\"overlay\",\"size\":10,\"solidity\":0.2},\"type\":\"scatter\"}],\"parcoords\":[{\"type\":\"parcoords\",\"line\":{\"colorbar\":{\"outlinewidth\":0,\"ticks\":\"\"}}}],\"scatterpolargl\":[{\"type\":\"scatterpolargl\",\"marker\":{\"colorbar\":{\"outlinewidth\":0,\"ticks\":\"\"}}}],\"bar\":[{\"error_x\":{\"color\":\"#2a3f5f\"},\"error_y\":{\"color\":\"#2a3f5f\"},\"marker\":{\"line\":{\"color\":\"#E5ECF6\",\"width\":0.5},\"pattern\":{\"fillmode\":\"overlay\",\"size\":10,\"solidity\":0.2}},\"type\":\"bar\"}],\"scattergeo\":[{\"type\":\"scattergeo\",\"marker\":{\"colorbar\":{\"outlinewidth\":0,\"ticks\":\"\"}}}],\"scatterpolar\":[{\"type\":\"scatterpolar\",\"marker\":{\"colorbar\":{\"outlinewidth\":0,\"ticks\":\"\"}}}],\"histogram\":[{\"marker\":{\"pattern\":{\"fillmode\":\"overlay\",\"size\":10,\"solidity\":0.2}},\"type\":\"histogram\"}],\"scattergl\":[{\"type\":\"scattergl\",\"marker\":{\"colorbar\":{\"outlinewidth\":0,\"ticks\":\"\"}}}],\"scatter3d\":[{\"type\":\"scatter3d\",\"line\":{\"colorbar\":{\"outlinewidth\":0,\"ticks\":\"\"}},\"marker\":{\"colorbar\":{\"outlinewidth\":0,\"ticks\":\"\"}}}],\"scattermapbox\":[{\"type\":\"scattermapbox\",\"marker\":{\"colorbar\":{\"outlinewidth\":0,\"ticks\":\"\"}}}],\"scatterternary\":[{\"type\":\"scatterternary\",\"marker\":{\"colorbar\":{\"outlinewidth\":0,\"ticks\":\"\"}}}],\"scattercarpet\":[{\"type\":\"scattercarpet\",\"marker\":{\"colorbar\":{\"outlinewidth\":0,\"ticks\":\"\"}}}],\"carpet\":[{\"aaxis\":{\"endlinecolor\":\"#2a3f5f\",\"gridcolor\":\"white\",\"linecolor\":\"white\",\"minorgridcolor\":\"white\",\"startlinecolor\":\"#2a3f5f\"},\"baxis\":{\"endlinecolor\":\"#2a3f5f\",\"gridcolor\":\"white\",\"linecolor\":\"white\",\"minorgridcolor\":\"white\",\"startlinecolor\":\"#2a3f5f\"},\"type\":\"carpet\"}],\"table\":[{\"cells\":{\"fill\":{\"color\":\"#EBF0F8\"},\"line\":{\"color\":\"white\"}},\"header\":{\"fill\":{\"color\":\"#C8D4E3\"},\"line\":{\"color\":\"white\"}},\"type\":\"table\"}],\"barpolar\":[{\"marker\":{\"line\":{\"color\":\"#E5ECF6\",\"width\":0.5},\"pattern\":{\"fillmode\":\"overlay\",\"size\":10,\"solidity\":0.2}},\"type\":\"barpolar\"}],\"pie\":[{\"automargin\":true,\"type\":\"pie\"}]},\"layout\":{\"autotypenumbers\":\"strict\",\"colorway\":[\"#636efa\",\"#EF553B\",\"#00cc96\",\"#ab63fa\",\"#FFA15A\",\"#19d3f3\",\"#FF6692\",\"#B6E880\",\"#FF97FF\",\"#FECB52\"],\"font\":{\"color\":\"#2a3f5f\"},\"hovermode\":\"closest\",\"hoverlabel\":{\"align\":\"left\"},\"paper_bgcolor\":\"white\",\"plot_bgcolor\":\"#E5ECF6\",\"polar\":{\"bgcolor\":\"#E5ECF6\",\"angularaxis\":{\"gridcolor\":\"white\",\"linecolor\":\"white\",\"ticks\":\"\"},\"radialaxis\":{\"gridcolor\":\"white\",\"linecolor\":\"white\",\"ticks\":\"\"}},\"ternary\":{\"bgcolor\":\"#E5ECF6\",\"aaxis\":{\"gridcolor\":\"white\",\"linecolor\":\"white\",\"ticks\":\"\"},\"baxis\":{\"gridcolor\":\"white\",\"linecolor\":\"white\",\"ticks\":\"\"},\"caxis\":{\"gridcolor\":\"white\",\"linecolor\":\"white\",\"ticks\":\"\"}},\"coloraxis\":{\"colorbar\":{\"outlinewidth\":0,\"ticks\":\"\"}},\"colorscale\":{\"sequential\":[[0.0,\"#0d0887\"],[0.1111111111111111,\"#46039f\"],[0.2222222222222222,\"#7201a8\"],[0.3333333333333333,\"#9c179e\"],[0.4444444444444444,\"#bd3786\"],[0.5555555555555556,\"#d8576b\"],[0.6666666666666666,\"#ed7953\"],[0.7777777777777778,\"#fb9f3a\"],[0.8888888888888888,\"#fdca26\"],[1.0,\"#f0f921\"]],\"sequentialminus\":[[0.0,\"#0d0887\"],[0.1111111111111111,\"#46039f\"],[0.2222222222222222,\"#7201a8\"],[0.3333333333333333,\"#9c179e\"],[0.4444444444444444,\"#bd3786\"],[0.5555555555555556,\"#d8576b\"],[0.6666666666666666,\"#ed7953\"],[0.7777777777777778,\"#fb9f3a\"],[0.8888888888888888,\"#fdca26\"],[1.0,\"#f0f921\"]],\"diverging\":[[0,\"#8e0152\"],[0.1,\"#c51b7d\"],[0.2,\"#de77ae\"],[0.3,\"#f1b6da\"],[0.4,\"#fde0ef\"],[0.5,\"#f7f7f7\"],[0.6,\"#e6f5d0\"],[0.7,\"#b8e186\"],[0.8,\"#7fbc41\"],[0.9,\"#4d9221\"],[1,\"#276419\"]]},\"xaxis\":{\"gridcolor\":\"white\",\"linecolor\":\"white\",\"ticks\":\"\",\"title\":{\"standoff\":15},\"zerolinecolor\":\"white\",\"automargin\":true,\"zerolinewidth\":2},\"yaxis\":{\"gridcolor\":\"white\",\"linecolor\":\"white\",\"ticks\":\"\",\"title\":{\"standoff\":15},\"zerolinecolor\":\"white\",\"automargin\":true,\"zerolinewidth\":2},\"scene\":{\"xaxis\":{\"backgroundcolor\":\"#E5ECF6\",\"gridcolor\":\"white\",\"linecolor\":\"white\",\"showbackground\":true,\"ticks\":\"\",\"zerolinecolor\":\"white\",\"gridwidth\":2},\"yaxis\":{\"backgroundcolor\":\"#E5ECF6\",\"gridcolor\":\"white\",\"linecolor\":\"white\",\"showbackground\":true,\"ticks\":\"\",\"zerolinecolor\":\"white\",\"gridwidth\":2},\"zaxis\":{\"backgroundcolor\":\"#E5ECF6\",\"gridcolor\":\"white\",\"linecolor\":\"white\",\"showbackground\":true,\"ticks\":\"\",\"zerolinecolor\":\"white\",\"gridwidth\":2}},\"shapedefaults\":{\"line\":{\"color\":\"#2a3f5f\"}},\"annotationdefaults\":{\"arrowcolor\":\"#2a3f5f\",\"arrowhead\":0,\"arrowwidth\":1},\"geo\":{\"bgcolor\":\"white\",\"landcolor\":\"#E5ECF6\",\"subunitcolor\":\"white\",\"showland\":true,\"showlakes\":true,\"lakecolor\":\"white\"},\"title\":{\"x\":0.05},\"mapbox\":{\"style\":\"light\"}}},\"mapbox\":{\"domain\":{\"x\":[0.0,1.0],\"y\":[0.0,1.0]},\"center\":{\"lat\":41.903816051287976,\"lon\":-87.64295567977496},\"zoom\":9,\"style\":\"carto-positron\"},\"legend\":{\"tracegroupgap\":0},\"title\":{\"text\":\"User paths\"}},                        {\"responsive\": true}                    ).then(function(){\n",
              "                            \n",
              "var gd = document.getElementById('67be82de-0cac-48f0-a48f-20dbf4c574ae');\n",
              "var x = new MutationObserver(function (mutations, observer) {{\n",
              "        var display = window.getComputedStyle(gd).display;\n",
              "        if (!display || display === 'none') {{\n",
              "            console.log([gd, 'removed!']);\n",
              "            Plotly.purge(gd);\n",
              "            observer.disconnect();\n",
              "        }}\n",
              "}});\n",
              "\n",
              "// Listen for the removal of the full notebook cells\n",
              "var notebookContainer = gd.closest('#notebook-container');\n",
              "if (notebookContainer) {{\n",
              "    x.observe(notebookContainer, {childList: true});\n",
              "}}\n",
              "\n",
              "// Listen for the clearing of the current output cell\n",
              "var outputEl = gd.closest('.output');\n",
              "if (outputEl) {{\n",
              "    x.observe(outputEl, {childList: true});\n",
              "}}\n",
              "\n",
              "                        })                };                            </script>        </div>\n",
              "</body>\n",
              "</html>"
            ]
          },
          "metadata": {}
        }
      ],
      "source": [
        "import plotly.express as px\n",
        "\n",
        "df_sample = df.sample(n=5000)\n",
        "df_20 = df.dropna().sample(n=100).sort_values(by=['member_casual','started_at']).reset_index(drop=True)\n",
        "\n",
        "fig_1= px.scatter_mapbox(df_sample,lat='start_lat',lon='start_lng',color='member_casual',opacity=1,zoom=9,\n",
        "                         color_discrete_sequence=[light_blue,green],title='User clustering')\n",
        "\n",
        "#fig = px.line_geo(df_20,lat='start_lat',lon='start_lng')\n",
        "\n",
        "fig_1.update_layout(mapbox_style='carto-positron')\n",
        "\n",
        "fig_1.show()\n",
        "\n",
        "print()\n",
        "\n",
        "fig2 = px.scatter_mapbox(df_20, lat=\"start_lat\", lon=\"start_lng\",\n",
        "                        hover_name=df_20.index,opacity=1,zoom=9,title='User paths')\n",
        "fig2.update_layout(mapbox_style=\"carto-positron\")\n",
        "#fig2.update_layout(margin={\"r\":0,\"t\":0,\"l\":0,\"b\":0})\n",
        "\n",
        "tsp = list(range(1,100))\n",
        "\n",
        "fig2.add_traces(px.line_mapbox(df_20.loc[tsp], lat=\"start_lat\", lon=\"start_lng\",color='member_casual',color_discrete_sequence=[green,light_blue]).data)\n",
        "fig2.show()"
      ]
    },
    {
      "cell_type": "markdown",
      "id": "7c07010f",
      "metadata": {
        "papermill": {
          "duration": 0.023103,
          "end_time": "2023-03-30T20:00:06.520464",
          "exception": false,
          "start_time": "2023-03-30T20:00:06.497361",
          "status": "completed"
        },
        "tags": [],
        "id": "7c07010f"
      },
      "source": [
        "You can see in the first map, that casual users tend to cluster in the city center, whereas the member users are more scattered in the outskirts of the city.\n",
        "\n",
        "In the second map we can see the paths taken from users out of a random sample of the Data. This map shows a somewhat regular path the member users take, in and out the city center. By contrast, casual users take more irregular paths all around the city.\n",
        "\n",
        "This information could imply that although both users share some paths and cluster in similar areas, casual users tend to ride more in leisure areas where there are parks and sometimes to explore all around the city, and member users follow more straightforward paths from the suburbs into the city center and vice-versa, meaning they might use it more for commuting to work"
      ]
    },
    {
      "cell_type": "markdown",
      "id": "1f1874d2",
      "metadata": {
        "papermill": {
          "duration": 0.022576,
          "end_time": "2023-03-30T20:00:06.566150",
          "exception": false,
          "start_time": "2023-03-30T20:00:06.543574",
          "status": "completed"
        },
        "tags": [],
        "id": "1f1874d2"
      },
      "source": [
        "# 6.- Act"
      ]
    },
    {
      "cell_type": "markdown",
      "id": "465e4e79",
      "metadata": {
        "papermill": {
          "duration": 0.022916,
          "end_time": "2023-03-30T20:00:06.612150",
          "exception": false,
          "start_time": "2023-03-30T20:00:06.589234",
          "status": "completed"
        },
        "tags": [],
        "id": "465e4e79"
      },
      "source": [
        "### Conclusion\n",
        "\n",
        "With these findings we can give some insights and answer the question to the core business task: Indentify the differences between \"Casual\" and \"Member\" users.\n",
        "\n",
        "1. Casual users ride on average longer than member users, but member users ride length doesn't fluctuate as much during the week.\n",
        "2. Member users ride more often than casual riders, except on weekends and during the peak of the summer.\n",
        "3. Member users follow predictable paths from and to the city center, whereas Casual users ride closer to leisure areas and follow less predictable paths.\n",
        "\n",
        "Without more information about the users, like age, job, or gender, we can only infer by the data provided.\n",
        "\n",
        "### Suggestion\n",
        "\n",
        "I would suggest focusing on targeting casual users, showing the benefits of becoming a member user, such as making a good environmental impact by using bike sharing to commute to work instead of using other types of transportation, or how much money they can save by becoming members and still use the service for both leisure and other type of activities."
      ]
    },
    {
      "cell_type": "markdown",
      "id": "f79d054f",
      "metadata": {
        "papermill": {
          "duration": 0.022902,
          "end_time": "2023-03-30T20:00:06.658188",
          "exception": false,
          "start_time": "2023-03-30T20:00:06.635286",
          "status": "completed"
        },
        "tags": [],
        "id": "f79d054f"
      },
      "source": [
        "Thanks for reading my case study. I hope you found it useful, and any comments are welcome."
      ]
    },
    {
      "cell_type": "code",
      "source": [
        "# Assuming df is your cleaned DataFrame\n",
        "df.to_csv('/content/cleaned_data.csv', index=False)\n"
      ],
      "metadata": {
        "id": "HhVVMUaPpALo"
      },
      "id": "HhVVMUaPpALo",
      "execution_count": 42,
      "outputs": []
    },
    {
      "cell_type": "code",
      "source": [
        "from IPython.display import FileLink\n",
        "\n",
        "# Provide a link to the saved CSV file\n",
        "display(FileLink('/content/cleaned_data.csv'))\n"
      ],
      "metadata": {
        "colab": {
          "base_uri": "https://localhost:8080/",
          "height": 34
        },
        "id": "ixxyHj0GpEwk",
        "outputId": "986cf5b4-855d-4dfc-aa4c-9c9d1e656d4f"
      },
      "id": "ixxyHj0GpEwk",
      "execution_count": 43,
      "outputs": [
        {
          "output_type": "display_data",
          "data": {
            "text/plain": [
              "/content/cleaned_data.csv"
            ],
            "text/html": [
              "<a href='/content/cleaned_data.csv' target='_blank'>/content/cleaned_data.csv</a><br>"
            ]
          },
          "metadata": {}
        }
      ]
    }
  ],
  "metadata": {
    "kernelspec": {
      "display_name": "Python 3",
      "language": "python",
      "name": "python3"
    },
    "language_info": {
      "codemirror_mode": {
        "name": "ipython",
        "version": 3
      },
      "file_extension": ".py",
      "mimetype": "text/x-python",
      "name": "python",
      "nbconvert_exporter": "python",
      "pygments_lexer": "ipython3",
      "version": "3.7.12"
    },
    "papermill": {
      "default_parameters": {},
      "duration": 94.108849,
      "end_time": "2023-03-30T20:00:09.301151",
      "environment_variables": {},
      "exception": null,
      "input_path": "__notebook__.ipynb",
      "output_path": "__notebook__.ipynb",
      "parameters": {},
      "start_time": "2023-03-30T19:58:35.192302",
      "version": "2.4.0"
    },
    "colab": {
      "provenance": []
    }
  },
  "nbformat": 4,
  "nbformat_minor": 5
}